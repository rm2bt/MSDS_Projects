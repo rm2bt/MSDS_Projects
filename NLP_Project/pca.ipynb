{
 "cells": [
  {
   "cell_type": "markdown",
   "source": [
    "pca"
   ],
   "metadata": {}
  },
  {
   "cell_type": "code",
   "execution_count": 1,
   "source": [
    "OHCO = ['genre','author','book_id','chap_num','para_num','sent_num','token_num']\n",
    "\n",
    "SENTS = OHCO[:6]\n",
    "PARAS = OHCO[:5]\n",
    "CHAPS = OHCO[:4]\n",
    "BOOKS = OHCO[:3]\n",
    "AUTHOR = OHCO[:2]\n",
    "GENRE = OHCO[:1]"
   ],
   "outputs": [],
   "metadata": {}
  },
  {
   "cell_type": "code",
   "execution_count": 2,
   "source": [
    "count_method = 'n' # 'c' or 'n' # n = n tokens, c = distinct token (term) count\n",
    "tf_method = 'sum' # sum, max, log, double_norm, raw, binary\n",
    "tf_norm_k = .5 # only used for double_norm\n",
    "idf_method = 'standard' # standard, max, smooth\n",
    "gradient_cmap = 'YlGnBu' # YlGn, GnBu, YlGnBu; For tables; see https://matplotlib.org/3.1.0/tutorials/colors/colormaps.html "
   ],
   "outputs": [],
   "metadata": {}
  },
  {
   "cell_type": "code",
   "execution_count": 3,
   "source": [
    "import pandas as pd\n",
    "import numpy as np\n",
    "from sklearn.decomposition import PCA\n",
    "from scipy.linalg import norm\n",
    "\n",
    "import seaborn as sns\n",
    "\n",
    "sns.set(style='ticks')\n",
    "%matplotlib inline"
   ],
   "outputs": [],
   "metadata": {}
  },
  {
   "cell_type": "code",
   "execution_count": 4,
   "source": [
    "LIB = pd.read_csv('LIB.csv')\n",
    "VOCAB = pd.read_csv('VOCAB2.csv').set_index('term_id')\n",
    "TOKENS = pd.read_csv('TOKEN2.csv')"
   ],
   "outputs": [],
   "metadata": {}
  },
  {
   "cell_type": "code",
   "execution_count": 5,
   "source": [
    "TOKENS = pd.merge(TOKENS,LIB, how = 'inner', on = 'book_id')"
   ],
   "outputs": [],
   "metadata": {}
  },
  {
   "cell_type": "code",
   "execution_count": 6,
   "source": [
    "genre = [(141,'n'),(121,'n'), (42671,'n')]\n",
    "genre_df = pd.DataFrame(genre,columns=('book_id','genre')).set_index('book_id')"
   ],
   "outputs": [],
   "metadata": {}
  },
  {
   "cell_type": "code",
   "execution_count": 7,
   "source": [
    "LIB = pd.merge(LIB,genre_df, how = 'inner', on = 'book_id')"
   ],
   "outputs": [],
   "metadata": {}
  },
  {
   "cell_type": "code",
   "execution_count": 8,
   "source": [
    "TOKENS = pd.merge(TOKENS,genre_df, how = 'inner', on = 'book_id')"
   ],
   "outputs": [],
   "metadata": {}
  },
  {
   "cell_type": "code",
   "execution_count": 9,
   "source": [
    "TOKENS.set_index(OHCO)"
   ],
   "outputs": [
    {
     "output_type": "execute_result",
     "data": {
      "text/plain": [
       "                                                                         pos_tuple  \\\n",
       "genre author book_id chap_num para_num sent_num token_num                            \n",
       "n     austen 141     49       1        0        0                  ('About', 'IN')   \n",
       "                                                1                 ('thirty', 'CD')   \n",
       "                                                2                 ('years', 'NNS')   \n",
       "                                                3                    ('ago', 'RB')   \n",
       "                                                4                  ('Miss', 'NNP')   \n",
       "...                                                                            ...   \n",
       "             42671   61       19       0        4             ('GUTENBERG', 'NNP')   \n",
       "                                                5                 ('EBOOK', 'NNP')   \n",
       "                                                6                 ('PRIDE', 'NNP')   \n",
       "                                                7                   ('AND', 'NNP')   \n",
       "                                                8          ('PREJUDICE***', 'NNP')   \n",
       "\n",
       "                                                           pos     token_str  \\\n",
       "genre author book_id chap_num para_num sent_num token_num                      \n",
       "n     austen 141     49       1        0        0           IN         About   \n",
       "                                                1           CD        thirty   \n",
       "                                                2          NNS         years   \n",
       "                                                3           RB           ago   \n",
       "                                                4          NNP          Miss   \n",
       "...                                                        ...           ...   \n",
       "             42671   61       19       0        4          NNP     GUTENBERG   \n",
       "                                                5          NNP         EBOOK   \n",
       "                                                6          NNP         PRIDE   \n",
       "                                                7          NNP           AND   \n",
       "                                                8          NNP  PREJUDICE***   \n",
       "\n",
       "                                                            term_str  term_id  \\\n",
       "genre author book_id chap_num para_num sent_num token_num                       \n",
       "n     austen 141     49       1        0        0              about       44   \n",
       "                                                1             thirty    10554   \n",
       "                                                2              years    11832   \n",
       "                                                3                ago      312   \n",
       "                                                4               miss     6704   \n",
       "...                                                              ...      ...   \n",
       "             42671   61       19       0        4          gutenberg     4775   \n",
       "                                                5              ebook     3362   \n",
       "                                                6              pride     8018   \n",
       "                                                7                and      467   \n",
       "                                                8          prejudice     7939   \n",
       "\n",
       "                                                                                            book_title  \\\n",
       "genre author book_id chap_num para_num sent_num token_num                                                \n",
       "n     austen 141     49       1        0        0                       Mansfield Park, by Jane Austen   \n",
       "                                                1                       Mansfield Park, by Jane Austen   \n",
       "                                                2                       Mansfield Park, by Jane Austen   \n",
       "                                                3                       Mansfield Park, by Jane Austen   \n",
       "                                                4                       Mansfield Park, by Jane Austen   \n",
       "...                                                                                                ...   \n",
       "             42671   61       19       0        4          Pride and Prejudice, by Jane Austen, Edited   \n",
       "                                                5          Pride and Prejudice, by Jane Austen, Edited   \n",
       "                                                6          Pride and Prejudice, by Jane Austen, Edited   \n",
       "                                                7          Pride and Prejudice, by Jane Austen, Edited   \n",
       "                                                8          Pride and Prejudice, by Jane Austen, Edited   \n",
       "\n",
       "                                                                                                   book_file  \\\n",
       "genre author book_id chap_num para_num sent_num token_num                                                      \n",
       "n     austen 141     49       1        0        0                 epubs/AUSTEN_JANE_MANSFIELD_PARK-pg141.txt   \n",
       "                                                1                 epubs/AUSTEN_JANE_MANSFIELD_PARK-pg141.txt   \n",
       "                                                2                 epubs/AUSTEN_JANE_MANSFIELD_PARK-pg141.txt   \n",
       "                                                3                 epubs/AUSTEN_JANE_MANSFIELD_PARK-pg141.txt   \n",
       "                                                4                 epubs/AUSTEN_JANE_MANSFIELD_PARK-pg141.txt   \n",
       "...                                                                                                      ...   \n",
       "             42671   61       19       0        4          epubs/AUSTEN_JANE_PRIDE_AND_PREJUDICE-pg42671.txt   \n",
       "                                                5          epubs/AUSTEN_JANE_PRIDE_AND_PREJUDICE-pg42671.txt   \n",
       "                                                6          epubs/AUSTEN_JANE_PRIDE_AND_PREJUDICE-pg42671.txt   \n",
       "                                                7          epubs/AUSTEN_JANE_PRIDE_AND_PREJUDICE-pg42671.txt   \n",
       "                                                8          epubs/AUSTEN_JANE_PRIDE_AND_PREJUDICE-pg42671.txt   \n",
       "\n",
       "                                                                         title  \\\n",
       "genre author book_id chap_num para_num sent_num token_num                        \n",
       "n     austen 141     49       1        0        0               Mansfield Park   \n",
       "                                                1               Mansfield Park   \n",
       "                                                2               Mansfield Park   \n",
       "                                                3               Mansfield Park   \n",
       "                                                4               Mansfield Park   \n",
       "...                                                                        ...   \n",
       "             42671   61       19       0        4          Pride and Prejudice   \n",
       "                                                5          Pride and Prejudice   \n",
       "                                                6          Pride and Prejudice   \n",
       "                                                7          Pride and Prejudice   \n",
       "                                                8          Pride and Prejudice   \n",
       "\n",
       "                                                           year  \n",
       "genre author book_id chap_num para_num sent_num token_num        \n",
       "n     austen 141     49       1        0        0          1814  \n",
       "                                                1          1814  \n",
       "                                                2          1814  \n",
       "                                                3          1814  \n",
       "                                                4          1814  \n",
       "...                                                         ...  \n",
       "             42671   61       19       0        4          1813  \n",
       "                                                5          1813  \n",
       "                                                6          1813  \n",
       "                                                7          1813  \n",
       "                                                8          1813  \n",
       "\n",
       "[358981 rows x 9 columns]"
      ],
      "text/html": [
       "<div>\n",
       "<style scoped>\n",
       "    .dataframe tbody tr th:only-of-type {\n",
       "        vertical-align: middle;\n",
       "    }\n",
       "\n",
       "    .dataframe tbody tr th {\n",
       "        vertical-align: top;\n",
       "    }\n",
       "\n",
       "    .dataframe thead th {\n",
       "        text-align: right;\n",
       "    }\n",
       "</style>\n",
       "<table border=\"1\" class=\"dataframe\">\n",
       "  <thead>\n",
       "    <tr style=\"text-align: right;\">\n",
       "      <th></th>\n",
       "      <th></th>\n",
       "      <th></th>\n",
       "      <th></th>\n",
       "      <th></th>\n",
       "      <th></th>\n",
       "      <th></th>\n",
       "      <th>pos_tuple</th>\n",
       "      <th>pos</th>\n",
       "      <th>token_str</th>\n",
       "      <th>term_str</th>\n",
       "      <th>term_id</th>\n",
       "      <th>book_title</th>\n",
       "      <th>book_file</th>\n",
       "      <th>title</th>\n",
       "      <th>year</th>\n",
       "    </tr>\n",
       "    <tr>\n",
       "      <th>genre</th>\n",
       "      <th>author</th>\n",
       "      <th>book_id</th>\n",
       "      <th>chap_num</th>\n",
       "      <th>para_num</th>\n",
       "      <th>sent_num</th>\n",
       "      <th>token_num</th>\n",
       "      <th></th>\n",
       "      <th></th>\n",
       "      <th></th>\n",
       "      <th></th>\n",
       "      <th></th>\n",
       "      <th></th>\n",
       "      <th></th>\n",
       "      <th></th>\n",
       "      <th></th>\n",
       "    </tr>\n",
       "  </thead>\n",
       "  <tbody>\n",
       "    <tr>\n",
       "      <th rowspan=\"11\" valign=\"top\">n</th>\n",
       "      <th rowspan=\"11\" valign=\"top\">austen</th>\n",
       "      <th rowspan=\"5\" valign=\"top\">141</th>\n",
       "      <th rowspan=\"5\" valign=\"top\">49</th>\n",
       "      <th rowspan=\"5\" valign=\"top\">1</th>\n",
       "      <th rowspan=\"5\" valign=\"top\">0</th>\n",
       "      <th>0</th>\n",
       "      <td>('About', 'IN')</td>\n",
       "      <td>IN</td>\n",
       "      <td>About</td>\n",
       "      <td>about</td>\n",
       "      <td>44</td>\n",
       "      <td>Mansfield Park, by Jane Austen</td>\n",
       "      <td>epubs/AUSTEN_JANE_MANSFIELD_PARK-pg141.txt</td>\n",
       "      <td>Mansfield Park</td>\n",
       "      <td>1814</td>\n",
       "    </tr>\n",
       "    <tr>\n",
       "      <th>1</th>\n",
       "      <td>('thirty', 'CD')</td>\n",
       "      <td>CD</td>\n",
       "      <td>thirty</td>\n",
       "      <td>thirty</td>\n",
       "      <td>10554</td>\n",
       "      <td>Mansfield Park, by Jane Austen</td>\n",
       "      <td>epubs/AUSTEN_JANE_MANSFIELD_PARK-pg141.txt</td>\n",
       "      <td>Mansfield Park</td>\n",
       "      <td>1814</td>\n",
       "    </tr>\n",
       "    <tr>\n",
       "      <th>2</th>\n",
       "      <td>('years', 'NNS')</td>\n",
       "      <td>NNS</td>\n",
       "      <td>years</td>\n",
       "      <td>years</td>\n",
       "      <td>11832</td>\n",
       "      <td>Mansfield Park, by Jane Austen</td>\n",
       "      <td>epubs/AUSTEN_JANE_MANSFIELD_PARK-pg141.txt</td>\n",
       "      <td>Mansfield Park</td>\n",
       "      <td>1814</td>\n",
       "    </tr>\n",
       "    <tr>\n",
       "      <th>3</th>\n",
       "      <td>('ago', 'RB')</td>\n",
       "      <td>RB</td>\n",
       "      <td>ago</td>\n",
       "      <td>ago</td>\n",
       "      <td>312</td>\n",
       "      <td>Mansfield Park, by Jane Austen</td>\n",
       "      <td>epubs/AUSTEN_JANE_MANSFIELD_PARK-pg141.txt</td>\n",
       "      <td>Mansfield Park</td>\n",
       "      <td>1814</td>\n",
       "    </tr>\n",
       "    <tr>\n",
       "      <th>4</th>\n",
       "      <td>('Miss', 'NNP')</td>\n",
       "      <td>NNP</td>\n",
       "      <td>Miss</td>\n",
       "      <td>miss</td>\n",
       "      <td>6704</td>\n",
       "      <td>Mansfield Park, by Jane Austen</td>\n",
       "      <td>epubs/AUSTEN_JANE_MANSFIELD_PARK-pg141.txt</td>\n",
       "      <td>Mansfield Park</td>\n",
       "      <td>1814</td>\n",
       "    </tr>\n",
       "    <tr>\n",
       "      <th>...</th>\n",
       "      <th>...</th>\n",
       "      <th>...</th>\n",
       "      <th>...</th>\n",
       "      <th>...</th>\n",
       "      <td>...</td>\n",
       "      <td>...</td>\n",
       "      <td>...</td>\n",
       "      <td>...</td>\n",
       "      <td>...</td>\n",
       "      <td>...</td>\n",
       "      <td>...</td>\n",
       "      <td>...</td>\n",
       "      <td>...</td>\n",
       "    </tr>\n",
       "    <tr>\n",
       "      <th rowspan=\"5\" valign=\"top\">42671</th>\n",
       "      <th rowspan=\"5\" valign=\"top\">61</th>\n",
       "      <th rowspan=\"5\" valign=\"top\">19</th>\n",
       "      <th rowspan=\"5\" valign=\"top\">0</th>\n",
       "      <th>4</th>\n",
       "      <td>('GUTENBERG', 'NNP')</td>\n",
       "      <td>NNP</td>\n",
       "      <td>GUTENBERG</td>\n",
       "      <td>gutenberg</td>\n",
       "      <td>4775</td>\n",
       "      <td>Pride and Prejudice, by Jane Austen, Edited</td>\n",
       "      <td>epubs/AUSTEN_JANE_PRIDE_AND_PREJUDICE-pg42671.txt</td>\n",
       "      <td>Pride and Prejudice</td>\n",
       "      <td>1813</td>\n",
       "    </tr>\n",
       "    <tr>\n",
       "      <th>5</th>\n",
       "      <td>('EBOOK', 'NNP')</td>\n",
       "      <td>NNP</td>\n",
       "      <td>EBOOK</td>\n",
       "      <td>ebook</td>\n",
       "      <td>3362</td>\n",
       "      <td>Pride and Prejudice, by Jane Austen, Edited</td>\n",
       "      <td>epubs/AUSTEN_JANE_PRIDE_AND_PREJUDICE-pg42671.txt</td>\n",
       "      <td>Pride and Prejudice</td>\n",
       "      <td>1813</td>\n",
       "    </tr>\n",
       "    <tr>\n",
       "      <th>6</th>\n",
       "      <td>('PRIDE', 'NNP')</td>\n",
       "      <td>NNP</td>\n",
       "      <td>PRIDE</td>\n",
       "      <td>pride</td>\n",
       "      <td>8018</td>\n",
       "      <td>Pride and Prejudice, by Jane Austen, Edited</td>\n",
       "      <td>epubs/AUSTEN_JANE_PRIDE_AND_PREJUDICE-pg42671.txt</td>\n",
       "      <td>Pride and Prejudice</td>\n",
       "      <td>1813</td>\n",
       "    </tr>\n",
       "    <tr>\n",
       "      <th>7</th>\n",
       "      <td>('AND', 'NNP')</td>\n",
       "      <td>NNP</td>\n",
       "      <td>AND</td>\n",
       "      <td>and</td>\n",
       "      <td>467</td>\n",
       "      <td>Pride and Prejudice, by Jane Austen, Edited</td>\n",
       "      <td>epubs/AUSTEN_JANE_PRIDE_AND_PREJUDICE-pg42671.txt</td>\n",
       "      <td>Pride and Prejudice</td>\n",
       "      <td>1813</td>\n",
       "    </tr>\n",
       "    <tr>\n",
       "      <th>8</th>\n",
       "      <td>('PREJUDICE***', 'NNP')</td>\n",
       "      <td>NNP</td>\n",
       "      <td>PREJUDICE***</td>\n",
       "      <td>prejudice</td>\n",
       "      <td>7939</td>\n",
       "      <td>Pride and Prejudice, by Jane Austen, Edited</td>\n",
       "      <td>epubs/AUSTEN_JANE_PRIDE_AND_PREJUDICE-pg42671.txt</td>\n",
       "      <td>Pride and Prejudice</td>\n",
       "      <td>1813</td>\n",
       "    </tr>\n",
       "  </tbody>\n",
       "</table>\n",
       "<p>358981 rows × 9 columns</p>\n",
       "</div>"
      ]
     },
     "metadata": {},
     "execution_count": 9
    }
   ],
   "metadata": {}
  },
  {
   "cell_type": "code",
   "execution_count": 10,
   "source": [
    "TOKENS = TOKENS[~TOKENS.term_str.isna()]"
   ],
   "outputs": [],
   "metadata": {}
  },
  {
   "cell_type": "code",
   "execution_count": 11,
   "source": [
    "VOCAB['pos_max'] = TOKENS.groupby(['term_id', 'pos']).pos.count().unstack().idxmax(1)\n",
    "\n",
    "if 'term_rank' not in VOCAB.columns:\n",
    "    VOCAB = VOCAB.sort_values('n', ascending=False).reset_index()\n",
    "    VOCAB.index.name = 'term_rank'\n",
    "    VOCAB = VOCAB.reset_index()\n",
    "    VOCAB = VOCAB.set_index('term_id')\n",
    "    VOCAB['term_rank'] = VOCAB['term_rank'] + 1\n",
    "\n",
    "new_rank = VOCAB.n.value_counts()\\\n",
    "    .sort_index(ascending=False).reset_index().reset_index()\\\n",
    "    .rename(columns={'level_0':'term_rank2', 'index':'n', 'n':'nn'})\\\n",
    "    .set_index('n')\n",
    "\n",
    "VOCAB['term_rank2'] = VOCAB.n.map(new_rank.term_rank2) + 1\n",
    "\n",
    "VOCAB['p'] = VOCAB.n / VOCAB.shape[0]\n",
    "\n",
    "VOCAB['zipf_k'] = VOCAB.n * VOCAB.term_rank\n",
    "VOCAB['zipf_k2'] = VOCAB.n * VOCAB.term_rank2\n",
    "VOCAB['zipf_k3'] = VOCAB.p * VOCAB.term_rank2"
   ],
   "outputs": [],
   "metadata": {}
  },
  {
   "cell_type": "code",
   "execution_count": 12,
   "source": [
    "def TFIDF_Matrix(df,bag,count_type,tf_type,idf_type):\n",
    "\n",
    "    BOW = TOKENS.groupby(bag+['term_id']).term_id.count()\\\n",
    "    .to_frame().rename(columns={'term_id':'n'})\n",
    "\n",
    "    BOW['c'] = BOW.n.astype('bool').astype('int')\n",
    "    \n",
    "    DTCM = BOW[count_method].unstack().fillna(0).astype('int')\n",
    "\n",
    "    if tf_method == 'sum':\n",
    "        TF = DTCM.T / DTCM.T.sum()\n",
    "\n",
    "    elif tf_method == 'max':\n",
    "        TF = DTCM.T / DTCM.T.max()\n",
    "\n",
    "    elif tf_method == 'log':\n",
    "        TF = np.log10(1 + DTCM.T)\n",
    "    \n",
    "    elif tf_method == 'raw':\n",
    "        TF = DTCM.T\n",
    "\n",
    "    elif tf_method == 'double_norm':\n",
    "        TF = DTCM.T / DTCM.T.max()\n",
    "        TF = tf_norm_k + (1 - tf_norm_k) * TF[TF > 0] # EXPLAIN; may defeat purpose of norming\n",
    "\n",
    "    elif tf_method == 'binary':\n",
    "        TF = DTCM.T.astype('bool').astype('int')\n",
    "    \n",
    "    TF = TF.T\n",
    "\n",
    "    DF = DTCM[DTCM > 0].count()\n",
    "\n",
    "    N = DTCM.shape[0]\n",
    "\n",
    "    if idf_method == 'standard':\n",
    "        IDF = np.log10(N / DF)\n",
    "\n",
    "    elif idf_method == 'max':\n",
    "        IDF = np.log10(DF.max() / DF) \n",
    "\n",
    "    elif idf_method == 'smooth':\n",
    "        IDF = np.log10((1 + N) / (1 + DF)) + 1\n",
    "\n",
    "    TFIDF = TF * IDF\n",
    "\n",
    "    VOCAB['df'] = DF\n",
    "    VOCAB['idf'] = IDF\n",
    "\n",
    "    BOW['tf'] = TF.stack()\n",
    "    BOW['tfidf'] = TFIDF.stack()\n",
    "\n",
    "    VOCAB['tfidf_sum'] = TFIDF.sum()\n",
    "\n",
    "    VOCAB.sort_values('tfidf_sum', ascending=False).head(20).style.background_gradient\\\n",
    "        (cmap=gradient_cmap, high=1)\n",
    "\n",
    "    VOCAB[['term_rank','term_str','pos_max','tfidf_sum']]\\\n",
    "        .sort_values('tfidf_sum', ascending=False).head(50)\\\n",
    "        .style.background_gradient(cmap=gradient_cmap, high=1)\n",
    "\n",
    "    VOCAB.loc[VOCAB.pos_max != 'NNP', ['term_rank','term_str','pos_max','tfidf_sum']]\\\n",
    "        .sort_values('tfidf_sum', ascending=False)\\\n",
    "        .head(50).style.background_gradient(cmap=gradient_cmap, high=1)\n",
    "    \n",
    "    BOW = BOW.join(VOCAB[['term_str','pos_max']], on='term_id')\n",
    "\n",
    "    BOW.sort_values('tfidf', ascending=False).head(20)\\\n",
    "        .style.background_gradient(cmap=gradient_cmap, high=1)\n",
    "\n",
    "    return TFIDF"
   ],
   "outputs": [],
   "metadata": {}
  },
  {
   "cell_type": "code",
   "execution_count": 13,
   "source": [
    "def BOW_Matrix(df,bag,count_type,tf_type,idf_type):\n",
    "\n",
    "    BOW = TOKENS.groupby(bag+['term_id']).term_id.count()\\\n",
    "    .to_frame().rename(columns={'term_id':'n'})\n",
    "\n",
    "    BOW['c'] = BOW.n.astype('bool').astype('int')\n",
    "    \n",
    "    DTCM = BOW[count_method].unstack().fillna(0).astype('int')\n",
    "\n",
    "    if tf_method == 'sum':\n",
    "        TF = DTCM.T / DTCM.T.sum()\n",
    "\n",
    "    elif tf_method == 'max':\n",
    "        TF = DTCM.T / DTCM.T.max()\n",
    "\n",
    "    elif tf_method == 'log':\n",
    "        TF = np.log10(1 + DTCM.T)\n",
    "    \n",
    "    elif tf_method == 'raw':\n",
    "        TF = DTCM.T\n",
    "\n",
    "    elif tf_method == 'double_norm':\n",
    "        TF = DTCM.T / DTCM.T.max()\n",
    "        TF = tf_norm_k + (1 - tf_norm_k) * TF[TF > 0] # EXPLAIN; may defeat purpose of norming\n",
    "\n",
    "    elif tf_method == 'binary':\n",
    "        TF = DTCM.T.astype('bool').astype('int')\n",
    "    \n",
    "    TF = TF.T\n",
    "\n",
    "    DF = DTCM[DTCM > 0].count()\n",
    "\n",
    "    N = DTCM.shape[0]\n",
    "\n",
    "    if idf_method == 'standard':\n",
    "        IDF = np.log10(N / DF)\n",
    "\n",
    "    elif idf_method == 'max':\n",
    "        IDF = np.log10(DF.max() / DF) \n",
    "\n",
    "    elif idf_method == 'smooth':\n",
    "        IDF = np.log10((1 + N) / (1 + DF)) + 1\n",
    "\n",
    "    TFIDF = TF * IDF\n",
    "\n",
    "    VOCAB['df'] = DF\n",
    "    VOCAB['idf'] = IDF\n",
    "\n",
    "    BOW['tf'] = TF.stack()\n",
    "    BOW['tfidf'] = TFIDF.stack()\n",
    "\n",
    "    VOCAB['tfidf_sum'] = TFIDF.sum()\n",
    "\n",
    "    VOCAB.sort_values('tfidf_sum', ascending=False).head(20).style.background_gradient\\\n",
    "        (cmap=gradient_cmap, high=1)\n",
    "\n",
    "    VOCAB[['term_rank','term_str','pos_max','tfidf_sum']]\\\n",
    "        .sort_values('tfidf_sum', ascending=False).head(50)\\\n",
    "        .style.background_gradient(cmap=gradient_cmap, high=1)\n",
    "\n",
    "    VOCAB.loc[VOCAB.pos_max != 'NNP', ['term_rank','term_str','pos_max','tfidf_sum']]\\\n",
    "        .sort_values('tfidf_sum', ascending=False)\\\n",
    "        .head(50).style.background_gradient(cmap=gradient_cmap, high=1)\n",
    "    \n",
    "    BOW = BOW.join(VOCAB[['term_str','pos_max']], on='term_id')\n",
    "\n",
    "    BOW.sort_values('tfidf', ascending=False).head(20)\\\n",
    "        .style.background_gradient(cmap=gradient_cmap, high=1)\n",
    "\n",
    "    return BOW\n",
    "    "
   ],
   "outputs": [],
   "metadata": {}
  },
  {
   "cell_type": "code",
   "execution_count": 14,
   "source": [
    "TFIDF = TFIDF_Matrix(TOKENS,BOOKS,count_method,tf_method,idf_method)"
   ],
   "outputs": [],
   "metadata": {}
  },
  {
   "cell_type": "code",
   "execution_count": 15,
   "source": [
    "BOW = BOW_Matrix(TOKENS,BOOKS,count_method,tf_method,idf_method)"
   ],
   "outputs": [],
   "metadata": {}
  },
  {
   "cell_type": "code",
   "execution_count": 16,
   "source": [
    "TFIDF"
   ],
   "outputs": [
    {
     "output_type": "execute_result",
     "data": {
      "text/plain": [
       "term_id                  1         2         3         4         5      \\\n",
       "genre author book_id                                                     \n",
       "n     austen 121      0.000006  0.000000  0.000000  0.000000  0.000006   \n",
       "             141      0.000000  0.000009  0.000006  0.000000  0.000000   \n",
       "             42671    0.000000  0.000000  0.000000  0.000004  0.000000   \n",
       "\n",
       "term_id                  6         7         8         9         10     ...  \\\n",
       "genre author book_id                                                    ...   \n",
       "n     austen 121      0.000012  0.000000  0.000006  0.000006  0.000000  ...   \n",
       "             141      0.000000  0.000000  0.000000  0.000000  0.000000  ...   \n",
       "             42671    0.000000  0.000008  0.000000  0.000000  0.000004  ...   \n",
       "\n",
       "term_id               11873     11874  11875  11876     11877     11878  \\\n",
       "genre author book_id                                                      \n",
       "n     austen 121        0.0  0.000000    0.0    0.0  0.000012  0.000000   \n",
       "             141        0.0  0.000000    0.0    0.0  0.000000  0.000000   \n",
       "             42671      0.0  0.000004    0.0    0.0  0.000000  0.000004   \n",
       "\n",
       "term_id                  11879     11880     11881     11882  \n",
       "genre author book_id                                          \n",
       "n     austen 121      0.000000  0.000000  0.000000  0.000000  \n",
       "             141      0.000000  0.000015  0.000003  0.000003  \n",
       "             42671    0.000004  0.000000  0.000000  0.000000  \n",
       "\n",
       "[3 rows x 11882 columns]"
      ],
      "text/html": [
       "<div>\n",
       "<style scoped>\n",
       "    .dataframe tbody tr th:only-of-type {\n",
       "        vertical-align: middle;\n",
       "    }\n",
       "\n",
       "    .dataframe tbody tr th {\n",
       "        vertical-align: top;\n",
       "    }\n",
       "\n",
       "    .dataframe thead th {\n",
       "        text-align: right;\n",
       "    }\n",
       "</style>\n",
       "<table border=\"1\" class=\"dataframe\">\n",
       "  <thead>\n",
       "    <tr style=\"text-align: right;\">\n",
       "      <th></th>\n",
       "      <th></th>\n",
       "      <th>term_id</th>\n",
       "      <th>1</th>\n",
       "      <th>2</th>\n",
       "      <th>3</th>\n",
       "      <th>4</th>\n",
       "      <th>5</th>\n",
       "      <th>6</th>\n",
       "      <th>7</th>\n",
       "      <th>8</th>\n",
       "      <th>9</th>\n",
       "      <th>10</th>\n",
       "      <th>...</th>\n",
       "      <th>11873</th>\n",
       "      <th>11874</th>\n",
       "      <th>11875</th>\n",
       "      <th>11876</th>\n",
       "      <th>11877</th>\n",
       "      <th>11878</th>\n",
       "      <th>11879</th>\n",
       "      <th>11880</th>\n",
       "      <th>11881</th>\n",
       "      <th>11882</th>\n",
       "    </tr>\n",
       "    <tr>\n",
       "      <th>genre</th>\n",
       "      <th>author</th>\n",
       "      <th>book_id</th>\n",
       "      <th></th>\n",
       "      <th></th>\n",
       "      <th></th>\n",
       "      <th></th>\n",
       "      <th></th>\n",
       "      <th></th>\n",
       "      <th></th>\n",
       "      <th></th>\n",
       "      <th></th>\n",
       "      <th></th>\n",
       "      <th></th>\n",
       "      <th></th>\n",
       "      <th></th>\n",
       "      <th></th>\n",
       "      <th></th>\n",
       "      <th></th>\n",
       "      <th></th>\n",
       "      <th></th>\n",
       "      <th></th>\n",
       "      <th></th>\n",
       "      <th></th>\n",
       "    </tr>\n",
       "  </thead>\n",
       "  <tbody>\n",
       "    <tr>\n",
       "      <th rowspan=\"3\" valign=\"top\">n</th>\n",
       "      <th rowspan=\"3\" valign=\"top\">austen</th>\n",
       "      <th>121</th>\n",
       "      <td>0.000006</td>\n",
       "      <td>0.000000</td>\n",
       "      <td>0.000000</td>\n",
       "      <td>0.000000</td>\n",
       "      <td>0.000006</td>\n",
       "      <td>0.000012</td>\n",
       "      <td>0.000000</td>\n",
       "      <td>0.000006</td>\n",
       "      <td>0.000006</td>\n",
       "      <td>0.000000</td>\n",
       "      <td>...</td>\n",
       "      <td>0.0</td>\n",
       "      <td>0.000000</td>\n",
       "      <td>0.0</td>\n",
       "      <td>0.0</td>\n",
       "      <td>0.000012</td>\n",
       "      <td>0.000000</td>\n",
       "      <td>0.000000</td>\n",
       "      <td>0.000000</td>\n",
       "      <td>0.000000</td>\n",
       "      <td>0.000000</td>\n",
       "    </tr>\n",
       "    <tr>\n",
       "      <th>141</th>\n",
       "      <td>0.000000</td>\n",
       "      <td>0.000009</td>\n",
       "      <td>0.000006</td>\n",
       "      <td>0.000000</td>\n",
       "      <td>0.000000</td>\n",
       "      <td>0.000000</td>\n",
       "      <td>0.000000</td>\n",
       "      <td>0.000000</td>\n",
       "      <td>0.000000</td>\n",
       "      <td>0.000000</td>\n",
       "      <td>...</td>\n",
       "      <td>0.0</td>\n",
       "      <td>0.000000</td>\n",
       "      <td>0.0</td>\n",
       "      <td>0.0</td>\n",
       "      <td>0.000000</td>\n",
       "      <td>0.000000</td>\n",
       "      <td>0.000000</td>\n",
       "      <td>0.000015</td>\n",
       "      <td>0.000003</td>\n",
       "      <td>0.000003</td>\n",
       "    </tr>\n",
       "    <tr>\n",
       "      <th>42671</th>\n",
       "      <td>0.000000</td>\n",
       "      <td>0.000000</td>\n",
       "      <td>0.000000</td>\n",
       "      <td>0.000004</td>\n",
       "      <td>0.000000</td>\n",
       "      <td>0.000000</td>\n",
       "      <td>0.000008</td>\n",
       "      <td>0.000000</td>\n",
       "      <td>0.000000</td>\n",
       "      <td>0.000004</td>\n",
       "      <td>...</td>\n",
       "      <td>0.0</td>\n",
       "      <td>0.000004</td>\n",
       "      <td>0.0</td>\n",
       "      <td>0.0</td>\n",
       "      <td>0.000000</td>\n",
       "      <td>0.000004</td>\n",
       "      <td>0.000004</td>\n",
       "      <td>0.000000</td>\n",
       "      <td>0.000000</td>\n",
       "      <td>0.000000</td>\n",
       "    </tr>\n",
       "  </tbody>\n",
       "</table>\n",
       "<p>3 rows × 11882 columns</p>\n",
       "</div>"
      ]
     },
     "metadata": {},
     "execution_count": 16
    }
   ],
   "metadata": {}
  },
  {
   "cell_type": "code",
   "execution_count": 17,
   "source": [
    "BOW"
   ],
   "outputs": [
    {
     "output_type": "execute_result",
     "data": {
      "text/plain": [
       "                              n  c        tf     tfidf     term_str pos_max\n",
       "genre author book_id term_id                                               \n",
       "n     austen 121     1        1  1  0.000013  0.000006            1      JJ\n",
       "                     5        1  1  0.000013  0.000006       179798      JJ\n",
       "                     6        2  1  0.000026  0.000012         1803      CD\n",
       "                     8        1  1  0.000013  0.000006         1816      CD\n",
       "                     9        1  1  0.000013  0.000006         1818      CD\n",
       "...                          .. ..       ...       ...          ...     ...\n",
       "             42671   11874    1  1  0.000008  0.000004  yourselfand      NN\n",
       "                     11875    2  1  0.000016  0.000000   yourselves      NN\n",
       "                     11876    9  1  0.000074  0.000000        youth      NN\n",
       "                     11878    1  1  0.000008  0.000004       youths     NNS\n",
       "                     11879    1  1  0.000008  0.000004      youwill      VB\n",
       "\n",
       "[21107 rows x 6 columns]"
      ],
      "text/html": [
       "<div>\n",
       "<style scoped>\n",
       "    .dataframe tbody tr th:only-of-type {\n",
       "        vertical-align: middle;\n",
       "    }\n",
       "\n",
       "    .dataframe tbody tr th {\n",
       "        vertical-align: top;\n",
       "    }\n",
       "\n",
       "    .dataframe thead th {\n",
       "        text-align: right;\n",
       "    }\n",
       "</style>\n",
       "<table border=\"1\" class=\"dataframe\">\n",
       "  <thead>\n",
       "    <tr style=\"text-align: right;\">\n",
       "      <th></th>\n",
       "      <th></th>\n",
       "      <th></th>\n",
       "      <th></th>\n",
       "      <th>n</th>\n",
       "      <th>c</th>\n",
       "      <th>tf</th>\n",
       "      <th>tfidf</th>\n",
       "      <th>term_str</th>\n",
       "      <th>pos_max</th>\n",
       "    </tr>\n",
       "    <tr>\n",
       "      <th>genre</th>\n",
       "      <th>author</th>\n",
       "      <th>book_id</th>\n",
       "      <th>term_id</th>\n",
       "      <th></th>\n",
       "      <th></th>\n",
       "      <th></th>\n",
       "      <th></th>\n",
       "      <th></th>\n",
       "      <th></th>\n",
       "    </tr>\n",
       "  </thead>\n",
       "  <tbody>\n",
       "    <tr>\n",
       "      <th rowspan=\"11\" valign=\"top\">n</th>\n",
       "      <th rowspan=\"11\" valign=\"top\">austen</th>\n",
       "      <th rowspan=\"5\" valign=\"top\">121</th>\n",
       "      <th>1</th>\n",
       "      <td>1</td>\n",
       "      <td>1</td>\n",
       "      <td>0.000013</td>\n",
       "      <td>0.000006</td>\n",
       "      <td>1</td>\n",
       "      <td>JJ</td>\n",
       "    </tr>\n",
       "    <tr>\n",
       "      <th>5</th>\n",
       "      <td>1</td>\n",
       "      <td>1</td>\n",
       "      <td>0.000013</td>\n",
       "      <td>0.000006</td>\n",
       "      <td>179798</td>\n",
       "      <td>JJ</td>\n",
       "    </tr>\n",
       "    <tr>\n",
       "      <th>6</th>\n",
       "      <td>2</td>\n",
       "      <td>1</td>\n",
       "      <td>0.000026</td>\n",
       "      <td>0.000012</td>\n",
       "      <td>1803</td>\n",
       "      <td>CD</td>\n",
       "    </tr>\n",
       "    <tr>\n",
       "      <th>8</th>\n",
       "      <td>1</td>\n",
       "      <td>1</td>\n",
       "      <td>0.000013</td>\n",
       "      <td>0.000006</td>\n",
       "      <td>1816</td>\n",
       "      <td>CD</td>\n",
       "    </tr>\n",
       "    <tr>\n",
       "      <th>9</th>\n",
       "      <td>1</td>\n",
       "      <td>1</td>\n",
       "      <td>0.000013</td>\n",
       "      <td>0.000006</td>\n",
       "      <td>1818</td>\n",
       "      <td>CD</td>\n",
       "    </tr>\n",
       "    <tr>\n",
       "      <th>...</th>\n",
       "      <th>...</th>\n",
       "      <td>...</td>\n",
       "      <td>...</td>\n",
       "      <td>...</td>\n",
       "      <td>...</td>\n",
       "      <td>...</td>\n",
       "      <td>...</td>\n",
       "    </tr>\n",
       "    <tr>\n",
       "      <th rowspan=\"5\" valign=\"top\">42671</th>\n",
       "      <th>11874</th>\n",
       "      <td>1</td>\n",
       "      <td>1</td>\n",
       "      <td>0.000008</td>\n",
       "      <td>0.000004</td>\n",
       "      <td>yourselfand</td>\n",
       "      <td>NN</td>\n",
       "    </tr>\n",
       "    <tr>\n",
       "      <th>11875</th>\n",
       "      <td>2</td>\n",
       "      <td>1</td>\n",
       "      <td>0.000016</td>\n",
       "      <td>0.000000</td>\n",
       "      <td>yourselves</td>\n",
       "      <td>NN</td>\n",
       "    </tr>\n",
       "    <tr>\n",
       "      <th>11876</th>\n",
       "      <td>9</td>\n",
       "      <td>1</td>\n",
       "      <td>0.000074</td>\n",
       "      <td>0.000000</td>\n",
       "      <td>youth</td>\n",
       "      <td>NN</td>\n",
       "    </tr>\n",
       "    <tr>\n",
       "      <th>11878</th>\n",
       "      <td>1</td>\n",
       "      <td>1</td>\n",
       "      <td>0.000008</td>\n",
       "      <td>0.000004</td>\n",
       "      <td>youths</td>\n",
       "      <td>NNS</td>\n",
       "    </tr>\n",
       "    <tr>\n",
       "      <th>11879</th>\n",
       "      <td>1</td>\n",
       "      <td>1</td>\n",
       "      <td>0.000008</td>\n",
       "      <td>0.000004</td>\n",
       "      <td>youwill</td>\n",
       "      <td>VB</td>\n",
       "    </tr>\n",
       "  </tbody>\n",
       "</table>\n",
       "<p>21107 rows × 6 columns</p>\n",
       "</div>"
      ]
     },
     "metadata": {},
     "execution_count": 17
    }
   ],
   "metadata": {}
  },
  {
   "cell_type": "code",
   "execution_count": 18,
   "source": [
    "DTCM = BOW[count_method].unstack().fillna(0).astype('int')"
   ],
   "outputs": [],
   "metadata": {}
  },
  {
   "cell_type": "code",
   "execution_count": 19,
   "source": [
    "DTCM.head(10)"
   ],
   "outputs": [
    {
     "output_type": "execute_result",
     "data": {
      "text/plain": [
       "term_id               1      2      3      4      5      6      7      8      \\\n",
       "genre author book_id                                                           \n",
       "n     austen 121          1      0      0      0      1      2      0      1   \n",
       "             141          0      3      2      0      0      0      0      0   \n",
       "             42671        0      0      0      1      0      0      2      0   \n",
       "\n",
       "term_id               9      10     ...  11873  11874  11875  11876  11877  \\\n",
       "genre author book_id                ...                                      \n",
       "n     austen 121          1      0  ...     22      0      1      4      2   \n",
       "             141          0      0  ...     58      0      3      6      0   \n",
       "             42671        0      1  ...     49      1      2      9      0   \n",
       "\n",
       "term_id               11878  11879  11880  11881  11882  \n",
       "genre author book_id                                     \n",
       "n     austen 121          0      0      0      0      0  \n",
       "             141          0      0      5      1      1  \n",
       "             42671        1      1      0      0      0  \n",
       "\n",
       "[3 rows x 11882 columns]"
      ],
      "text/html": [
       "<div>\n",
       "<style scoped>\n",
       "    .dataframe tbody tr th:only-of-type {\n",
       "        vertical-align: middle;\n",
       "    }\n",
       "\n",
       "    .dataframe tbody tr th {\n",
       "        vertical-align: top;\n",
       "    }\n",
       "\n",
       "    .dataframe thead th {\n",
       "        text-align: right;\n",
       "    }\n",
       "</style>\n",
       "<table border=\"1\" class=\"dataframe\">\n",
       "  <thead>\n",
       "    <tr style=\"text-align: right;\">\n",
       "      <th></th>\n",
       "      <th></th>\n",
       "      <th>term_id</th>\n",
       "      <th>1</th>\n",
       "      <th>2</th>\n",
       "      <th>3</th>\n",
       "      <th>4</th>\n",
       "      <th>5</th>\n",
       "      <th>6</th>\n",
       "      <th>7</th>\n",
       "      <th>8</th>\n",
       "      <th>9</th>\n",
       "      <th>10</th>\n",
       "      <th>...</th>\n",
       "      <th>11873</th>\n",
       "      <th>11874</th>\n",
       "      <th>11875</th>\n",
       "      <th>11876</th>\n",
       "      <th>11877</th>\n",
       "      <th>11878</th>\n",
       "      <th>11879</th>\n",
       "      <th>11880</th>\n",
       "      <th>11881</th>\n",
       "      <th>11882</th>\n",
       "    </tr>\n",
       "    <tr>\n",
       "      <th>genre</th>\n",
       "      <th>author</th>\n",
       "      <th>book_id</th>\n",
       "      <th></th>\n",
       "      <th></th>\n",
       "      <th></th>\n",
       "      <th></th>\n",
       "      <th></th>\n",
       "      <th></th>\n",
       "      <th></th>\n",
       "      <th></th>\n",
       "      <th></th>\n",
       "      <th></th>\n",
       "      <th></th>\n",
       "      <th></th>\n",
       "      <th></th>\n",
       "      <th></th>\n",
       "      <th></th>\n",
       "      <th></th>\n",
       "      <th></th>\n",
       "      <th></th>\n",
       "      <th></th>\n",
       "      <th></th>\n",
       "      <th></th>\n",
       "    </tr>\n",
       "  </thead>\n",
       "  <tbody>\n",
       "    <tr>\n",
       "      <th rowspan=\"3\" valign=\"top\">n</th>\n",
       "      <th rowspan=\"3\" valign=\"top\">austen</th>\n",
       "      <th>121</th>\n",
       "      <td>1</td>\n",
       "      <td>0</td>\n",
       "      <td>0</td>\n",
       "      <td>0</td>\n",
       "      <td>1</td>\n",
       "      <td>2</td>\n",
       "      <td>0</td>\n",
       "      <td>1</td>\n",
       "      <td>1</td>\n",
       "      <td>0</td>\n",
       "      <td>...</td>\n",
       "      <td>22</td>\n",
       "      <td>0</td>\n",
       "      <td>1</td>\n",
       "      <td>4</td>\n",
       "      <td>2</td>\n",
       "      <td>0</td>\n",
       "      <td>0</td>\n",
       "      <td>0</td>\n",
       "      <td>0</td>\n",
       "      <td>0</td>\n",
       "    </tr>\n",
       "    <tr>\n",
       "      <th>141</th>\n",
       "      <td>0</td>\n",
       "      <td>3</td>\n",
       "      <td>2</td>\n",
       "      <td>0</td>\n",
       "      <td>0</td>\n",
       "      <td>0</td>\n",
       "      <td>0</td>\n",
       "      <td>0</td>\n",
       "      <td>0</td>\n",
       "      <td>0</td>\n",
       "      <td>...</td>\n",
       "      <td>58</td>\n",
       "      <td>0</td>\n",
       "      <td>3</td>\n",
       "      <td>6</td>\n",
       "      <td>0</td>\n",
       "      <td>0</td>\n",
       "      <td>0</td>\n",
       "      <td>5</td>\n",
       "      <td>1</td>\n",
       "      <td>1</td>\n",
       "    </tr>\n",
       "    <tr>\n",
       "      <th>42671</th>\n",
       "      <td>0</td>\n",
       "      <td>0</td>\n",
       "      <td>0</td>\n",
       "      <td>1</td>\n",
       "      <td>0</td>\n",
       "      <td>0</td>\n",
       "      <td>2</td>\n",
       "      <td>0</td>\n",
       "      <td>0</td>\n",
       "      <td>1</td>\n",
       "      <td>...</td>\n",
       "      <td>49</td>\n",
       "      <td>1</td>\n",
       "      <td>2</td>\n",
       "      <td>9</td>\n",
       "      <td>0</td>\n",
       "      <td>1</td>\n",
       "      <td>1</td>\n",
       "      <td>0</td>\n",
       "      <td>0</td>\n",
       "      <td>0</td>\n",
       "    </tr>\n",
       "  </tbody>\n",
       "</table>\n",
       "<p>3 rows × 11882 columns</p>\n",
       "</div>"
      ]
     },
     "metadata": {},
     "execution_count": 19
    }
   ],
   "metadata": {}
  },
  {
   "cell_type": "code",
   "execution_count": 20,
   "source": [
    "reduced_vocab = VOCAB[VOCAB['tfidf_sum']>0]"
   ],
   "outputs": [],
   "metadata": {}
  },
  {
   "cell_type": "code",
   "execution_count": 21,
   "source": [
    "reduced_vocab"
   ],
   "outputs": [
    {
     "output_type": "execute_result",
     "data": {
      "text/plain": [
       "         term_rank      term_str    n  num  stop     p_stem pos_max  \\\n",
       "term_id                                                               \n",
       "3976            67         fanny  816    0     0      fanni     NNP   \n",
       "3440            90     elizabeth  585    0     0  elizabeth     NNP   \n",
       "1524            95     catherine  538    0     0   catherin     NNP   \n",
       "2402           102      crawford  493    0     0   crawford     NNP   \n",
       "2521           126         darcy  365    0     0      darci     NNP   \n",
       "...            ...           ...  ...  ...   ...        ...     ...   \n",
       "5723         11878    interfered    1    0     0     interf     VBD   \n",
       "5716         11879  intercepting    1    0     0  intercept     VBG   \n",
       "5715         11880     intercept    1    0     0  intercept      VB   \n",
       "5711         11881   intentional    1    0     0     intent      JJ   \n",
       "11882        11882             à    1    0     0          à     NNP   \n",
       "\n",
       "         term_rank2         p  zipf_k  zipf_k2   zipf_k3  df       idf  \\\n",
       "term_id                                                                  \n",
       "3976             67  0.068675   54672    54672  4.601246   1  0.477121   \n",
       "3440             89  0.049234   52650    52065  4.381838   1  0.477121   \n",
       "1524             94  0.045279   51110    50572  4.256186   2  0.176091   \n",
       "2402            101  0.041491   50286    49793  4.190624   1  0.477121   \n",
       "2521            123  0.030719   45990    44895  3.778404   1  0.477121   \n",
       "...             ...       ...     ...      ...       ...  ..       ...   \n",
       "5723            374  0.000084   11878      374  0.031476   1  0.477121   \n",
       "5716            374  0.000084   11879      374  0.031476   1  0.477121   \n",
       "5715            374  0.000084   11880      374  0.031476   1  0.477121   \n",
       "5711            374  0.000084   11881      374  0.031476   1  0.477121   \n",
       "11882           374  0.000084   11882      374  0.031476   1  0.477121   \n",
       "\n",
       "         tfidf_sum  \n",
       "term_id             \n",
       "3976      0.002436  \n",
       "3440      0.002294  \n",
       "1524      0.001132  \n",
       "2402      0.001472  \n",
       "2521      0.001431  \n",
       "...            ...  \n",
       "5723      0.000003  \n",
       "5716      0.000006  \n",
       "5715      0.000003  \n",
       "5711      0.000006  \n",
       "11882     0.000003  \n",
       "\n",
       "[8462 rows x 15 columns]"
      ],
      "text/html": [
       "<div>\n",
       "<style scoped>\n",
       "    .dataframe tbody tr th:only-of-type {\n",
       "        vertical-align: middle;\n",
       "    }\n",
       "\n",
       "    .dataframe tbody tr th {\n",
       "        vertical-align: top;\n",
       "    }\n",
       "\n",
       "    .dataframe thead th {\n",
       "        text-align: right;\n",
       "    }\n",
       "</style>\n",
       "<table border=\"1\" class=\"dataframe\">\n",
       "  <thead>\n",
       "    <tr style=\"text-align: right;\">\n",
       "      <th></th>\n",
       "      <th>term_rank</th>\n",
       "      <th>term_str</th>\n",
       "      <th>n</th>\n",
       "      <th>num</th>\n",
       "      <th>stop</th>\n",
       "      <th>p_stem</th>\n",
       "      <th>pos_max</th>\n",
       "      <th>term_rank2</th>\n",
       "      <th>p</th>\n",
       "      <th>zipf_k</th>\n",
       "      <th>zipf_k2</th>\n",
       "      <th>zipf_k3</th>\n",
       "      <th>df</th>\n",
       "      <th>idf</th>\n",
       "      <th>tfidf_sum</th>\n",
       "    </tr>\n",
       "    <tr>\n",
       "      <th>term_id</th>\n",
       "      <th></th>\n",
       "      <th></th>\n",
       "      <th></th>\n",
       "      <th></th>\n",
       "      <th></th>\n",
       "      <th></th>\n",
       "      <th></th>\n",
       "      <th></th>\n",
       "      <th></th>\n",
       "      <th></th>\n",
       "      <th></th>\n",
       "      <th></th>\n",
       "      <th></th>\n",
       "      <th></th>\n",
       "      <th></th>\n",
       "    </tr>\n",
       "  </thead>\n",
       "  <tbody>\n",
       "    <tr>\n",
       "      <th>3976</th>\n",
       "      <td>67</td>\n",
       "      <td>fanny</td>\n",
       "      <td>816</td>\n",
       "      <td>0</td>\n",
       "      <td>0</td>\n",
       "      <td>fanni</td>\n",
       "      <td>NNP</td>\n",
       "      <td>67</td>\n",
       "      <td>0.068675</td>\n",
       "      <td>54672</td>\n",
       "      <td>54672</td>\n",
       "      <td>4.601246</td>\n",
       "      <td>1</td>\n",
       "      <td>0.477121</td>\n",
       "      <td>0.002436</td>\n",
       "    </tr>\n",
       "    <tr>\n",
       "      <th>3440</th>\n",
       "      <td>90</td>\n",
       "      <td>elizabeth</td>\n",
       "      <td>585</td>\n",
       "      <td>0</td>\n",
       "      <td>0</td>\n",
       "      <td>elizabeth</td>\n",
       "      <td>NNP</td>\n",
       "      <td>89</td>\n",
       "      <td>0.049234</td>\n",
       "      <td>52650</td>\n",
       "      <td>52065</td>\n",
       "      <td>4.381838</td>\n",
       "      <td>1</td>\n",
       "      <td>0.477121</td>\n",
       "      <td>0.002294</td>\n",
       "    </tr>\n",
       "    <tr>\n",
       "      <th>1524</th>\n",
       "      <td>95</td>\n",
       "      <td>catherine</td>\n",
       "      <td>538</td>\n",
       "      <td>0</td>\n",
       "      <td>0</td>\n",
       "      <td>catherin</td>\n",
       "      <td>NNP</td>\n",
       "      <td>94</td>\n",
       "      <td>0.045279</td>\n",
       "      <td>51110</td>\n",
       "      <td>50572</td>\n",
       "      <td>4.256186</td>\n",
       "      <td>2</td>\n",
       "      <td>0.176091</td>\n",
       "      <td>0.001132</td>\n",
       "    </tr>\n",
       "    <tr>\n",
       "      <th>2402</th>\n",
       "      <td>102</td>\n",
       "      <td>crawford</td>\n",
       "      <td>493</td>\n",
       "      <td>0</td>\n",
       "      <td>0</td>\n",
       "      <td>crawford</td>\n",
       "      <td>NNP</td>\n",
       "      <td>101</td>\n",
       "      <td>0.041491</td>\n",
       "      <td>50286</td>\n",
       "      <td>49793</td>\n",
       "      <td>4.190624</td>\n",
       "      <td>1</td>\n",
       "      <td>0.477121</td>\n",
       "      <td>0.001472</td>\n",
       "    </tr>\n",
       "    <tr>\n",
       "      <th>2521</th>\n",
       "      <td>126</td>\n",
       "      <td>darcy</td>\n",
       "      <td>365</td>\n",
       "      <td>0</td>\n",
       "      <td>0</td>\n",
       "      <td>darci</td>\n",
       "      <td>NNP</td>\n",
       "      <td>123</td>\n",
       "      <td>0.030719</td>\n",
       "      <td>45990</td>\n",
       "      <td>44895</td>\n",
       "      <td>3.778404</td>\n",
       "      <td>1</td>\n",
       "      <td>0.477121</td>\n",
       "      <td>0.001431</td>\n",
       "    </tr>\n",
       "    <tr>\n",
       "      <th>...</th>\n",
       "      <td>...</td>\n",
       "      <td>...</td>\n",
       "      <td>...</td>\n",
       "      <td>...</td>\n",
       "      <td>...</td>\n",
       "      <td>...</td>\n",
       "      <td>...</td>\n",
       "      <td>...</td>\n",
       "      <td>...</td>\n",
       "      <td>...</td>\n",
       "      <td>...</td>\n",
       "      <td>...</td>\n",
       "      <td>...</td>\n",
       "      <td>...</td>\n",
       "      <td>...</td>\n",
       "    </tr>\n",
       "    <tr>\n",
       "      <th>5723</th>\n",
       "      <td>11878</td>\n",
       "      <td>interfered</td>\n",
       "      <td>1</td>\n",
       "      <td>0</td>\n",
       "      <td>0</td>\n",
       "      <td>interf</td>\n",
       "      <td>VBD</td>\n",
       "      <td>374</td>\n",
       "      <td>0.000084</td>\n",
       "      <td>11878</td>\n",
       "      <td>374</td>\n",
       "      <td>0.031476</td>\n",
       "      <td>1</td>\n",
       "      <td>0.477121</td>\n",
       "      <td>0.000003</td>\n",
       "    </tr>\n",
       "    <tr>\n",
       "      <th>5716</th>\n",
       "      <td>11879</td>\n",
       "      <td>intercepting</td>\n",
       "      <td>1</td>\n",
       "      <td>0</td>\n",
       "      <td>0</td>\n",
       "      <td>intercept</td>\n",
       "      <td>VBG</td>\n",
       "      <td>374</td>\n",
       "      <td>0.000084</td>\n",
       "      <td>11879</td>\n",
       "      <td>374</td>\n",
       "      <td>0.031476</td>\n",
       "      <td>1</td>\n",
       "      <td>0.477121</td>\n",
       "      <td>0.000006</td>\n",
       "    </tr>\n",
       "    <tr>\n",
       "      <th>5715</th>\n",
       "      <td>11880</td>\n",
       "      <td>intercept</td>\n",
       "      <td>1</td>\n",
       "      <td>0</td>\n",
       "      <td>0</td>\n",
       "      <td>intercept</td>\n",
       "      <td>VB</td>\n",
       "      <td>374</td>\n",
       "      <td>0.000084</td>\n",
       "      <td>11880</td>\n",
       "      <td>374</td>\n",
       "      <td>0.031476</td>\n",
       "      <td>1</td>\n",
       "      <td>0.477121</td>\n",
       "      <td>0.000003</td>\n",
       "    </tr>\n",
       "    <tr>\n",
       "      <th>5711</th>\n",
       "      <td>11881</td>\n",
       "      <td>intentional</td>\n",
       "      <td>1</td>\n",
       "      <td>0</td>\n",
       "      <td>0</td>\n",
       "      <td>intent</td>\n",
       "      <td>JJ</td>\n",
       "      <td>374</td>\n",
       "      <td>0.000084</td>\n",
       "      <td>11881</td>\n",
       "      <td>374</td>\n",
       "      <td>0.031476</td>\n",
       "      <td>1</td>\n",
       "      <td>0.477121</td>\n",
       "      <td>0.000006</td>\n",
       "    </tr>\n",
       "    <tr>\n",
       "      <th>11882</th>\n",
       "      <td>11882</td>\n",
       "      <td>à</td>\n",
       "      <td>1</td>\n",
       "      <td>0</td>\n",
       "      <td>0</td>\n",
       "      <td>à</td>\n",
       "      <td>NNP</td>\n",
       "      <td>374</td>\n",
       "      <td>0.000084</td>\n",
       "      <td>11882</td>\n",
       "      <td>374</td>\n",
       "      <td>0.031476</td>\n",
       "      <td>1</td>\n",
       "      <td>0.477121</td>\n",
       "      <td>0.000003</td>\n",
       "    </tr>\n",
       "  </tbody>\n",
       "</table>\n",
       "<p>8462 rows × 15 columns</p>\n",
       "</div>"
      ]
     },
     "metadata": {},
     "execution_count": 21
    }
   ],
   "metadata": {}
  },
  {
   "cell_type": "code",
   "execution_count": 22,
   "source": [
    "reduced_vocab = reduced_vocab.sort_values('tfidf_sum',ascending=False).head(4000)"
   ],
   "outputs": [],
   "metadata": {}
  },
  {
   "cell_type": "code",
   "execution_count": 23,
   "source": [
    "reduced_vocab"
   ],
   "outputs": [
    {
     "output_type": "execute_result",
     "data": {
      "text/plain": [
       "         term_rank    term_str    n  num  stop     p_stem pos_max  term_rank2  \\\n",
       "term_id                                                                         \n",
       "3976            67       fanny  816    0     0      fanni     NNP          67   \n",
       "3440            90   elizabeth  585    0     0  elizabeth     NNP          89   \n",
       "2402           102    crawford  493    0     0   crawford     NNP         101   \n",
       "2521           126       darcy  365    0     0      darci     NNP         123   \n",
       "10621          228      tilney  196    0     0     tilney     NNP         195   \n",
       "...            ...         ...  ...  ...   ...        ...     ...         ...   \n",
       "9075          4871       sakes    3    0     0       sake      NN         372   \n",
       "479           5517     anguish    3    0     0    anguish      JJ         372   \n",
       "6941          4772  neglecting    3    0     0    neglect     VBG         372   \n",
       "6567          4768       meets    3    0     0       meet     NNS         372   \n",
       "2126          5479     conquer    3    0     0    conquer      VB         372   \n",
       "\n",
       "                p  zipf_k  zipf_k2   zipf_k3  df       idf  tfidf_sum  \n",
       "term_id                                                                \n",
       "3976     0.068675   54672    54672  4.601246   1  0.477121   0.002436  \n",
       "3440     0.049234   52650    52065  4.381838   1  0.477121   0.002294  \n",
       "2402     0.041491   50286    49793  4.190624   1  0.477121   0.001472  \n",
       "2521     0.030719   45990    44895  3.778404   1  0.477121   0.001431  \n",
       "10621    0.016496   44688    38220  3.216630   1  0.477121   0.001207  \n",
       "...           ...     ...      ...       ...  ..       ...        ...  \n",
       "9075     0.000252   14613     1116  0.093924   2  0.176091   0.000004  \n",
       "479      0.000252   16551     1116  0.093924   2  0.176091   0.000004  \n",
       "6941     0.000252   14316     1116  0.093924   2  0.176091   0.000004  \n",
       "6567     0.000252   14304     1116  0.093924   2  0.176091   0.000004  \n",
       "2126     0.000252   16437     1116  0.093924   2  0.176091   0.000004  \n",
       "\n",
       "[4000 rows x 15 columns]"
      ],
      "text/html": [
       "<div>\n",
       "<style scoped>\n",
       "    .dataframe tbody tr th:only-of-type {\n",
       "        vertical-align: middle;\n",
       "    }\n",
       "\n",
       "    .dataframe tbody tr th {\n",
       "        vertical-align: top;\n",
       "    }\n",
       "\n",
       "    .dataframe thead th {\n",
       "        text-align: right;\n",
       "    }\n",
       "</style>\n",
       "<table border=\"1\" class=\"dataframe\">\n",
       "  <thead>\n",
       "    <tr style=\"text-align: right;\">\n",
       "      <th></th>\n",
       "      <th>term_rank</th>\n",
       "      <th>term_str</th>\n",
       "      <th>n</th>\n",
       "      <th>num</th>\n",
       "      <th>stop</th>\n",
       "      <th>p_stem</th>\n",
       "      <th>pos_max</th>\n",
       "      <th>term_rank2</th>\n",
       "      <th>p</th>\n",
       "      <th>zipf_k</th>\n",
       "      <th>zipf_k2</th>\n",
       "      <th>zipf_k3</th>\n",
       "      <th>df</th>\n",
       "      <th>idf</th>\n",
       "      <th>tfidf_sum</th>\n",
       "    </tr>\n",
       "    <tr>\n",
       "      <th>term_id</th>\n",
       "      <th></th>\n",
       "      <th></th>\n",
       "      <th></th>\n",
       "      <th></th>\n",
       "      <th></th>\n",
       "      <th></th>\n",
       "      <th></th>\n",
       "      <th></th>\n",
       "      <th></th>\n",
       "      <th></th>\n",
       "      <th></th>\n",
       "      <th></th>\n",
       "      <th></th>\n",
       "      <th></th>\n",
       "      <th></th>\n",
       "    </tr>\n",
       "  </thead>\n",
       "  <tbody>\n",
       "    <tr>\n",
       "      <th>3976</th>\n",
       "      <td>67</td>\n",
       "      <td>fanny</td>\n",
       "      <td>816</td>\n",
       "      <td>0</td>\n",
       "      <td>0</td>\n",
       "      <td>fanni</td>\n",
       "      <td>NNP</td>\n",
       "      <td>67</td>\n",
       "      <td>0.068675</td>\n",
       "      <td>54672</td>\n",
       "      <td>54672</td>\n",
       "      <td>4.601246</td>\n",
       "      <td>1</td>\n",
       "      <td>0.477121</td>\n",
       "      <td>0.002436</td>\n",
       "    </tr>\n",
       "    <tr>\n",
       "      <th>3440</th>\n",
       "      <td>90</td>\n",
       "      <td>elizabeth</td>\n",
       "      <td>585</td>\n",
       "      <td>0</td>\n",
       "      <td>0</td>\n",
       "      <td>elizabeth</td>\n",
       "      <td>NNP</td>\n",
       "      <td>89</td>\n",
       "      <td>0.049234</td>\n",
       "      <td>52650</td>\n",
       "      <td>52065</td>\n",
       "      <td>4.381838</td>\n",
       "      <td>1</td>\n",
       "      <td>0.477121</td>\n",
       "      <td>0.002294</td>\n",
       "    </tr>\n",
       "    <tr>\n",
       "      <th>2402</th>\n",
       "      <td>102</td>\n",
       "      <td>crawford</td>\n",
       "      <td>493</td>\n",
       "      <td>0</td>\n",
       "      <td>0</td>\n",
       "      <td>crawford</td>\n",
       "      <td>NNP</td>\n",
       "      <td>101</td>\n",
       "      <td>0.041491</td>\n",
       "      <td>50286</td>\n",
       "      <td>49793</td>\n",
       "      <td>4.190624</td>\n",
       "      <td>1</td>\n",
       "      <td>0.477121</td>\n",
       "      <td>0.001472</td>\n",
       "    </tr>\n",
       "    <tr>\n",
       "      <th>2521</th>\n",
       "      <td>126</td>\n",
       "      <td>darcy</td>\n",
       "      <td>365</td>\n",
       "      <td>0</td>\n",
       "      <td>0</td>\n",
       "      <td>darci</td>\n",
       "      <td>NNP</td>\n",
       "      <td>123</td>\n",
       "      <td>0.030719</td>\n",
       "      <td>45990</td>\n",
       "      <td>44895</td>\n",
       "      <td>3.778404</td>\n",
       "      <td>1</td>\n",
       "      <td>0.477121</td>\n",
       "      <td>0.001431</td>\n",
       "    </tr>\n",
       "    <tr>\n",
       "      <th>10621</th>\n",
       "      <td>228</td>\n",
       "      <td>tilney</td>\n",
       "      <td>196</td>\n",
       "      <td>0</td>\n",
       "      <td>0</td>\n",
       "      <td>tilney</td>\n",
       "      <td>NNP</td>\n",
       "      <td>195</td>\n",
       "      <td>0.016496</td>\n",
       "      <td>44688</td>\n",
       "      <td>38220</td>\n",
       "      <td>3.216630</td>\n",
       "      <td>1</td>\n",
       "      <td>0.477121</td>\n",
       "      <td>0.001207</td>\n",
       "    </tr>\n",
       "    <tr>\n",
       "      <th>...</th>\n",
       "      <td>...</td>\n",
       "      <td>...</td>\n",
       "      <td>...</td>\n",
       "      <td>...</td>\n",
       "      <td>...</td>\n",
       "      <td>...</td>\n",
       "      <td>...</td>\n",
       "      <td>...</td>\n",
       "      <td>...</td>\n",
       "      <td>...</td>\n",
       "      <td>...</td>\n",
       "      <td>...</td>\n",
       "      <td>...</td>\n",
       "      <td>...</td>\n",
       "      <td>...</td>\n",
       "    </tr>\n",
       "    <tr>\n",
       "      <th>9075</th>\n",
       "      <td>4871</td>\n",
       "      <td>sakes</td>\n",
       "      <td>3</td>\n",
       "      <td>0</td>\n",
       "      <td>0</td>\n",
       "      <td>sake</td>\n",
       "      <td>NN</td>\n",
       "      <td>372</td>\n",
       "      <td>0.000252</td>\n",
       "      <td>14613</td>\n",
       "      <td>1116</td>\n",
       "      <td>0.093924</td>\n",
       "      <td>2</td>\n",
       "      <td>0.176091</td>\n",
       "      <td>0.000004</td>\n",
       "    </tr>\n",
       "    <tr>\n",
       "      <th>479</th>\n",
       "      <td>5517</td>\n",
       "      <td>anguish</td>\n",
       "      <td>3</td>\n",
       "      <td>0</td>\n",
       "      <td>0</td>\n",
       "      <td>anguish</td>\n",
       "      <td>JJ</td>\n",
       "      <td>372</td>\n",
       "      <td>0.000252</td>\n",
       "      <td>16551</td>\n",
       "      <td>1116</td>\n",
       "      <td>0.093924</td>\n",
       "      <td>2</td>\n",
       "      <td>0.176091</td>\n",
       "      <td>0.000004</td>\n",
       "    </tr>\n",
       "    <tr>\n",
       "      <th>6941</th>\n",
       "      <td>4772</td>\n",
       "      <td>neglecting</td>\n",
       "      <td>3</td>\n",
       "      <td>0</td>\n",
       "      <td>0</td>\n",
       "      <td>neglect</td>\n",
       "      <td>VBG</td>\n",
       "      <td>372</td>\n",
       "      <td>0.000252</td>\n",
       "      <td>14316</td>\n",
       "      <td>1116</td>\n",
       "      <td>0.093924</td>\n",
       "      <td>2</td>\n",
       "      <td>0.176091</td>\n",
       "      <td>0.000004</td>\n",
       "    </tr>\n",
       "    <tr>\n",
       "      <th>6567</th>\n",
       "      <td>4768</td>\n",
       "      <td>meets</td>\n",
       "      <td>3</td>\n",
       "      <td>0</td>\n",
       "      <td>0</td>\n",
       "      <td>meet</td>\n",
       "      <td>NNS</td>\n",
       "      <td>372</td>\n",
       "      <td>0.000252</td>\n",
       "      <td>14304</td>\n",
       "      <td>1116</td>\n",
       "      <td>0.093924</td>\n",
       "      <td>2</td>\n",
       "      <td>0.176091</td>\n",
       "      <td>0.000004</td>\n",
       "    </tr>\n",
       "    <tr>\n",
       "      <th>2126</th>\n",
       "      <td>5479</td>\n",
       "      <td>conquer</td>\n",
       "      <td>3</td>\n",
       "      <td>0</td>\n",
       "      <td>0</td>\n",
       "      <td>conquer</td>\n",
       "      <td>VB</td>\n",
       "      <td>372</td>\n",
       "      <td>0.000252</td>\n",
       "      <td>16437</td>\n",
       "      <td>1116</td>\n",
       "      <td>0.093924</td>\n",
       "      <td>2</td>\n",
       "      <td>0.176091</td>\n",
       "      <td>0.000004</td>\n",
       "    </tr>\n",
       "  </tbody>\n",
       "</table>\n",
       "<p>4000 rows × 15 columns</p>\n",
       "</div>"
      ]
     },
     "metadata": {},
     "execution_count": 23
    }
   ],
   "metadata": {}
  },
  {
   "cell_type": "code",
   "execution_count": 24,
   "source": [
    "terms = list(reduced_vocab.index)"
   ],
   "outputs": [],
   "metadata": {}
  },
  {
   "cell_type": "code",
   "execution_count": 25,
   "source": [
    "TFIDF = TFIDF.filter(terms)"
   ],
   "outputs": [],
   "metadata": {}
  },
  {
   "cell_type": "code",
   "execution_count": 26,
   "source": [
    "TFIDF"
   ],
   "outputs": [
    {
     "output_type": "execute_result",
     "data": {
      "text/plain": [
       "term_id                  3976      3440      2402      2521      10621  \\\n",
       "genre author book_id                                                     \n",
       "n     austen 121      0.000000  0.000000  0.000000  0.000000  0.001207   \n",
       "             141      0.002436  0.000000  0.001472  0.000000  0.000000   \n",
       "             42671    0.000000  0.002294  0.000000  0.001431  0.000000   \n",
       "\n",
       "term_id                  1043      1524     3385      5865      1104   ...  \\\n",
       "genre author book_id                                                   ...   \n",
       "n     austen 121      0.000000  0.000973  0.00000  0.000000  0.000000  ...   \n",
       "             141      0.000000  0.000000  0.00109  0.000000  0.000000  ...   \n",
       "             42671    0.001149  0.000159  0.00000  0.001012  0.000992  ...   \n",
       "\n",
       "term_id                  9195      7885      8350      8648      9632   \\\n",
       "genre author book_id                                                     \n",
       "n     austen 121      0.000000  0.000000  0.000000  0.000000  0.000000   \n",
       "             141      0.000001  0.000001  0.000001  0.000001  0.000001   \n",
       "             42671    0.000003  0.000003  0.000003  0.000003  0.000003   \n",
       "\n",
       "term_id                  9075      479       6941      6567      2126   \n",
       "genre author book_id                                                    \n",
       "n     austen 121      0.000000  0.000000  0.000000  0.000000  0.000000  \n",
       "             141      0.000001  0.000001  0.000001  0.000001  0.000001  \n",
       "             42671    0.000003  0.000003  0.000003  0.000003  0.000003  \n",
       "\n",
       "[3 rows x 4000 columns]"
      ],
      "text/html": [
       "<div>\n",
       "<style scoped>\n",
       "    .dataframe tbody tr th:only-of-type {\n",
       "        vertical-align: middle;\n",
       "    }\n",
       "\n",
       "    .dataframe tbody tr th {\n",
       "        vertical-align: top;\n",
       "    }\n",
       "\n",
       "    .dataframe thead th {\n",
       "        text-align: right;\n",
       "    }\n",
       "</style>\n",
       "<table border=\"1\" class=\"dataframe\">\n",
       "  <thead>\n",
       "    <tr style=\"text-align: right;\">\n",
       "      <th></th>\n",
       "      <th></th>\n",
       "      <th>term_id</th>\n",
       "      <th>3976</th>\n",
       "      <th>3440</th>\n",
       "      <th>2402</th>\n",
       "      <th>2521</th>\n",
       "      <th>10621</th>\n",
       "      <th>1043</th>\n",
       "      <th>1524</th>\n",
       "      <th>3385</th>\n",
       "      <th>5865</th>\n",
       "      <th>1104</th>\n",
       "      <th>...</th>\n",
       "      <th>9195</th>\n",
       "      <th>7885</th>\n",
       "      <th>8350</th>\n",
       "      <th>8648</th>\n",
       "      <th>9632</th>\n",
       "      <th>9075</th>\n",
       "      <th>479</th>\n",
       "      <th>6941</th>\n",
       "      <th>6567</th>\n",
       "      <th>2126</th>\n",
       "    </tr>\n",
       "    <tr>\n",
       "      <th>genre</th>\n",
       "      <th>author</th>\n",
       "      <th>book_id</th>\n",
       "      <th></th>\n",
       "      <th></th>\n",
       "      <th></th>\n",
       "      <th></th>\n",
       "      <th></th>\n",
       "      <th></th>\n",
       "      <th></th>\n",
       "      <th></th>\n",
       "      <th></th>\n",
       "      <th></th>\n",
       "      <th></th>\n",
       "      <th></th>\n",
       "      <th></th>\n",
       "      <th></th>\n",
       "      <th></th>\n",
       "      <th></th>\n",
       "      <th></th>\n",
       "      <th></th>\n",
       "      <th></th>\n",
       "      <th></th>\n",
       "      <th></th>\n",
       "    </tr>\n",
       "  </thead>\n",
       "  <tbody>\n",
       "    <tr>\n",
       "      <th rowspan=\"3\" valign=\"top\">n</th>\n",
       "      <th rowspan=\"3\" valign=\"top\">austen</th>\n",
       "      <th>121</th>\n",
       "      <td>0.000000</td>\n",
       "      <td>0.000000</td>\n",
       "      <td>0.000000</td>\n",
       "      <td>0.000000</td>\n",
       "      <td>0.001207</td>\n",
       "      <td>0.000000</td>\n",
       "      <td>0.000973</td>\n",
       "      <td>0.00000</td>\n",
       "      <td>0.000000</td>\n",
       "      <td>0.000000</td>\n",
       "      <td>...</td>\n",
       "      <td>0.000000</td>\n",
       "      <td>0.000000</td>\n",
       "      <td>0.000000</td>\n",
       "      <td>0.000000</td>\n",
       "      <td>0.000000</td>\n",
       "      <td>0.000000</td>\n",
       "      <td>0.000000</td>\n",
       "      <td>0.000000</td>\n",
       "      <td>0.000000</td>\n",
       "      <td>0.000000</td>\n",
       "    </tr>\n",
       "    <tr>\n",
       "      <th>141</th>\n",
       "      <td>0.002436</td>\n",
       "      <td>0.000000</td>\n",
       "      <td>0.001472</td>\n",
       "      <td>0.000000</td>\n",
       "      <td>0.000000</td>\n",
       "      <td>0.000000</td>\n",
       "      <td>0.000000</td>\n",
       "      <td>0.00109</td>\n",
       "      <td>0.000000</td>\n",
       "      <td>0.000000</td>\n",
       "      <td>...</td>\n",
       "      <td>0.000001</td>\n",
       "      <td>0.000001</td>\n",
       "      <td>0.000001</td>\n",
       "      <td>0.000001</td>\n",
       "      <td>0.000001</td>\n",
       "      <td>0.000001</td>\n",
       "      <td>0.000001</td>\n",
       "      <td>0.000001</td>\n",
       "      <td>0.000001</td>\n",
       "      <td>0.000001</td>\n",
       "    </tr>\n",
       "    <tr>\n",
       "      <th>42671</th>\n",
       "      <td>0.000000</td>\n",
       "      <td>0.002294</td>\n",
       "      <td>0.000000</td>\n",
       "      <td>0.001431</td>\n",
       "      <td>0.000000</td>\n",
       "      <td>0.001149</td>\n",
       "      <td>0.000159</td>\n",
       "      <td>0.00000</td>\n",
       "      <td>0.001012</td>\n",
       "      <td>0.000992</td>\n",
       "      <td>...</td>\n",
       "      <td>0.000003</td>\n",
       "      <td>0.000003</td>\n",
       "      <td>0.000003</td>\n",
       "      <td>0.000003</td>\n",
       "      <td>0.000003</td>\n",
       "      <td>0.000003</td>\n",
       "      <td>0.000003</td>\n",
       "      <td>0.000003</td>\n",
       "      <td>0.000003</td>\n",
       "      <td>0.000003</td>\n",
       "    </tr>\n",
       "  </tbody>\n",
       "</table>\n",
       "<p>3 rows × 4000 columns</p>\n",
       "</div>"
      ]
     },
     "metadata": {},
     "execution_count": 26
    }
   ],
   "metadata": {}
  },
  {
   "cell_type": "code",
   "execution_count": 27,
   "source": [
    "%time COV = TFIDF.T.dot(TFIDF) / (TFIDF.shape[0] - 1)"
   ],
   "outputs": [
    {
     "output_type": "stream",
     "name": "stdout",
     "text": [
      "CPU times: user 240 ms, sys: 168 ms, total: 408 ms\n",
      "Wall time: 294 ms\n"
     ]
    }
   ],
   "metadata": {}
  },
  {
   "cell_type": "code",
   "execution_count": 28,
   "source": [
    "from scipy.linalg import eigh"
   ],
   "outputs": [],
   "metadata": {}
  },
  {
   "cell_type": "code",
   "execution_count": 29,
   "source": [
    "%time eig_vals, eig_vecs = eigh(COV)"
   ],
   "outputs": [
    {
     "output_type": "stream",
     "name": "stdout",
     "text": [
      "CPU times: user 22.5 s, sys: 649 ms, total: 23.2 s\n",
      "Wall time: 14.8 s\n"
     ]
    }
   ],
   "metadata": {}
  },
  {
   "cell_type": "code",
   "execution_count": 30,
   "source": [
    "TERM_IDX = COV.index"
   ],
   "outputs": [],
   "metadata": {}
  },
  {
   "cell_type": "code",
   "execution_count": 31,
   "source": [
    "EIG_VEC = pd.DataFrame(eig_vecs, index=TERM_IDX, columns=TERM_IDX)"
   ],
   "outputs": [],
   "metadata": {}
  },
  {
   "cell_type": "code",
   "execution_count": 32,
   "source": [
    "EIG_VAL = pd.DataFrame(eig_vals, index=TERM_IDX, columns=['eig_val'])\n",
    "EIG_VAL.index.name = 'term_id'"
   ],
   "outputs": [],
   "metadata": {}
  },
  {
   "cell_type": "code",
   "execution_count": 33,
   "source": [
    "EIG_VEC.iloc[:5, :10].style.background_gradient()"
   ],
   "outputs": [
    {
     "output_type": "execute_result",
     "data": {
      "text/plain": [
       "<pandas.io.formats.style.Styler at 0x7fdcd5d9f1c0>"
      ],
      "text/html": [
       "<style  type=\"text/css\" >\n",
       "#T_d426005a_fc98_11eb_a433_a45e60e853dbrow0_col0{\n",
       "            background-color:  #509ac6;\n",
       "            color:  #000000;\n",
       "        }#T_d426005a_fc98_11eb_a433_a45e60e853dbrow0_col1{\n",
       "            background-color:  #023d60;\n",
       "            color:  #f1f1f1;\n",
       "        }#T_d426005a_fc98_11eb_a433_a45e60e853dbrow0_col2{\n",
       "            background-color:  #045b8e;\n",
       "            color:  #f1f1f1;\n",
       "        }#T_d426005a_fc98_11eb_a433_a45e60e853dbrow0_col3{\n",
       "            background-color:  #045f95;\n",
       "            color:  #f1f1f1;\n",
       "        }#T_d426005a_fc98_11eb_a433_a45e60e853dbrow0_col4,#T_d426005a_fc98_11eb_a433_a45e60e853dbrow0_col5,#T_d426005a_fc98_11eb_a433_a45e60e853dbrow0_col7,#T_d426005a_fc98_11eb_a433_a45e60e853dbrow1_col8,#T_d426005a_fc98_11eb_a433_a45e60e853dbrow2_col0,#T_d426005a_fc98_11eb_a433_a45e60e853dbrow2_col1,#T_d426005a_fc98_11eb_a433_a45e60e853dbrow2_col2,#T_d426005a_fc98_11eb_a433_a45e60e853dbrow3_col3,#T_d426005a_fc98_11eb_a433_a45e60e853dbrow4_col6,#T_d426005a_fc98_11eb_a433_a45e60e853dbrow4_col9{\n",
       "            background-color:  #fff7fb;\n",
       "            color:  #000000;\n",
       "        }#T_d426005a_fc98_11eb_a433_a45e60e853dbrow0_col6,#T_d426005a_fc98_11eb_a433_a45e60e853dbrow1_col0,#T_d426005a_fc98_11eb_a433_a45e60e853dbrow1_col9,#T_d426005a_fc98_11eb_a433_a45e60e853dbrow2_col3,#T_d426005a_fc98_11eb_a433_a45e60e853dbrow2_col4,#T_d426005a_fc98_11eb_a433_a45e60e853dbrow2_col5,#T_d426005a_fc98_11eb_a433_a45e60e853dbrow3_col2,#T_d426005a_fc98_11eb_a433_a45e60e853dbrow3_col7,#T_d426005a_fc98_11eb_a433_a45e60e853dbrow4_col1,#T_d426005a_fc98_11eb_a433_a45e60e853dbrow4_col8{\n",
       "            background-color:  #023858;\n",
       "            color:  #f1f1f1;\n",
       "        }#T_d426005a_fc98_11eb_a433_a45e60e853dbrow0_col8{\n",
       "            background-color:  #97b7d7;\n",
       "            color:  #000000;\n",
       "        }#T_d426005a_fc98_11eb_a433_a45e60e853dbrow0_col9,#T_d426005a_fc98_11eb_a433_a45e60e853dbrow2_col9{\n",
       "            background-color:  #2383ba;\n",
       "            color:  #000000;\n",
       "        }#T_d426005a_fc98_11eb_a433_a45e60e853dbrow1_col1,#T_d426005a_fc98_11eb_a433_a45e60e853dbrow1_col3{\n",
       "            background-color:  #6da6cd;\n",
       "            color:  #000000;\n",
       "        }#T_d426005a_fc98_11eb_a433_a45e60e853dbrow1_col2{\n",
       "            background-color:  #e1dfed;\n",
       "            color:  #000000;\n",
       "        }#T_d426005a_fc98_11eb_a433_a45e60e853dbrow1_col4{\n",
       "            background-color:  #04649d;\n",
       "            color:  #f1f1f1;\n",
       "        }#T_d426005a_fc98_11eb_a433_a45e60e853dbrow1_col5{\n",
       "            background-color:  #045a8d;\n",
       "            color:  #f1f1f1;\n",
       "        }#T_d426005a_fc98_11eb_a433_a45e60e853dbrow1_col6{\n",
       "            background-color:  #d1d2e6;\n",
       "            color:  #000000;\n",
       "        }#T_d426005a_fc98_11eb_a433_a45e60e853dbrow1_col7{\n",
       "            background-color:  #056aa6;\n",
       "            color:  #f1f1f1;\n",
       "        }#T_d426005a_fc98_11eb_a433_a45e60e853dbrow2_col6{\n",
       "            background-color:  #efe9f3;\n",
       "            color:  #000000;\n",
       "        }#T_d426005a_fc98_11eb_a433_a45e60e853dbrow2_col7{\n",
       "            background-color:  #045c90;\n",
       "            color:  #f1f1f1;\n",
       "        }#T_d426005a_fc98_11eb_a433_a45e60e853dbrow2_col8{\n",
       "            background-color:  #83afd3;\n",
       "            color:  #000000;\n",
       "        }#T_d426005a_fc98_11eb_a433_a45e60e853dbrow3_col0{\n",
       "            background-color:  #93b5d6;\n",
       "            color:  #000000;\n",
       "        }#T_d426005a_fc98_11eb_a433_a45e60e853dbrow3_col1{\n",
       "            background-color:  #d0d1e6;\n",
       "            color:  #000000;\n",
       "        }#T_d426005a_fc98_11eb_a433_a45e60e853dbrow3_col4{\n",
       "            background-color:  #76aad0;\n",
       "            color:  #000000;\n",
       "        }#T_d426005a_fc98_11eb_a433_a45e60e853dbrow3_col5{\n",
       "            background-color:  #b5c4df;\n",
       "            color:  #000000;\n",
       "        }#T_d426005a_fc98_11eb_a433_a45e60e853dbrow3_col6{\n",
       "            background-color:  #fbf3f9;\n",
       "            color:  #000000;\n",
       "        }#T_d426005a_fc98_11eb_a433_a45e60e853dbrow3_col8{\n",
       "            background-color:  #89b1d4;\n",
       "            color:  #000000;\n",
       "        }#T_d426005a_fc98_11eb_a433_a45e60e853dbrow3_col9{\n",
       "            background-color:  #056fae;\n",
       "            color:  #f1f1f1;\n",
       "        }#T_d426005a_fc98_11eb_a433_a45e60e853dbrow4_col0{\n",
       "            background-color:  #034f7d;\n",
       "            color:  #f1f1f1;\n",
       "        }#T_d426005a_fc98_11eb_a433_a45e60e853dbrow4_col2{\n",
       "            background-color:  #0568a3;\n",
       "            color:  #f1f1f1;\n",
       "        }#T_d426005a_fc98_11eb_a433_a45e60e853dbrow4_col3{\n",
       "            background-color:  #4496c3;\n",
       "            color:  #000000;\n",
       "        }#T_d426005a_fc98_11eb_a433_a45e60e853dbrow4_col4{\n",
       "            background-color:  #045788;\n",
       "            color:  #f1f1f1;\n",
       "        }#T_d426005a_fc98_11eb_a433_a45e60e853dbrow4_col5{\n",
       "            background-color:  #78abd0;\n",
       "            color:  #000000;\n",
       "        }#T_d426005a_fc98_11eb_a433_a45e60e853dbrow4_col7{\n",
       "            background-color:  #045280;\n",
       "            color:  #f1f1f1;\n",
       "        }</style><table id=\"T_d426005a_fc98_11eb_a433_a45e60e853db\" ><thead>    <tr>        <th class=\"index_name level0\" >term_id</th>        <th class=\"col_heading level0 col0\" >3976</th>        <th class=\"col_heading level0 col1\" >3440</th>        <th class=\"col_heading level0 col2\" >2402</th>        <th class=\"col_heading level0 col3\" >2521</th>        <th class=\"col_heading level0 col4\" >10621</th>        <th class=\"col_heading level0 col5\" >1043</th>        <th class=\"col_heading level0 col6\" >1524</th>        <th class=\"col_heading level0 col7\" >3385</th>        <th class=\"col_heading level0 col8\" >5865</th>        <th class=\"col_heading level0 col9\" >1104</th>    </tr>    <tr>        <th class=\"index_name level0\" >term_id</th>        <th class=\"blank\" ></th>        <th class=\"blank\" ></th>        <th class=\"blank\" ></th>        <th class=\"blank\" ></th>        <th class=\"blank\" ></th>        <th class=\"blank\" ></th>        <th class=\"blank\" ></th>        <th class=\"blank\" ></th>        <th class=\"blank\" ></th>        <th class=\"blank\" ></th>    </tr></thead><tbody>\n",
       "                <tr>\n",
       "                        <th id=\"T_d426005a_fc98_11eb_a433_a45e60e853dblevel0_row0\" class=\"row_heading level0 row0\" >3976</th>\n",
       "                        <td id=\"T_d426005a_fc98_11eb_a433_a45e60e853dbrow0_col0\" class=\"data row0 col0\" >0.013003</td>\n",
       "                        <td id=\"T_d426005a_fc98_11eb_a433_a45e60e853dbrow0_col1\" class=\"data row0 col1\" >0.032455</td>\n",
       "                        <td id=\"T_d426005a_fc98_11eb_a433_a45e60e853dbrow0_col2\" class=\"data row0 col2\" >0.028792</td>\n",
       "                        <td id=\"T_d426005a_fc98_11eb_a433_a45e60e853dbrow0_col3\" class=\"data row0 col3\" >-0.047894</td>\n",
       "                        <td id=\"T_d426005a_fc98_11eb_a433_a45e60e853dbrow0_col4\" class=\"data row0 col4\" >-0.288878</td>\n",
       "                        <td id=\"T_d426005a_fc98_11eb_a433_a45e60e853dbrow0_col5\" class=\"data row0 col5\" >-0.330640</td>\n",
       "                        <td id=\"T_d426005a_fc98_11eb_a433_a45e60e853dbrow0_col6\" class=\"data row0 col6\" >0.236469</td>\n",
       "                        <td id=\"T_d426005a_fc98_11eb_a433_a45e60e853dbrow0_col7\" class=\"data row0 col7\" >-0.145642</td>\n",
       "                        <td id=\"T_d426005a_fc98_11eb_a433_a45e60e853dbrow0_col8\" class=\"data row0 col8\" >0.000000</td>\n",
       "                        <td id=\"T_d426005a_fc98_11eb_a433_a45e60e853dbrow0_col9\" class=\"data row0 col9\" >0.000000</td>\n",
       "            </tr>\n",
       "            <tr>\n",
       "                        <th id=\"T_d426005a_fc98_11eb_a433_a45e60e853dblevel0_row1\" class=\"row_heading level0 row1\" >3440</th>\n",
       "                        <td id=\"T_d426005a_fc98_11eb_a433_a45e60e853dbrow1_col0\" class=\"data row1 col0\" >0.396249</td>\n",
       "                        <td id=\"T_d426005a_fc98_11eb_a433_a45e60e853dbrow1_col1\" class=\"data row1 col1\" >-0.206027</td>\n",
       "                        <td id=\"T_d426005a_fc98_11eb_a433_a45e60e853dbrow1_col2\" class=\"data row1 col2\" >-0.069637</td>\n",
       "                        <td id=\"T_d426005a_fc98_11eb_a433_a45e60e853dbrow1_col3\" class=\"data row1 col3\" >-0.174639</td>\n",
       "                        <td id=\"T_d426005a_fc98_11eb_a433_a45e60e853dbrow1_col4\" class=\"data row1 col4\" >0.091987</td>\n",
       "                        <td id=\"T_d426005a_fc98_11eb_a433_a45e60e853dbrow1_col5\" class=\"data row1 col5\" >0.150081</td>\n",
       "                        <td id=\"T_d426005a_fc98_11eb_a433_a45e60e853dbrow1_col6\" class=\"data row1 col6\" >-0.022348</td>\n",
       "                        <td id=\"T_d426005a_fc98_11eb_a433_a45e60e853dbrow1_col7\" class=\"data row1 col7\" >0.039841</td>\n",
       "                        <td id=\"T_d426005a_fc98_11eb_a433_a45e60e853dbrow1_col8\" class=\"data row1 col8\" >-0.137459</td>\n",
       "                        <td id=\"T_d426005a_fc98_11eb_a433_a45e60e853dbrow1_col9\" class=\"data row1 col9\" >0.058458</td>\n",
       "            </tr>\n",
       "            <tr>\n",
       "                        <th id=\"T_d426005a_fc98_11eb_a433_a45e60e853dblevel0_row2\" class=\"row_heading level0 row2\" >2402</th>\n",
       "                        <td id=\"T_d426005a_fc98_11eb_a433_a45e60e853dbrow2_col0\" class=\"data row2 col0\" >-0.495777</td>\n",
       "                        <td id=\"T_d426005a_fc98_11eb_a433_a45e60e853dbrow2_col1\" class=\"data row2 col1\" >-0.467518</td>\n",
       "                        <td id=\"T_d426005a_fc98_11eb_a433_a45e60e853dbrow2_col2\" class=\"data row2 col2\" >-0.094253</td>\n",
       "                        <td id=\"T_d426005a_fc98_11eb_a433_a45e60e853dbrow2_col3\" class=\"data row2 col3\" >0.011898</td>\n",
       "                        <td id=\"T_d426005a_fc98_11eb_a433_a45e60e853dbrow2_col4\" class=\"data row2 col4\" >0.175959</td>\n",
       "                        <td id=\"T_d426005a_fc98_11eb_a433_a45e60e853dbrow2_col5\" class=\"data row2 col5\" >0.219861</td>\n",
       "                        <td id=\"T_d426005a_fc98_11eb_a433_a45e60e853dbrow2_col6\" class=\"data row2 col6\" >-0.071311</td>\n",
       "                        <td id=\"T_d426005a_fc98_11eb_a433_a45e60e853dbrow2_col7\" class=\"data row2 col7\" >0.058380</td>\n",
       "                        <td id=\"T_d426005a_fc98_11eb_a433_a45e60e853dbrow2_col8\" class=\"data row2 col8\" >0.017142</td>\n",
       "                        <td id=\"T_d426005a_fc98_11eb_a433_a45e60e853dbrow2_col9\" class=\"data row2 col9\" >0.000158</td>\n",
       "            </tr>\n",
       "            <tr>\n",
       "                        <th id=\"T_d426005a_fc98_11eb_a433_a45e60e853dblevel0_row3\" class=\"row_heading level0 row3\" >2521</th>\n",
       "                        <td id=\"T_d426005a_fc98_11eb_a433_a45e60e853dbrow3_col0\" class=\"data row3 col0\" >-0.119229</td>\n",
       "                        <td id=\"T_d426005a_fc98_11eb_a433_a45e60e853dbrow3_col1\" class=\"data row3 col1\" >-0.339474</td>\n",
       "                        <td id=\"T_d426005a_fc98_11eb_a433_a45e60e853dbrow3_col2\" class=\"data row3 col2\" >0.047046</td>\n",
       "                        <td id=\"T_d426005a_fc98_11eb_a433_a45e60e853dbrow3_col3\" class=\"data row3 col3\" >-0.371267</td>\n",
       "                        <td id=\"T_d426005a_fc98_11eb_a433_a45e60e853dbrow3_col4\" class=\"data row3 col4\" >-0.059728</td>\n",
       "                        <td id=\"T_d426005a_fc98_11eb_a433_a45e60e853dbrow3_col5\" class=\"data row3 col5\" >-0.149263</td>\n",
       "                        <td id=\"T_d426005a_fc98_11eb_a433_a45e60e853dbrow3_col6\" class=\"data row3 col6\" >-0.098040</td>\n",
       "                        <td id=\"T_d426005a_fc98_11eb_a433_a45e60e853dbrow3_col7\" class=\"data row3 col7\" >0.091723</td>\n",
       "                        <td id=\"T_d426005a_fc98_11eb_a433_a45e60e853dbrow3_col8\" class=\"data row3 col8\" >0.012645</td>\n",
       "                        <td id=\"T_d426005a_fc98_11eb_a433_a45e60e853dbrow3_col9\" class=\"data row3 col9\" >0.014923</td>\n",
       "            </tr>\n",
       "            <tr>\n",
       "                        <th id=\"T_d426005a_fc98_11eb_a433_a45e60e853dblevel0_row4\" class=\"row_heading level0 row4\" >10621</th>\n",
       "                        <td id=\"T_d426005a_fc98_11eb_a433_a45e60e853dbrow4_col0\" class=\"data row4 col0\" >0.318034</td>\n",
       "                        <td id=\"T_d426005a_fc98_11eb_a433_a45e60e853dbrow4_col1\" class=\"data row4 col1\" >0.042799</td>\n",
       "                        <td id=\"T_d426005a_fc98_11eb_a433_a45e60e853dbrow4_col2\" class=\"data row4 col2\" >0.018153</td>\n",
       "                        <td id=\"T_d426005a_fc98_11eb_a433_a45e60e853dbrow4_col3\" class=\"data row4 col3\" >-0.142963</td>\n",
       "                        <td id=\"T_d426005a_fc98_11eb_a433_a45e60e853dbrow4_col4\" class=\"data row4 col4\" >0.121737</td>\n",
       "                        <td id=\"T_d426005a_fc98_11eb_a433_a45e60e853dbrow4_col5\" class=\"data row4 col5\" >-0.061306</td>\n",
       "                        <td id=\"T_d426005a_fc98_11eb_a433_a45e60e853dbrow4_col6\" class=\"data row4 col6\" >-0.108336</td>\n",
       "                        <td id=\"T_d426005a_fc98_11eb_a433_a45e60e853dbrow4_col7\" class=\"data row4 col7\" >0.069294</td>\n",
       "                        <td id=\"T_d426005a_fc98_11eb_a433_a45e60e853dbrow4_col8\" class=\"data row4 col8\" >0.196996</td>\n",
       "                        <td id=\"T_d426005a_fc98_11eb_a433_a45e60e853dbrow4_col9\" class=\"data row4 col9\" >-0.121014</td>\n",
       "            </tr>\n",
       "    </tbody></table>"
      ]
     },
     "metadata": {},
     "execution_count": 33
    }
   ],
   "metadata": {}
  },
  {
   "cell_type": "code",
   "execution_count": 34,
   "source": [
    "EIG_VAL.iloc[:10]"
   ],
   "outputs": [
    {
     "output_type": "execute_result",
     "data": {
      "text/plain": [
       "              eig_val\n",
       "term_id              \n",
       "3976    -2.164838e-20\n",
       "3440    -1.230880e-20\n",
       "2402    -5.779346e-21\n",
       "2521    -5.599413e-21\n",
       "10621   -4.270649e-21\n",
       "1043    -3.574883e-21\n",
       "1524    -2.170026e-21\n",
       "3385    -8.028330e-22\n",
       "5865    -1.097244e-22\n",
       "1104    -1.055639e-22"
      ],
      "text/html": [
       "<div>\n",
       "<style scoped>\n",
       "    .dataframe tbody tr th:only-of-type {\n",
       "        vertical-align: middle;\n",
       "    }\n",
       "\n",
       "    .dataframe tbody tr th {\n",
       "        vertical-align: top;\n",
       "    }\n",
       "\n",
       "    .dataframe thead th {\n",
       "        text-align: right;\n",
       "    }\n",
       "</style>\n",
       "<table border=\"1\" class=\"dataframe\">\n",
       "  <thead>\n",
       "    <tr style=\"text-align: right;\">\n",
       "      <th></th>\n",
       "      <th>eig_val</th>\n",
       "    </tr>\n",
       "    <tr>\n",
       "      <th>term_id</th>\n",
       "      <th></th>\n",
       "    </tr>\n",
       "  </thead>\n",
       "  <tbody>\n",
       "    <tr>\n",
       "      <th>3976</th>\n",
       "      <td>-2.164838e-20</td>\n",
       "    </tr>\n",
       "    <tr>\n",
       "      <th>3440</th>\n",
       "      <td>-1.230880e-20</td>\n",
       "    </tr>\n",
       "    <tr>\n",
       "      <th>2402</th>\n",
       "      <td>-5.779346e-21</td>\n",
       "    </tr>\n",
       "    <tr>\n",
       "      <th>2521</th>\n",
       "      <td>-5.599413e-21</td>\n",
       "    </tr>\n",
       "    <tr>\n",
       "      <th>10621</th>\n",
       "      <td>-4.270649e-21</td>\n",
       "    </tr>\n",
       "    <tr>\n",
       "      <th>1043</th>\n",
       "      <td>-3.574883e-21</td>\n",
       "    </tr>\n",
       "    <tr>\n",
       "      <th>1524</th>\n",
       "      <td>-2.170026e-21</td>\n",
       "    </tr>\n",
       "    <tr>\n",
       "      <th>3385</th>\n",
       "      <td>-8.028330e-22</td>\n",
       "    </tr>\n",
       "    <tr>\n",
       "      <th>5865</th>\n",
       "      <td>-1.097244e-22</td>\n",
       "    </tr>\n",
       "    <tr>\n",
       "      <th>1104</th>\n",
       "      <td>-1.055639e-22</td>\n",
       "    </tr>\n",
       "  </tbody>\n",
       "</table>\n",
       "</div>"
      ]
     },
     "metadata": {},
     "execution_count": 34
    }
   ],
   "metadata": {}
  },
  {
   "cell_type": "code",
   "execution_count": 35,
   "source": [
    "EIG_PAIRS = EIG_VAL.join(EIG_VEC.T)\n",
    "\n",
    "EIG_PAIRS['exp_var'] = np.round((EIG_PAIRS.eig_val / EIG_PAIRS.eig_val.sum()) * 100, 2)"
   ],
   "outputs": [],
   "metadata": {}
  },
  {
   "cell_type": "code",
   "execution_count": 36,
   "source": [
    "EIG_PAIRS.exp_var.sort_values(ascending=False).head().plot.bar(rot=45)"
   ],
   "outputs": [
    {
     "output_type": "execute_result",
     "data": {
      "text/plain": [
       "<AxesSubplot:xlabel='term_id'>"
      ]
     },
     "metadata": {},
     "execution_count": 36
    },
    {
     "output_type": "display_data",
     "data": {
      "text/plain": [
       "<Figure size 432x288 with 1 Axes>"
      ],
      "image/svg+xml": "<?xml version=\"1.0\" encoding=\"utf-8\" standalone=\"no\"?>\n<!DOCTYPE svg PUBLIC \"-//W3C//DTD SVG 1.1//EN\"\n  \"http://www.w3.org/Graphics/SVG/1.1/DTD/svg11.dtd\">\n<!-- Created with matplotlib (https://matplotlib.org/) -->\n<svg height=\"285.05473pt\" version=\"1.1\" viewBox=\"0 0 370.934062 285.05473\" width=\"370.934062pt\" xmlns=\"http://www.w3.org/2000/svg\" xmlns:xlink=\"http://www.w3.org/1999/xlink\">\n <metadata>\n  <rdf:RDF xmlns:cc=\"http://creativecommons.org/ns#\" xmlns:dc=\"http://purl.org/dc/elements/1.1/\" xmlns:rdf=\"http://www.w3.org/1999/02/22-rdf-syntax-ns#\">\n   <cc:Work>\n    <dc:type rdf:resource=\"http://purl.org/dc/dcmitype/StillImage\"/>\n    <dc:date>2021-08-13T20:44:50.079421</dc:date>\n    <dc:format>image/svg+xml</dc:format>\n    <dc:creator>\n     <cc:Agent>\n      <dc:title>Matplotlib v3.3.2, https://matplotlib.org/</dc:title>\n     </cc:Agent>\n    </dc:creator>\n   </cc:Work>\n  </rdf:RDF>\n </metadata>\n <defs>\n  <style type=\"text/css\">*{stroke-linecap:butt;stroke-linejoin:round;}</style>\n </defs>\n <g id=\"figure_1\">\n  <g id=\"patch_1\">\n   <path d=\"M 0 285.05473 \nL 370.934062 285.05473 \nL 370.934062 0 \nL 0 0 \nz\n\" style=\"fill:none;\"/>\n  </g>\n  <g id=\"axes_1\">\n   <g id=\"patch_2\">\n    <path d=\"M 28.934062 224.64 \nL 363.734062 224.64 \nL 363.734062 7.2 \nL 28.934062 7.2 \nz\n\" style=\"fill:#ffffff;\"/>\n   </g>\n   <g id=\"matplotlib.axis_1\">\n    <g id=\"xtick_1\">\n     <g id=\"line2d_1\">\n      <defs>\n       <path d=\"M 0 0 \nL 0 6 \n\" id=\"m790ac6f220\" style=\"stroke:#262626;stroke-width:1.25;\"/>\n      </defs>\n      <g>\n       <use style=\"fill:#262626;stroke:#262626;stroke-width:1.25;\" x=\"62.414062\" xlink:href=\"#m790ac6f220\" y=\"224.64\"/>\n      </g>\n     </g>\n     <g id=\"text_1\">\n      <!-- 2126 -->\n      <g style=\"fill:#262626;\" transform=\"translate(55.774054 257.009049)rotate(-45)scale(0.11 -0.11)\">\n       <defs>\n        <path d=\"M 50.34375 8.453125 \nL 50.34375 0 \nL 3.03125 0 \nQ 2.9375 3.171875 4.046875 6.109375 \nQ 5.859375 10.9375 9.828125 15.625 \nQ 13.8125 20.3125 21.34375 26.46875 \nQ 33.015625 36.03125 37.109375 41.625 \nQ 41.21875 47.21875 41.21875 52.203125 \nQ 41.21875 57.421875 37.46875 61 \nQ 33.734375 64.59375 27.734375 64.59375 \nQ 21.390625 64.59375 17.578125 60.78125 \nQ 13.765625 56.984375 13.71875 50.25 \nL 4.6875 51.171875 \nQ 5.609375 61.28125 11.65625 66.578125 \nQ 17.71875 71.875 27.9375 71.875 \nQ 38.234375 71.875 44.234375 66.15625 \nQ 50.25 60.453125 50.25 52 \nQ 50.25 47.703125 48.484375 43.546875 \nQ 46.734375 39.40625 42.65625 34.8125 \nQ 38.578125 30.21875 29.109375 22.21875 \nQ 21.1875 15.578125 18.9375 13.203125 \nQ 16.703125 10.84375 15.234375 8.453125 \nz\n\" id=\"ArialMT-50\"/>\n        <path d=\"M 37.25 0 \nL 28.46875 0 \nL 28.46875 56 \nQ 25.296875 52.984375 20.140625 49.953125 \nQ 14.984375 46.921875 10.890625 45.40625 \nL 10.890625 53.90625 \nQ 18.265625 57.375 23.78125 62.296875 \nQ 29.296875 67.234375 31.59375 71.875 \nL 37.25 71.875 \nz\n\" id=\"ArialMT-49\"/>\n        <path d=\"M 49.75 54.046875 \nL 41.015625 53.375 \nQ 39.84375 58.546875 37.703125 60.890625 \nQ 34.125 64.65625 28.90625 64.65625 \nQ 24.703125 64.65625 21.53125 62.3125 \nQ 17.390625 59.28125 14.984375 53.46875 \nQ 12.59375 47.65625 12.5 36.921875 \nQ 15.671875 41.75 20.265625 44.09375 \nQ 24.859375 46.4375 29.890625 46.4375 \nQ 38.671875 46.4375 44.84375 39.96875 \nQ 51.03125 33.5 51.03125 23.25 \nQ 51.03125 16.5 48.125 10.71875 \nQ 45.21875 4.9375 40.140625 1.859375 \nQ 35.0625 -1.21875 28.609375 -1.21875 \nQ 17.625 -1.21875 10.6875 6.859375 \nQ 3.765625 14.9375 3.765625 33.5 \nQ 3.765625 54.25 11.421875 63.671875 \nQ 18.109375 71.875 29.4375 71.875 \nQ 37.890625 71.875 43.28125 67.140625 \nQ 48.6875 62.40625 49.75 54.046875 \nz\nM 13.875 23.1875 \nQ 13.875 18.65625 15.796875 14.5 \nQ 17.71875 10.359375 21.1875 8.171875 \nQ 24.65625 6 28.46875 6 \nQ 34.03125 6 38.03125 10.484375 \nQ 42.046875 14.984375 42.046875 22.703125 \nQ 42.046875 30.125 38.078125 34.390625 \nQ 34.125 38.671875 28.125 38.671875 \nQ 22.171875 38.671875 18.015625 34.390625 \nQ 13.875 30.125 13.875 23.1875 \nz\n\" id=\"ArialMT-54\"/>\n       </defs>\n       <use xlink:href=\"#ArialMT-50\"/>\n       <use x=\"55.615234\" xlink:href=\"#ArialMT-49\"/>\n       <use x=\"111.230469\" xlink:href=\"#ArialMT-50\"/>\n       <use x=\"166.845703\" xlink:href=\"#ArialMT-54\"/>\n      </g>\n     </g>\n    </g>\n    <g id=\"xtick_2\">\n     <g id=\"line2d_2\">\n      <g>\n       <use style=\"fill:#262626;stroke:#262626;stroke-width:1.25;\" x=\"129.374063\" xlink:href=\"#m790ac6f220\" y=\"224.64\"/>\n      </g>\n     </g>\n     <g id=\"text_2\">\n      <!-- 6567 -->\n      <g style=\"fill:#262626;\" transform=\"translate(122.734054 257.009049)rotate(-45)scale(0.11 -0.11)\">\n       <defs>\n        <path d=\"M 4.15625 18.75 \nL 13.375 19.53125 \nQ 14.40625 12.796875 18.140625 9.390625 \nQ 21.875 6 27.15625 6 \nQ 33.5 6 37.890625 10.78125 \nQ 42.28125 15.578125 42.28125 23.484375 \nQ 42.28125 31 38.0625 35.34375 \nQ 33.84375 39.703125 27 39.703125 \nQ 22.75 39.703125 19.328125 37.765625 \nQ 15.921875 35.84375 13.96875 32.765625 \nL 5.71875 33.84375 \nL 12.640625 70.609375 \nL 48.25 70.609375 \nL 48.25 62.203125 \nL 19.671875 62.203125 \nL 15.828125 42.96875 \nQ 22.265625 47.46875 29.34375 47.46875 \nQ 38.71875 47.46875 45.15625 40.96875 \nQ 51.609375 34.46875 51.609375 24.265625 \nQ 51.609375 14.546875 45.953125 7.46875 \nQ 39.0625 -1.21875 27.15625 -1.21875 \nQ 17.390625 -1.21875 11.203125 4.25 \nQ 5.03125 9.71875 4.15625 18.75 \nz\n\" id=\"ArialMT-53\"/>\n        <path d=\"M 4.734375 62.203125 \nL 4.734375 70.65625 \nL 51.078125 70.65625 \nL 51.078125 63.8125 \nQ 44.234375 56.546875 37.515625 44.484375 \nQ 30.8125 32.421875 27.15625 19.671875 \nQ 24.515625 10.6875 23.78125 0 \nL 14.75 0 \nQ 14.890625 8.453125 18.0625 20.40625 \nQ 21.234375 32.375 27.171875 43.484375 \nQ 33.109375 54.59375 39.796875 62.203125 \nz\n\" id=\"ArialMT-55\"/>\n       </defs>\n       <use xlink:href=\"#ArialMT-54\"/>\n       <use x=\"55.615234\" xlink:href=\"#ArialMT-53\"/>\n       <use x=\"111.230469\" xlink:href=\"#ArialMT-54\"/>\n       <use x=\"166.845703\" xlink:href=\"#ArialMT-55\"/>\n      </g>\n     </g>\n    </g>\n    <g id=\"xtick_3\">\n     <g id=\"line2d_3\">\n      <g>\n       <use style=\"fill:#262626;stroke:#262626;stroke-width:1.25;\" x=\"196.334063\" xlink:href=\"#m790ac6f220\" y=\"224.64\"/>\n      </g>\n     </g>\n     <g id=\"text_3\">\n      <!-- 6941 -->\n      <g style=\"fill:#262626;\" transform=\"translate(189.694054 257.009049)rotate(-45)scale(0.11 -0.11)\">\n       <defs>\n        <path d=\"M 5.46875 16.546875 \nL 13.921875 17.328125 \nQ 14.984375 11.375 18.015625 8.6875 \nQ 21.046875 6 25.78125 6 \nQ 29.828125 6 32.875 7.859375 \nQ 35.9375 9.71875 37.890625 12.8125 \nQ 39.84375 15.921875 41.15625 21.1875 \nQ 42.484375 26.46875 42.484375 31.9375 \nQ 42.484375 32.515625 42.4375 33.6875 \nQ 39.796875 29.5 35.234375 26.875 \nQ 30.671875 24.265625 25.34375 24.265625 \nQ 16.453125 24.265625 10.296875 30.703125 \nQ 4.15625 37.15625 4.15625 47.703125 \nQ 4.15625 58.59375 10.578125 65.234375 \nQ 17 71.875 26.65625 71.875 \nQ 33.640625 71.875 39.421875 68.109375 \nQ 45.21875 64.359375 48.21875 57.390625 \nQ 51.21875 50.4375 51.21875 37.25 \nQ 51.21875 23.53125 48.234375 15.40625 \nQ 45.265625 7.28125 39.375 3.03125 \nQ 33.5 -1.21875 25.59375 -1.21875 \nQ 17.1875 -1.21875 11.859375 3.4375 \nQ 6.546875 8.109375 5.46875 16.546875 \nz\nM 41.453125 48.140625 \nQ 41.453125 55.71875 37.421875 60.15625 \nQ 33.40625 64.59375 27.734375 64.59375 \nQ 21.875 64.59375 17.53125 59.8125 \nQ 13.1875 55.03125 13.1875 47.40625 \nQ 13.1875 40.578125 17.3125 36.296875 \nQ 21.4375 32.03125 27.484375 32.03125 \nQ 33.59375 32.03125 37.515625 36.296875 \nQ 41.453125 40.578125 41.453125 48.140625 \nz\n\" id=\"ArialMT-57\"/>\n        <path d=\"M 32.328125 0 \nL 32.328125 17.140625 \nL 1.265625 17.140625 \nL 1.265625 25.203125 \nL 33.9375 71.578125 \nL 41.109375 71.578125 \nL 41.109375 25.203125 \nL 50.78125 25.203125 \nL 50.78125 17.140625 \nL 41.109375 17.140625 \nL 41.109375 0 \nz\nM 32.328125 25.203125 \nL 32.328125 57.46875 \nL 9.90625 25.203125 \nz\n\" id=\"ArialMT-52\"/>\n       </defs>\n       <use xlink:href=\"#ArialMT-54\"/>\n       <use x=\"55.615234\" xlink:href=\"#ArialMT-57\"/>\n       <use x=\"111.230469\" xlink:href=\"#ArialMT-52\"/>\n       <use x=\"166.845703\" xlink:href=\"#ArialMT-49\"/>\n      </g>\n     </g>\n    </g>\n    <g id=\"xtick_4\">\n     <g id=\"line2d_4\">\n      <g>\n       <use style=\"fill:#262626;stroke:#262626;stroke-width:1.25;\" x=\"263.294062\" xlink:href=\"#m790ac6f220\" y=\"224.64\"/>\n      </g>\n     </g>\n     <g id=\"text_4\">\n      <!-- 1669 -->\n      <g style=\"fill:#262626;\" transform=\"translate(256.654054 257.009049)rotate(-45)scale(0.11 -0.11)\">\n       <use xlink:href=\"#ArialMT-49\"/>\n       <use x=\"55.615234\" xlink:href=\"#ArialMT-54\"/>\n       <use x=\"111.230469\" xlink:href=\"#ArialMT-54\"/>\n       <use x=\"166.845703\" xlink:href=\"#ArialMT-57\"/>\n      </g>\n     </g>\n    </g>\n    <g id=\"xtick_5\">\n     <g id=\"line2d_5\">\n      <g>\n       <use style=\"fill:#262626;stroke:#262626;stroke-width:1.25;\" x=\"330.254063\" xlink:href=\"#m790ac6f220\" y=\"224.64\"/>\n      </g>\n     </g>\n     <g id=\"text_5\">\n      <!-- 10572 -->\n      <g style=\"fill:#262626;\" transform=\"translate(321.451356 261.334443)rotate(-45)scale(0.11 -0.11)\">\n       <defs>\n        <path d=\"M 4.15625 35.296875 \nQ 4.15625 48 6.765625 55.734375 \nQ 9.375 63.484375 14.515625 67.671875 \nQ 19.671875 71.875 27.484375 71.875 \nQ 33.25 71.875 37.59375 69.546875 \nQ 41.9375 67.234375 44.765625 62.859375 \nQ 47.609375 58.5 49.21875 52.21875 \nQ 50.828125 45.953125 50.828125 35.296875 \nQ 50.828125 22.703125 48.234375 14.96875 \nQ 45.65625 7.234375 40.5 3 \nQ 35.359375 -1.21875 27.484375 -1.21875 \nQ 17.140625 -1.21875 11.234375 6.203125 \nQ 4.15625 15.140625 4.15625 35.296875 \nz\nM 13.1875 35.296875 \nQ 13.1875 17.671875 17.3125 11.828125 \nQ 21.4375 6 27.484375 6 \nQ 33.546875 6 37.671875 11.859375 \nQ 41.796875 17.71875 41.796875 35.296875 \nQ 41.796875 52.984375 37.671875 58.78125 \nQ 33.546875 64.59375 27.390625 64.59375 \nQ 21.34375 64.59375 17.71875 59.46875 \nQ 13.1875 52.9375 13.1875 35.296875 \nz\n\" id=\"ArialMT-48\"/>\n       </defs>\n       <use xlink:href=\"#ArialMT-49\"/>\n       <use x=\"55.615234\" xlink:href=\"#ArialMT-48\"/>\n       <use x=\"111.230469\" xlink:href=\"#ArialMT-53\"/>\n       <use x=\"166.845703\" xlink:href=\"#ArialMT-55\"/>\n       <use x=\"222.460938\" xlink:href=\"#ArialMT-50\"/>\n      </g>\n     </g>\n    </g>\n    <g id=\"text_6\">\n     <!-- term_id -->\n     <g style=\"fill:#262626;\" transform=\"translate(176.32875 275.46973)scale(0.12 -0.12)\">\n      <defs>\n       <path d=\"M 25.78125 7.859375 \nL 27.046875 0.09375 \nQ 23.34375 -0.6875 20.40625 -0.6875 \nQ 15.625 -0.6875 12.984375 0.828125 \nQ 10.359375 2.34375 9.28125 4.8125 \nQ 8.203125 7.28125 8.203125 15.1875 \nL 8.203125 45.015625 \nL 1.765625 45.015625 \nL 1.765625 51.859375 \nL 8.203125 51.859375 \nL 8.203125 64.703125 \nL 16.9375 69.96875 \nL 16.9375 51.859375 \nL 25.78125 51.859375 \nL 25.78125 45.015625 \nL 16.9375 45.015625 \nL 16.9375 14.703125 \nQ 16.9375 10.9375 17.40625 9.859375 \nQ 17.875 8.796875 18.921875 8.15625 \nQ 19.96875 7.515625 21.921875 7.515625 \nQ 23.390625 7.515625 25.78125 7.859375 \nz\n\" id=\"ArialMT-116\"/>\n       <path d=\"M 42.09375 16.703125 \nL 51.171875 15.578125 \nQ 49.03125 7.625 43.21875 3.21875 \nQ 37.40625 -1.171875 28.375 -1.171875 \nQ 17 -1.171875 10.328125 5.828125 \nQ 3.65625 12.84375 3.65625 25.484375 \nQ 3.65625 38.578125 10.390625 45.796875 \nQ 17.140625 53.03125 27.875 53.03125 \nQ 38.28125 53.03125 44.875 45.953125 \nQ 51.46875 38.875 51.46875 26.03125 \nQ 51.46875 25.25 51.421875 23.6875 \nL 12.75 23.6875 \nQ 13.234375 15.140625 17.578125 10.59375 \nQ 21.921875 6.0625 28.421875 6.0625 \nQ 33.25 6.0625 36.671875 8.59375 \nQ 40.09375 11.140625 42.09375 16.703125 \nz\nM 13.234375 30.90625 \nL 42.1875 30.90625 \nQ 41.609375 37.453125 38.875 40.71875 \nQ 34.671875 45.796875 27.984375 45.796875 \nQ 21.921875 45.796875 17.796875 41.75 \nQ 13.671875 37.703125 13.234375 30.90625 \nz\n\" id=\"ArialMT-101\"/>\n       <path d=\"M 6.5 0 \nL 6.5 51.859375 \nL 14.40625 51.859375 \nL 14.40625 44 \nQ 17.4375 49.515625 20 51.265625 \nQ 22.5625 53.03125 25.640625 53.03125 \nQ 30.078125 53.03125 34.671875 50.203125 \nL 31.640625 42.046875 \nQ 28.421875 43.953125 25.203125 43.953125 \nQ 22.3125 43.953125 20.015625 42.21875 \nQ 17.71875 40.484375 16.75 37.40625 \nQ 15.28125 32.71875 15.28125 27.15625 \nL 15.28125 0 \nz\n\" id=\"ArialMT-114\"/>\n       <path d=\"M 6.59375 0 \nL 6.59375 51.859375 \nL 14.453125 51.859375 \nL 14.453125 44.578125 \nQ 16.890625 48.390625 20.9375 50.703125 \nQ 25 53.03125 30.171875 53.03125 \nQ 35.9375 53.03125 39.625 50.640625 \nQ 43.3125 48.25 44.828125 43.953125 \nQ 50.984375 53.03125 60.84375 53.03125 \nQ 68.5625 53.03125 72.703125 48.75 \nQ 76.859375 44.484375 76.859375 35.59375 \nL 76.859375 0 \nL 68.109375 0 \nL 68.109375 32.671875 \nQ 68.109375 37.9375 67.25 40.25 \nQ 66.40625 42.578125 64.15625 43.984375 \nQ 61.921875 45.40625 58.890625 45.40625 \nQ 53.421875 45.40625 49.796875 41.765625 \nQ 46.1875 38.140625 46.1875 30.125 \nL 46.1875 0 \nL 37.40625 0 \nL 37.40625 33.6875 \nQ 37.40625 39.546875 35.25 42.46875 \nQ 33.109375 45.40625 28.21875 45.40625 \nQ 24.515625 45.40625 21.359375 43.453125 \nQ 18.21875 41.5 16.796875 37.734375 \nQ 15.375 33.984375 15.375 26.90625 \nL 15.375 0 \nz\n\" id=\"ArialMT-109\"/>\n       <path d=\"M -1.515625 -19.875 \nL -1.515625 -13.53125 \nL 56.734375 -13.53125 \nL 56.734375 -19.875 \nz\n\" id=\"ArialMT-95\"/>\n       <path d=\"M 6.640625 61.46875 \nL 6.640625 71.578125 \nL 15.4375 71.578125 \nL 15.4375 61.46875 \nz\nM 6.640625 0 \nL 6.640625 51.859375 \nL 15.4375 51.859375 \nL 15.4375 0 \nz\n\" id=\"ArialMT-105\"/>\n       <path d=\"M 40.234375 0 \nL 40.234375 6.546875 \nQ 35.296875 -1.171875 25.734375 -1.171875 \nQ 19.53125 -1.171875 14.328125 2.25 \nQ 9.125 5.671875 6.265625 11.796875 \nQ 3.421875 17.921875 3.421875 25.875 \nQ 3.421875 33.640625 6 39.96875 \nQ 8.59375 46.296875 13.765625 49.65625 \nQ 18.953125 53.03125 25.34375 53.03125 \nQ 30.03125 53.03125 33.6875 51.046875 \nQ 37.359375 49.078125 39.65625 45.90625 \nL 39.65625 71.578125 \nL 48.390625 71.578125 \nL 48.390625 0 \nz\nM 12.453125 25.875 \nQ 12.453125 15.921875 16.640625 10.984375 \nQ 20.84375 6.0625 26.5625 6.0625 \nQ 32.328125 6.0625 36.34375 10.765625 \nQ 40.375 15.484375 40.375 25.140625 \nQ 40.375 35.796875 36.265625 40.765625 \nQ 32.171875 45.75 26.171875 45.75 \nQ 20.3125 45.75 16.375 40.96875 \nQ 12.453125 36.1875 12.453125 25.875 \nz\n\" id=\"ArialMT-100\"/>\n      </defs>\n      <use xlink:href=\"#ArialMT-116\"/>\n      <use x=\"27.783203\" xlink:href=\"#ArialMT-101\"/>\n      <use x=\"83.398438\" xlink:href=\"#ArialMT-114\"/>\n      <use x=\"116.699219\" xlink:href=\"#ArialMT-109\"/>\n      <use x=\"200\" xlink:href=\"#ArialMT-95\"/>\n      <use x=\"255.615234\" xlink:href=\"#ArialMT-105\"/>\n      <use x=\"277.832031\" xlink:href=\"#ArialMT-100\"/>\n     </g>\n    </g>\n   </g>\n   <g id=\"matplotlib.axis_2\">\n    <g id=\"ytick_1\">\n     <g id=\"line2d_6\">\n      <defs>\n       <path d=\"M 0 0 \nL -6 0 \n\" id=\"mf46709af8a\" style=\"stroke:#262626;stroke-width:1.25;\"/>\n      </defs>\n      <g>\n       <use style=\"fill:#262626;stroke:#262626;stroke-width:1.25;\" x=\"28.934062\" xlink:href=\"#mf46709af8a\" y=\"224.64\"/>\n      </g>\n     </g>\n     <g id=\"text_7\">\n      <!-- 0 -->\n      <g style=\"fill:#262626;\" transform=\"translate(13.317031 228.576797)scale(0.11 -0.11)\">\n       <use xlink:href=\"#ArialMT-48\"/>\n      </g>\n     </g>\n    </g>\n    <g id=\"ytick_2\">\n     <g id=\"line2d_7\">\n      <g>\n       <use style=\"fill:#262626;stroke:#262626;stroke-width:1.25;\" x=\"28.934062\" xlink:href=\"#mf46709af8a\" y=\"199.737918\"/>\n      </g>\n     </g>\n     <g id=\"text_8\">\n      <!-- 5 -->\n      <g style=\"fill:#262626;\" transform=\"translate(13.317031 203.674715)scale(0.11 -0.11)\">\n       <use xlink:href=\"#ArialMT-53\"/>\n      </g>\n     </g>\n    </g>\n    <g id=\"ytick_3\">\n     <g id=\"line2d_8\">\n      <g>\n       <use style=\"fill:#262626;stroke:#262626;stroke-width:1.25;\" x=\"28.934062\" xlink:href=\"#mf46709af8a\" y=\"174.835836\"/>\n      </g>\n     </g>\n     <g id=\"text_9\">\n      <!-- 10 -->\n      <g style=\"fill:#262626;\" transform=\"translate(7.2 178.772633)scale(0.11 -0.11)\">\n       <use xlink:href=\"#ArialMT-49\"/>\n       <use x=\"55.615234\" xlink:href=\"#ArialMT-48\"/>\n      </g>\n     </g>\n    </g>\n    <g id=\"ytick_4\">\n     <g id=\"line2d_9\">\n      <g>\n       <use style=\"fill:#262626;stroke:#262626;stroke-width:1.25;\" x=\"28.934062\" xlink:href=\"#mf46709af8a\" y=\"149.933754\"/>\n      </g>\n     </g>\n     <g id=\"text_10\">\n      <!-- 15 -->\n      <g style=\"fill:#262626;\" transform=\"translate(7.2 153.870551)scale(0.11 -0.11)\">\n       <use xlink:href=\"#ArialMT-49\"/>\n       <use x=\"55.615234\" xlink:href=\"#ArialMT-53\"/>\n      </g>\n     </g>\n    </g>\n    <g id=\"ytick_5\">\n     <g id=\"line2d_10\">\n      <g>\n       <use style=\"fill:#262626;stroke:#262626;stroke-width:1.25;\" x=\"28.934062\" xlink:href=\"#mf46709af8a\" y=\"125.031672\"/>\n      </g>\n     </g>\n     <g id=\"text_11\">\n      <!-- 20 -->\n      <g style=\"fill:#262626;\" transform=\"translate(7.2 128.968469)scale(0.11 -0.11)\">\n       <use xlink:href=\"#ArialMT-50\"/>\n       <use x=\"55.615234\" xlink:href=\"#ArialMT-48\"/>\n      </g>\n     </g>\n    </g>\n    <g id=\"ytick_6\">\n     <g id=\"line2d_11\">\n      <g>\n       <use style=\"fill:#262626;stroke:#262626;stroke-width:1.25;\" x=\"28.934062\" xlink:href=\"#mf46709af8a\" y=\"100.12959\"/>\n      </g>\n     </g>\n     <g id=\"text_12\">\n      <!-- 25 -->\n      <g style=\"fill:#262626;\" transform=\"translate(7.2 104.066387)scale(0.11 -0.11)\">\n       <use xlink:href=\"#ArialMT-50\"/>\n       <use x=\"55.615234\" xlink:href=\"#ArialMT-53\"/>\n      </g>\n     </g>\n    </g>\n    <g id=\"ytick_7\">\n     <g id=\"line2d_12\">\n      <g>\n       <use style=\"fill:#262626;stroke:#262626;stroke-width:1.25;\" x=\"28.934062\" xlink:href=\"#mf46709af8a\" y=\"75.227508\"/>\n      </g>\n     </g>\n     <g id=\"text_13\">\n      <!-- 30 -->\n      <g style=\"fill:#262626;\" transform=\"translate(7.2 79.164305)scale(0.11 -0.11)\">\n       <defs>\n        <path d=\"M 4.203125 18.890625 \nL 12.984375 20.0625 \nQ 14.5 12.59375 18.140625 9.296875 \nQ 21.78125 6 27 6 \nQ 33.203125 6 37.46875 10.296875 \nQ 41.75 14.59375 41.75 20.953125 \nQ 41.75 27 37.796875 30.921875 \nQ 33.84375 34.859375 27.734375 34.859375 \nQ 25.25 34.859375 21.53125 33.890625 \nL 22.515625 41.609375 \nQ 23.390625 41.5 23.921875 41.5 \nQ 29.546875 41.5 34.03125 44.421875 \nQ 38.53125 47.359375 38.53125 53.46875 \nQ 38.53125 58.296875 35.25 61.46875 \nQ 31.984375 64.65625 26.8125 64.65625 \nQ 21.6875 64.65625 18.265625 61.421875 \nQ 14.84375 58.203125 13.875 51.765625 \nL 5.078125 53.328125 \nQ 6.6875 62.15625 12.390625 67.015625 \nQ 18.109375 71.875 26.609375 71.875 \nQ 32.46875 71.875 37.390625 69.359375 \nQ 42.328125 66.84375 44.9375 62.5 \nQ 47.5625 58.15625 47.5625 53.265625 \nQ 47.5625 48.640625 45.0625 44.828125 \nQ 42.578125 41.015625 37.703125 38.765625 \nQ 44.046875 37.3125 47.5625 32.6875 \nQ 51.078125 28.078125 51.078125 21.140625 \nQ 51.078125 11.765625 44.234375 5.25 \nQ 37.40625 -1.265625 26.953125 -1.265625 \nQ 17.53125 -1.265625 11.296875 4.34375 \nQ 5.078125 9.96875 4.203125 18.890625 \nz\n\" id=\"ArialMT-51\"/>\n       </defs>\n       <use xlink:href=\"#ArialMT-51\"/>\n       <use x=\"55.615234\" xlink:href=\"#ArialMT-48\"/>\n      </g>\n     </g>\n    </g>\n    <g id=\"ytick_8\">\n     <g id=\"line2d_13\">\n      <g>\n       <use style=\"fill:#262626;stroke:#262626;stroke-width:1.25;\" x=\"28.934062\" xlink:href=\"#mf46709af8a\" y=\"50.325426\"/>\n      </g>\n     </g>\n     <g id=\"text_14\">\n      <!-- 35 -->\n      <g style=\"fill:#262626;\" transform=\"translate(7.2 54.262223)scale(0.11 -0.11)\">\n       <use xlink:href=\"#ArialMT-51\"/>\n       <use x=\"55.615234\" xlink:href=\"#ArialMT-53\"/>\n      </g>\n     </g>\n    </g>\n    <g id=\"ytick_9\">\n     <g id=\"line2d_14\">\n      <g>\n       <use style=\"fill:#262626;stroke:#262626;stroke-width:1.25;\" x=\"28.934062\" xlink:href=\"#mf46709af8a\" y=\"25.423344\"/>\n      </g>\n     </g>\n     <g id=\"text_15\">\n      <!-- 40 -->\n      <g style=\"fill:#262626;\" transform=\"translate(7.2 29.360141)scale(0.11 -0.11)\">\n       <use xlink:href=\"#ArialMT-52\"/>\n       <use x=\"55.615234\" xlink:href=\"#ArialMT-48\"/>\n      </g>\n     </g>\n    </g>\n   </g>\n   <g id=\"patch_3\">\n    <path clip-path=\"url(#pcb66e34e7d)\" d=\"M 45.674062 224.64 \nL 79.154063 224.64 \nL 79.154063 17.554286 \nL 45.674062 17.554286 \nz\n\" style=\"fill:#4c72b0;stroke:#ffffff;stroke-linejoin:miter;\"/>\n   </g>\n   <g id=\"patch_4\">\n    <path clip-path=\"url(#pcb66e34e7d)\" d=\"M 112.634062 224.64 \nL 146.114062 224.64 \nL 146.114062 24.277848 \nL 112.634062 24.277848 \nz\n\" style=\"fill:#4c72b0;stroke:#ffffff;stroke-linejoin:miter;\"/>\n   </g>\n   <g id=\"patch_5\">\n    <path clip-path=\"url(#pcb66e34e7d)\" d=\"M 179.594063 224.64 \nL 213.074063 224.64 \nL 213.074063 134.046226 \nL 179.594063 134.046226 \nz\n\" style=\"fill:#4c72b0;stroke:#ffffff;stroke-linejoin:miter;\"/>\n   </g>\n   <g id=\"patch_6\">\n    <path clip-path=\"url(#pcb66e34e7d)\" d=\"M 246.554063 224.64 \nL 280.034063 224.64 \nL 280.034063 224.64 \nL 246.554063 224.64 \nz\n\" style=\"fill:#4c72b0;stroke:#ffffff;stroke-linejoin:miter;\"/>\n   </g>\n   <g id=\"patch_7\">\n    <path clip-path=\"url(#pcb66e34e7d)\" d=\"M 313.514063 224.64 \nL 346.994063 224.64 \nL 346.994063 224.64 \nL 313.514063 224.64 \nz\n\" style=\"fill:#4c72b0;stroke:#ffffff;stroke-linejoin:miter;\"/>\n   </g>\n   <g id=\"patch_8\">\n    <path d=\"M 28.934062 224.64 \nL 28.934062 7.2 \n\" style=\"fill:none;stroke:#262626;stroke-linecap:square;stroke-linejoin:miter;stroke-width:1.25;\"/>\n   </g>\n   <g id=\"patch_9\">\n    <path d=\"M 363.734062 224.64 \nL 363.734062 7.2 \n\" style=\"fill:none;stroke:#262626;stroke-linecap:square;stroke-linejoin:miter;stroke-width:1.25;\"/>\n   </g>\n   <g id=\"patch_10\">\n    <path d=\"M 28.934062 224.64 \nL 363.734063 224.64 \n\" style=\"fill:none;stroke:#262626;stroke-linecap:square;stroke-linejoin:miter;stroke-width:1.25;\"/>\n   </g>\n   <g id=\"patch_11\">\n    <path d=\"M 28.934062 7.2 \nL 363.734063 7.2 \n\" style=\"fill:none;stroke:#262626;stroke-linecap:square;stroke-linejoin:miter;stroke-width:1.25;\"/>\n   </g>\n  </g>\n </g>\n <defs>\n  <clipPath id=\"pcb66e34e7d\">\n   <rect height=\"217.44\" width=\"334.8\" x=\"28.934062\" y=\"7.2\"/>\n  </clipPath>\n </defs>\n</svg>\n",
      "image/png": "[encoded data removed]"
     },
     "metadata": {
      "needs_background": "light"
     }
    }
   ],
   "metadata": {}
  },
  {
   "cell_type": "code",
   "execution_count": 37,
   "source": [
    "COMPS = EIG_PAIRS.sort_values('exp_var', ascending=False).head(10).reset_index(drop=True)\n",
    "COMPS.index.name = 'comp_id'\n",
    "COMPS.index = [\"PC{}\".format(i) for i in COMPS.index.tolist()]"
   ],
   "outputs": [],
   "metadata": {}
  },
  {
   "cell_type": "code",
   "execution_count": 38,
   "source": [
    "COMPS"
   ],
   "outputs": [
    {
     "output_type": "execute_result",
     "data": {
      "text/plain": [
       "          eig_val      3976          3440          2402          2521  \\\n",
       "PC0  6.415178e-06  0.047617  6.385737e-01  2.876854e-02  3.984263e-01   \n",
       "PC1  6.207775e-06 -0.689692  4.564380e-02 -4.166890e-01  2.847861e-02   \n",
       "PC2  2.806171e-06 -0.005808 -2.185102e-02 -3.509252e-03 -1.363354e-02   \n",
       "PC3  1.986745e-42  0.000000  4.443814e-18  3.582418e-18  2.381318e-18   \n",
       "PC4  2.011419e-42  0.000000 -1.665716e-18 -6.927129e-19 -1.613009e-18   \n",
       "PC5  2.007060e-42  0.000000 -1.560038e-18 -1.057765e-18 -1.815323e-18   \n",
       "PC6  1.990927e-42  0.000000 -2.703045e-18 -3.643427e-18  2.550855e-19   \n",
       "PC7  1.990694e-42  0.000000 -4.052077e-18 -2.673159e-18 -1.774230e-18   \n",
       "PC8  1.989026e-42  0.000000 -2.346312e-18 -2.256051e-18 -2.322379e-18   \n",
       "PC9  1.973648e-42  0.000000  7.977948e-18  7.144988e-18  4.125818e-18   \n",
       "\n",
       "            10621          1043          1524          3385          5865  \\\n",
       "PC0  7.720324e-03  3.198326e-01  5.053765e-02  2.129923e-02  2.816274e-01   \n",
       "PC1 -1.388337e-03  2.286091e-02  2.048679e-03 -3.085020e-01  2.013008e-02   \n",
       "PC2  5.093703e-01 -1.094419e-02  4.089998e-01 -2.598128e-03 -9.636861e-03   \n",
       "PC3  3.361072e-18  3.202624e-18 -5.272364e-18  1.012136e-18 -7.773440e-19   \n",
       "PC4 -4.647200e-18 -1.615077e-20 -5.554786e-19 -3.634683e-18  3.432589e-18   \n",
       "PC5 -4.038426e-18 -2.894384e-18  2.077505e-19 -2.602598e-18  9.253724e-19   \n",
       "PC6  4.003600e-18  6.692077e-19 -9.034582e-18  5.012517e-18  3.154344e-18   \n",
       "PC7 -1.979407e-18 -2.945788e-18  1.818753e-18 -1.572715e-18  6.022296e-18   \n",
       "PC8  4.026998e-18 -3.544801e-18  2.203984e-18  1.396294e-18  3.051811e-19   \n",
       "PC9 -1.117072e-17  3.682201e-18  1.381512e-19 -3.341353e-18 -6.394394e-18   \n",
       "\n",
       "     ...      7885      8350      8648      9632      9075       479  \\\n",
       "PC0  ...  0.000827  0.000827  0.000827  0.000827  0.000827  0.000827   \n",
       "PC1  ... -0.000254 -0.000254 -0.000254 -0.000254 -0.000254 -0.000254   \n",
       "PC2  ... -0.000030 -0.000030 -0.000030 -0.000030 -0.000030 -0.000030   \n",
       "PC3  ...  0.001786  0.016868  0.012910  0.022334  0.027817 -0.014584   \n",
       "PC4  ... -0.020772  0.010965 -0.019025  0.005550  0.032350  0.007271   \n",
       "PC5  ... -0.014836  0.002695 -0.016860  0.057394  0.018877  0.016501   \n",
       "PC6  ... -0.016984  0.002863  0.007482  0.007657 -0.002763  0.004951   \n",
       "PC7  ... -0.004479 -0.015921 -0.011388  0.007270  0.013280  0.014414   \n",
       "PC8  ... -0.019084  0.024401  0.000638  0.022851  0.017484 -0.038223   \n",
       "PC9  ...  0.005512  0.019865  0.017263  0.000936  0.010017 -0.022754   \n",
       "\n",
       "         6941      6567      2126  exp_var  \n",
       "PC0  0.000827  0.000827  0.000827    41.58  \n",
       "PC1 -0.000254 -0.000254 -0.000254    40.23  \n",
       "PC2 -0.000030 -0.000030 -0.000030    18.19  \n",
       "PC3  0.014584 -0.009799  0.009799     0.00  \n",
       "PC4 -0.007271 -0.010076  0.010076     0.00  \n",
       "PC5 -0.016501  0.009668 -0.009668     0.00  \n",
       "PC6 -0.004951  0.027944 -0.027944     0.00  \n",
       "PC7 -0.014414 -0.004332  0.004332     0.00  \n",
       "PC8  0.038223 -0.005183  0.005183     0.00  \n",
       "PC9  0.022754  0.006553 -0.006553     0.00  \n",
       "\n",
       "[10 rows x 4002 columns]"
      ],
      "text/html": [
       "<div>\n",
       "<style scoped>\n",
       "    .dataframe tbody tr th:only-of-type {\n",
       "        vertical-align: middle;\n",
       "    }\n",
       "\n",
       "    .dataframe tbody tr th {\n",
       "        vertical-align: top;\n",
       "    }\n",
       "\n",
       "    .dataframe thead th {\n",
       "        text-align: right;\n",
       "    }\n",
       "</style>\n",
       "<table border=\"1\" class=\"dataframe\">\n",
       "  <thead>\n",
       "    <tr style=\"text-align: right;\">\n",
       "      <th></th>\n",
       "      <th>eig_val</th>\n",
       "      <th>3976</th>\n",
       "      <th>3440</th>\n",
       "      <th>2402</th>\n",
       "      <th>2521</th>\n",
       "      <th>10621</th>\n",
       "      <th>1043</th>\n",
       "      <th>1524</th>\n",
       "      <th>3385</th>\n",
       "      <th>5865</th>\n",
       "      <th>...</th>\n",
       "      <th>7885</th>\n",
       "      <th>8350</th>\n",
       "      <th>8648</th>\n",
       "      <th>9632</th>\n",
       "      <th>9075</th>\n",
       "      <th>479</th>\n",
       "      <th>6941</th>\n",
       "      <th>6567</th>\n",
       "      <th>2126</th>\n",
       "      <th>exp_var</th>\n",
       "    </tr>\n",
       "  </thead>\n",
       "  <tbody>\n",
       "    <tr>\n",
       "      <th>PC0</th>\n",
       "      <td>6.415178e-06</td>\n",
       "      <td>0.047617</td>\n",
       "      <td>6.385737e-01</td>\n",
       "      <td>2.876854e-02</td>\n",
       "      <td>3.984263e-01</td>\n",
       "      <td>7.720324e-03</td>\n",
       "      <td>3.198326e-01</td>\n",
       "      <td>5.053765e-02</td>\n",
       "      <td>2.129923e-02</td>\n",
       "      <td>2.816274e-01</td>\n",
       "      <td>...</td>\n",
       "      <td>0.000827</td>\n",
       "      <td>0.000827</td>\n",
       "      <td>0.000827</td>\n",
       "      <td>0.000827</td>\n",
       "      <td>0.000827</td>\n",
       "      <td>0.000827</td>\n",
       "      <td>0.000827</td>\n",
       "      <td>0.000827</td>\n",
       "      <td>0.000827</td>\n",
       "      <td>41.58</td>\n",
       "    </tr>\n",
       "    <tr>\n",
       "      <th>PC1</th>\n",
       "      <td>6.207775e-06</td>\n",
       "      <td>-0.689692</td>\n",
       "      <td>4.564380e-02</td>\n",
       "      <td>-4.166890e-01</td>\n",
       "      <td>2.847861e-02</td>\n",
       "      <td>-1.388337e-03</td>\n",
       "      <td>2.286091e-02</td>\n",
       "      <td>2.048679e-03</td>\n",
       "      <td>-3.085020e-01</td>\n",
       "      <td>2.013008e-02</td>\n",
       "      <td>...</td>\n",
       "      <td>-0.000254</td>\n",
       "      <td>-0.000254</td>\n",
       "      <td>-0.000254</td>\n",
       "      <td>-0.000254</td>\n",
       "      <td>-0.000254</td>\n",
       "      <td>-0.000254</td>\n",
       "      <td>-0.000254</td>\n",
       "      <td>-0.000254</td>\n",
       "      <td>-0.000254</td>\n",
       "      <td>40.23</td>\n",
       "    </tr>\n",
       "    <tr>\n",
       "      <th>PC2</th>\n",
       "      <td>2.806171e-06</td>\n",
       "      <td>-0.005808</td>\n",
       "      <td>-2.185102e-02</td>\n",
       "      <td>-3.509252e-03</td>\n",
       "      <td>-1.363354e-02</td>\n",
       "      <td>5.093703e-01</td>\n",
       "      <td>-1.094419e-02</td>\n",
       "      <td>4.089998e-01</td>\n",
       "      <td>-2.598128e-03</td>\n",
       "      <td>-9.636861e-03</td>\n",
       "      <td>...</td>\n",
       "      <td>-0.000030</td>\n",
       "      <td>-0.000030</td>\n",
       "      <td>-0.000030</td>\n",
       "      <td>-0.000030</td>\n",
       "      <td>-0.000030</td>\n",
       "      <td>-0.000030</td>\n",
       "      <td>-0.000030</td>\n",
       "      <td>-0.000030</td>\n",
       "      <td>-0.000030</td>\n",
       "      <td>18.19</td>\n",
       "    </tr>\n",
       "    <tr>\n",
       "      <th>PC3</th>\n",
       "      <td>1.986745e-42</td>\n",
       "      <td>0.000000</td>\n",
       "      <td>4.443814e-18</td>\n",
       "      <td>3.582418e-18</td>\n",
       "      <td>2.381318e-18</td>\n",
       "      <td>3.361072e-18</td>\n",
       "      <td>3.202624e-18</td>\n",
       "      <td>-5.272364e-18</td>\n",
       "      <td>1.012136e-18</td>\n",
       "      <td>-7.773440e-19</td>\n",
       "      <td>...</td>\n",
       "      <td>0.001786</td>\n",
       "      <td>0.016868</td>\n",
       "      <td>0.012910</td>\n",
       "      <td>0.022334</td>\n",
       "      <td>0.027817</td>\n",
       "      <td>-0.014584</td>\n",
       "      <td>0.014584</td>\n",
       "      <td>-0.009799</td>\n",
       "      <td>0.009799</td>\n",
       "      <td>0.00</td>\n",
       "    </tr>\n",
       "    <tr>\n",
       "      <th>PC4</th>\n",
       "      <td>2.011419e-42</td>\n",
       "      <td>0.000000</td>\n",
       "      <td>-1.665716e-18</td>\n",
       "      <td>-6.927129e-19</td>\n",
       "      <td>-1.613009e-18</td>\n",
       "      <td>-4.647200e-18</td>\n",
       "      <td>-1.615077e-20</td>\n",
       "      <td>-5.554786e-19</td>\n",
       "      <td>-3.634683e-18</td>\n",
       "      <td>3.432589e-18</td>\n",
       "      <td>...</td>\n",
       "      <td>-0.020772</td>\n",
       "      <td>0.010965</td>\n",
       "      <td>-0.019025</td>\n",
       "      <td>0.005550</td>\n",
       "      <td>0.032350</td>\n",
       "      <td>0.007271</td>\n",
       "      <td>-0.007271</td>\n",
       "      <td>-0.010076</td>\n",
       "      <td>0.010076</td>\n",
       "      <td>0.00</td>\n",
       "    </tr>\n",
       "    <tr>\n",
       "      <th>PC5</th>\n",
       "      <td>2.007060e-42</td>\n",
       "      <td>0.000000</td>\n",
       "      <td>-1.560038e-18</td>\n",
       "      <td>-1.057765e-18</td>\n",
       "      <td>-1.815323e-18</td>\n",
       "      <td>-4.038426e-18</td>\n",
       "      <td>-2.894384e-18</td>\n",
       "      <td>2.077505e-19</td>\n",
       "      <td>-2.602598e-18</td>\n",
       "      <td>9.253724e-19</td>\n",
       "      <td>...</td>\n",
       "      <td>-0.014836</td>\n",
       "      <td>0.002695</td>\n",
       "      <td>-0.016860</td>\n",
       "      <td>0.057394</td>\n",
       "      <td>0.018877</td>\n",
       "      <td>0.016501</td>\n",
       "      <td>-0.016501</td>\n",
       "      <td>0.009668</td>\n",
       "      <td>-0.009668</td>\n",
       "      <td>0.00</td>\n",
       "    </tr>\n",
       "    <tr>\n",
       "      <th>PC6</th>\n",
       "      <td>1.990927e-42</td>\n",
       "      <td>0.000000</td>\n",
       "      <td>-2.703045e-18</td>\n",
       "      <td>-3.643427e-18</td>\n",
       "      <td>2.550855e-19</td>\n",
       "      <td>4.003600e-18</td>\n",
       "      <td>6.692077e-19</td>\n",
       "      <td>-9.034582e-18</td>\n",
       "      <td>5.012517e-18</td>\n",
       "      <td>3.154344e-18</td>\n",
       "      <td>...</td>\n",
       "      <td>-0.016984</td>\n",
       "      <td>0.002863</td>\n",
       "      <td>0.007482</td>\n",
       "      <td>0.007657</td>\n",
       "      <td>-0.002763</td>\n",
       "      <td>0.004951</td>\n",
       "      <td>-0.004951</td>\n",
       "      <td>0.027944</td>\n",
       "      <td>-0.027944</td>\n",
       "      <td>0.00</td>\n",
       "    </tr>\n",
       "    <tr>\n",
       "      <th>PC7</th>\n",
       "      <td>1.990694e-42</td>\n",
       "      <td>0.000000</td>\n",
       "      <td>-4.052077e-18</td>\n",
       "      <td>-2.673159e-18</td>\n",
       "      <td>-1.774230e-18</td>\n",
       "      <td>-1.979407e-18</td>\n",
       "      <td>-2.945788e-18</td>\n",
       "      <td>1.818753e-18</td>\n",
       "      <td>-1.572715e-18</td>\n",
       "      <td>6.022296e-18</td>\n",
       "      <td>...</td>\n",
       "      <td>-0.004479</td>\n",
       "      <td>-0.015921</td>\n",
       "      <td>-0.011388</td>\n",
       "      <td>0.007270</td>\n",
       "      <td>0.013280</td>\n",
       "      <td>0.014414</td>\n",
       "      <td>-0.014414</td>\n",
       "      <td>-0.004332</td>\n",
       "      <td>0.004332</td>\n",
       "      <td>0.00</td>\n",
       "    </tr>\n",
       "    <tr>\n",
       "      <th>PC8</th>\n",
       "      <td>1.989026e-42</td>\n",
       "      <td>0.000000</td>\n",
       "      <td>-2.346312e-18</td>\n",
       "      <td>-2.256051e-18</td>\n",
       "      <td>-2.322379e-18</td>\n",
       "      <td>4.026998e-18</td>\n",
       "      <td>-3.544801e-18</td>\n",
       "      <td>2.203984e-18</td>\n",
       "      <td>1.396294e-18</td>\n",
       "      <td>3.051811e-19</td>\n",
       "      <td>...</td>\n",
       "      <td>-0.019084</td>\n",
       "      <td>0.024401</td>\n",
       "      <td>0.000638</td>\n",
       "      <td>0.022851</td>\n",
       "      <td>0.017484</td>\n",
       "      <td>-0.038223</td>\n",
       "      <td>0.038223</td>\n",
       "      <td>-0.005183</td>\n",
       "      <td>0.005183</td>\n",
       "      <td>0.00</td>\n",
       "    </tr>\n",
       "    <tr>\n",
       "      <th>PC9</th>\n",
       "      <td>1.973648e-42</td>\n",
       "      <td>0.000000</td>\n",
       "      <td>7.977948e-18</td>\n",
       "      <td>7.144988e-18</td>\n",
       "      <td>4.125818e-18</td>\n",
       "      <td>-1.117072e-17</td>\n",
       "      <td>3.682201e-18</td>\n",
       "      <td>1.381512e-19</td>\n",
       "      <td>-3.341353e-18</td>\n",
       "      <td>-6.394394e-18</td>\n",
       "      <td>...</td>\n",
       "      <td>0.005512</td>\n",
       "      <td>0.019865</td>\n",
       "      <td>0.017263</td>\n",
       "      <td>0.000936</td>\n",
       "      <td>0.010017</td>\n",
       "      <td>-0.022754</td>\n",
       "      <td>0.022754</td>\n",
       "      <td>0.006553</td>\n",
       "      <td>-0.006553</td>\n",
       "      <td>0.00</td>\n",
       "    </tr>\n",
       "  </tbody>\n",
       "</table>\n",
       "<p>10 rows × 4002 columns</p>\n",
       "</div>"
      ]
     },
     "metadata": {},
     "execution_count": 38
    }
   ],
   "metadata": {}
  },
  {
   "cell_type": "code",
   "execution_count": 39,
   "source": [
    "LOADINGS = COMPS[TERM_IDX].T\n",
    "LOADINGS.index.name = 'term_id'\n",
    "\n",
    "LOADINGS['term_str'] = LOADINGS.apply(lambda x: VOCAB.loc[int(x.name)].term_str, 1)"
   ],
   "outputs": [],
   "metadata": {}
  },
  {
   "cell_type": "code",
   "execution_count": 40,
   "source": [
    "l0_pos = LOADINGS.sort_values('PC0', ascending=True).head(10).term_str.str.cat(sep=' ')\n",
    "l0_neg = LOADINGS.sort_values('PC0', ascending=False).head(10).term_str.str.cat(sep=' ')\n",
    "l1_pos = LOADINGS.sort_values('PC1', ascending=True).head(10).term_str.str.cat(sep=' ')\n",
    "l1_neg = LOADINGS.sort_values('PC1', ascending=False).head(10).term_str.str.cat(sep=' ')"
   ],
   "outputs": [],
   "metadata": {}
  },
  {
   "cell_type": "code",
   "execution_count": 41,
   "source": [
    "print('Books PC0+', l0_pos)\n",
    "print('Books PC0-', l0_neg)\n",
    "print('Books PC1+', l1_pos)\n",
    "print('Books PC1-', l1_neg)"
   ],
   "outputs": [
    {
     "output_type": "stream",
     "name": "stdout",
     "text": [
      "Books PC0+ string swearing slighting uncensured sleeve sweat sweepgate sliding roared venerating\n",
      "Books PC0- elizabeth darcy bennet jane bingley collins wickham lydia lizzy longbourn\n",
      "Books PC1+ fanny crawford edmund thomas bertram rushworth norris mansfield grant crawfords\n",
      "Books PC1- elizabeth darcy bennet jane bingley collins wickham lydia lizzy longbourn\n"
     ]
    }
   ],
   "metadata": {}
  },
  {
   "cell_type": "code",
   "execution_count": 42,
   "source": [
    "VOCAB.loc[[int(x) for x in EIG_PAIRS.sort_values('exp_var', ascending=False).head(10).index], 'term_str']"
   ],
   "outputs": [
    {
     "output_type": "execute_result",
     "data": {
      "text/plain": [
       "term_id\n",
       "2126        conquer\n",
       "6567          meets\n",
       "6941     neglecting\n",
       "4143           firs\n",
       "4155      fittingup\n",
       "4168       flatness\n",
       "4174      flavoured\n",
       "4181    flirtations\n",
       "4191         florid\n",
       "4095          fiend\n",
       "Name: term_str, dtype: object"
      ]
     },
     "metadata": {},
     "execution_count": 42
    }
   ],
   "metadata": {}
  },
  {
   "cell_type": "code",
   "execution_count": 43,
   "source": [
    "DCM = TFIDF.dot(COMPS[TERM_IDX].T)"
   ],
   "outputs": [],
   "metadata": {}
  },
  {
   "cell_type": "code",
   "execution_count": 44,
   "source": [
    "DCM"
   ],
   "outputs": [
    {
     "output_type": "execute_result",
     "data": {
      "text/plain": [
       "                           PC0       PC1       PC2           PC3  \\\n",
       "genre author book_id                                               \n",
       "n     austen 121      0.000082 -0.000014  0.002368 -6.559575e-22   \n",
       "             141      0.000251 -0.003515 -0.000013 -9.793818e-22   \n",
       "             42671    0.003572  0.000247 -0.000053  2.249931e-22   \n",
       "\n",
       "                               PC4           PC5           PC6           PC7  \\\n",
       "genre author book_id                                                           \n",
       "n     austen 121      2.547716e-21 -4.939712e-22 -8.910846e-22 -7.421869e-23   \n",
       "             141      1.747005e-21 -1.045556e-21 -1.637818e-22  5.955700e-22   \n",
       "             42671    7.610062e-22 -6.749794e-22  3.044025e-21  5.823352e-22   \n",
       "\n",
       "                               PC8           PC9  \n",
       "genre author book_id                              \n",
       "n     austen 121     -5.942309e-22 -1.490683e-21  \n",
       "             141     -6.305184e-22 -3.573420e-22  \n",
       "             42671   -8.999725e-22  2.845501e-22  "
      ],
      "text/html": [
       "<div>\n",
       "<style scoped>\n",
       "    .dataframe tbody tr th:only-of-type {\n",
       "        vertical-align: middle;\n",
       "    }\n",
       "\n",
       "    .dataframe tbody tr th {\n",
       "        vertical-align: top;\n",
       "    }\n",
       "\n",
       "    .dataframe thead th {\n",
       "        text-align: right;\n",
       "    }\n",
       "</style>\n",
       "<table border=\"1\" class=\"dataframe\">\n",
       "  <thead>\n",
       "    <tr style=\"text-align: right;\">\n",
       "      <th></th>\n",
       "      <th></th>\n",
       "      <th></th>\n",
       "      <th>PC0</th>\n",
       "      <th>PC1</th>\n",
       "      <th>PC2</th>\n",
       "      <th>PC3</th>\n",
       "      <th>PC4</th>\n",
       "      <th>PC5</th>\n",
       "      <th>PC6</th>\n",
       "      <th>PC7</th>\n",
       "      <th>PC8</th>\n",
       "      <th>PC9</th>\n",
       "    </tr>\n",
       "    <tr>\n",
       "      <th>genre</th>\n",
       "      <th>author</th>\n",
       "      <th>book_id</th>\n",
       "      <th></th>\n",
       "      <th></th>\n",
       "      <th></th>\n",
       "      <th></th>\n",
       "      <th></th>\n",
       "      <th></th>\n",
       "      <th></th>\n",
       "      <th></th>\n",
       "      <th></th>\n",
       "      <th></th>\n",
       "    </tr>\n",
       "  </thead>\n",
       "  <tbody>\n",
       "    <tr>\n",
       "      <th rowspan=\"3\" valign=\"top\">n</th>\n",
       "      <th rowspan=\"3\" valign=\"top\">austen</th>\n",
       "      <th>121</th>\n",
       "      <td>0.000082</td>\n",
       "      <td>-0.000014</td>\n",
       "      <td>0.002368</td>\n",
       "      <td>-6.559575e-22</td>\n",
       "      <td>2.547716e-21</td>\n",
       "      <td>-4.939712e-22</td>\n",
       "      <td>-8.910846e-22</td>\n",
       "      <td>-7.421869e-23</td>\n",
       "      <td>-5.942309e-22</td>\n",
       "      <td>-1.490683e-21</td>\n",
       "    </tr>\n",
       "    <tr>\n",
       "      <th>141</th>\n",
       "      <td>0.000251</td>\n",
       "      <td>-0.003515</td>\n",
       "      <td>-0.000013</td>\n",
       "      <td>-9.793818e-22</td>\n",
       "      <td>1.747005e-21</td>\n",
       "      <td>-1.045556e-21</td>\n",
       "      <td>-1.637818e-22</td>\n",
       "      <td>5.955700e-22</td>\n",
       "      <td>-6.305184e-22</td>\n",
       "      <td>-3.573420e-22</td>\n",
       "    </tr>\n",
       "    <tr>\n",
       "      <th>42671</th>\n",
       "      <td>0.003572</td>\n",
       "      <td>0.000247</td>\n",
       "      <td>-0.000053</td>\n",
       "      <td>2.249931e-22</td>\n",
       "      <td>7.610062e-22</td>\n",
       "      <td>-6.749794e-22</td>\n",
       "      <td>3.044025e-21</td>\n",
       "      <td>5.823352e-22</td>\n",
       "      <td>-8.999725e-22</td>\n",
       "      <td>2.845501e-22</td>\n",
       "    </tr>\n",
       "  </tbody>\n",
       "</table>\n",
       "</div>"
      ]
     },
     "metadata": {},
     "execution_count": 44
    }
   ],
   "metadata": {}
  },
  {
   "cell_type": "code",
   "execution_count": 45,
   "source": [
    "LIB"
   ],
   "outputs": [
    {
     "output_type": "execute_result",
     "data": {
      "text/plain": [
       "   book_id                                   book_title  \\\n",
       "0      141               Mansfield Park, by Jane Austen   \n",
       "1      121             Northanger Abbey, by Jane Austen   \n",
       "2    42671  Pride and Prejudice, by Jane Austen, Edited   \n",
       "\n",
       "                                           book_file  author  \\\n",
       "0         epubs/AUSTEN_JANE_MANSFIELD_PARK-pg141.txt  austen   \n",
       "1       epubs/AUSTEN_JANE_NORTHANGER_ABBEY-pg121.txt  austen   \n",
       "2  epubs/AUSTEN_JANE_PRIDE_AND_PREJUDICE-pg42671.txt  austen   \n",
       "\n",
       "                 title  year genre  \n",
       "0       Mansfield Park  1814     n  \n",
       "1     Northanger Abbey  1803     n  \n",
       "2  Pride and Prejudice  1813     n  "
      ],
      "text/html": [
       "<div>\n",
       "<style scoped>\n",
       "    .dataframe tbody tr th:only-of-type {\n",
       "        vertical-align: middle;\n",
       "    }\n",
       "\n",
       "    .dataframe tbody tr th {\n",
       "        vertical-align: top;\n",
       "    }\n",
       "\n",
       "    .dataframe thead th {\n",
       "        text-align: right;\n",
       "    }\n",
       "</style>\n",
       "<table border=\"1\" class=\"dataframe\">\n",
       "  <thead>\n",
       "    <tr style=\"text-align: right;\">\n",
       "      <th></th>\n",
       "      <th>book_id</th>\n",
       "      <th>book_title</th>\n",
       "      <th>book_file</th>\n",
       "      <th>author</th>\n",
       "      <th>title</th>\n",
       "      <th>year</th>\n",
       "      <th>genre</th>\n",
       "    </tr>\n",
       "  </thead>\n",
       "  <tbody>\n",
       "    <tr>\n",
       "      <th>0</th>\n",
       "      <td>141</td>\n",
       "      <td>Mansfield Park, by Jane Austen</td>\n",
       "      <td>epubs/AUSTEN_JANE_MANSFIELD_PARK-pg141.txt</td>\n",
       "      <td>austen</td>\n",
       "      <td>Mansfield Park</td>\n",
       "      <td>1814</td>\n",
       "      <td>n</td>\n",
       "    </tr>\n",
       "    <tr>\n",
       "      <th>1</th>\n",
       "      <td>121</td>\n",
       "      <td>Northanger Abbey, by Jane Austen</td>\n",
       "      <td>epubs/AUSTEN_JANE_NORTHANGER_ABBEY-pg121.txt</td>\n",
       "      <td>austen</td>\n",
       "      <td>Northanger Abbey</td>\n",
       "      <td>1803</td>\n",
       "      <td>n</td>\n",
       "    </tr>\n",
       "    <tr>\n",
       "      <th>2</th>\n",
       "      <td>42671</td>\n",
       "      <td>Pride and Prejudice, by Jane Austen, Edited</td>\n",
       "      <td>epubs/AUSTEN_JANE_PRIDE_AND_PREJUDICE-pg42671.txt</td>\n",
       "      <td>austen</td>\n",
       "      <td>Pride and Prejudice</td>\n",
       "      <td>1813</td>\n",
       "      <td>n</td>\n",
       "    </tr>\n",
       "  </tbody>\n",
       "</table>\n",
       "</div>"
      ]
     },
     "metadata": {},
     "execution_count": 45
    }
   ],
   "metadata": {}
  },
  {
   "cell_type": "code",
   "execution_count": 46,
   "source": [
    "DCM = LIB.merge(DCM, on='book_id')"
   ],
   "outputs": [],
   "metadata": {}
  },
  {
   "cell_type": "code",
   "execution_count": 47,
   "source": [
    "DCM"
   ],
   "outputs": [
    {
     "output_type": "execute_result",
     "data": {
      "text/plain": [
       "   book_id                                   book_title  \\\n",
       "0      141               Mansfield Park, by Jane Austen   \n",
       "1      121             Northanger Abbey, by Jane Austen   \n",
       "2    42671  Pride and Prejudice, by Jane Austen, Edited   \n",
       "\n",
       "                                           book_file  author  \\\n",
       "0         epubs/AUSTEN_JANE_MANSFIELD_PARK-pg141.txt  austen   \n",
       "1       epubs/AUSTEN_JANE_NORTHANGER_ABBEY-pg121.txt  austen   \n",
       "2  epubs/AUSTEN_JANE_PRIDE_AND_PREJUDICE-pg42671.txt  austen   \n",
       "\n",
       "                 title  year genre       PC0       PC1       PC2  \\\n",
       "0       Mansfield Park  1814     n  0.000251 -0.003515 -0.000013   \n",
       "1     Northanger Abbey  1803     n  0.000082 -0.000014  0.002368   \n",
       "2  Pride and Prejudice  1813     n  0.003572  0.000247 -0.000053   \n",
       "\n",
       "            PC3           PC4           PC5           PC6           PC7  \\\n",
       "0 -9.793818e-22  1.747005e-21 -1.045556e-21 -1.637818e-22  5.955700e-22   \n",
       "1 -6.559575e-22  2.547716e-21 -4.939712e-22 -8.910846e-22 -7.421869e-23   \n",
       "2  2.249931e-22  7.610062e-22 -6.749794e-22  3.044025e-21  5.823352e-22   \n",
       "\n",
       "            PC8           PC9  \n",
       "0 -6.305184e-22 -3.573420e-22  \n",
       "1 -5.942309e-22 -1.490683e-21  \n",
       "2 -8.999725e-22  2.845501e-22  "
      ],
      "text/html": [
       "<div>\n",
       "<style scoped>\n",
       "    .dataframe tbody tr th:only-of-type {\n",
       "        vertical-align: middle;\n",
       "    }\n",
       "\n",
       "    .dataframe tbody tr th {\n",
       "        vertical-align: top;\n",
       "    }\n",
       "\n",
       "    .dataframe thead th {\n",
       "        text-align: right;\n",
       "    }\n",
       "</style>\n",
       "<table border=\"1\" class=\"dataframe\">\n",
       "  <thead>\n",
       "    <tr style=\"text-align: right;\">\n",
       "      <th></th>\n",
       "      <th>book_id</th>\n",
       "      <th>book_title</th>\n",
       "      <th>book_file</th>\n",
       "      <th>author</th>\n",
       "      <th>title</th>\n",
       "      <th>year</th>\n",
       "      <th>genre</th>\n",
       "      <th>PC0</th>\n",
       "      <th>PC1</th>\n",
       "      <th>PC2</th>\n",
       "      <th>PC3</th>\n",
       "      <th>PC4</th>\n",
       "      <th>PC5</th>\n",
       "      <th>PC6</th>\n",
       "      <th>PC7</th>\n",
       "      <th>PC8</th>\n",
       "      <th>PC9</th>\n",
       "    </tr>\n",
       "  </thead>\n",
       "  <tbody>\n",
       "    <tr>\n",
       "      <th>0</th>\n",
       "      <td>141</td>\n",
       "      <td>Mansfield Park, by Jane Austen</td>\n",
       "      <td>epubs/AUSTEN_JANE_MANSFIELD_PARK-pg141.txt</td>\n",
       "      <td>austen</td>\n",
       "      <td>Mansfield Park</td>\n",
       "      <td>1814</td>\n",
       "      <td>n</td>\n",
       "      <td>0.000251</td>\n",
       "      <td>-0.003515</td>\n",
       "      <td>-0.000013</td>\n",
       "      <td>-9.793818e-22</td>\n",
       "      <td>1.747005e-21</td>\n",
       "      <td>-1.045556e-21</td>\n",
       "      <td>-1.637818e-22</td>\n",
       "      <td>5.955700e-22</td>\n",
       "      <td>-6.305184e-22</td>\n",
       "      <td>-3.573420e-22</td>\n",
       "    </tr>\n",
       "    <tr>\n",
       "      <th>1</th>\n",
       "      <td>121</td>\n",
       "      <td>Northanger Abbey, by Jane Austen</td>\n",
       "      <td>epubs/AUSTEN_JANE_NORTHANGER_ABBEY-pg121.txt</td>\n",
       "      <td>austen</td>\n",
       "      <td>Northanger Abbey</td>\n",
       "      <td>1803</td>\n",
       "      <td>n</td>\n",
       "      <td>0.000082</td>\n",
       "      <td>-0.000014</td>\n",
       "      <td>0.002368</td>\n",
       "      <td>-6.559575e-22</td>\n",
       "      <td>2.547716e-21</td>\n",
       "      <td>-4.939712e-22</td>\n",
       "      <td>-8.910846e-22</td>\n",
       "      <td>-7.421869e-23</td>\n",
       "      <td>-5.942309e-22</td>\n",
       "      <td>-1.490683e-21</td>\n",
       "    </tr>\n",
       "    <tr>\n",
       "      <th>2</th>\n",
       "      <td>42671</td>\n",
       "      <td>Pride and Prejudice, by Jane Austen, Edited</td>\n",
       "      <td>epubs/AUSTEN_JANE_PRIDE_AND_PREJUDICE-pg42671.txt</td>\n",
       "      <td>austen</td>\n",
       "      <td>Pride and Prejudice</td>\n",
       "      <td>1813</td>\n",
       "      <td>n</td>\n",
       "      <td>0.003572</td>\n",
       "      <td>0.000247</td>\n",
       "      <td>-0.000053</td>\n",
       "      <td>2.249931e-22</td>\n",
       "      <td>7.610062e-22</td>\n",
       "      <td>-6.749794e-22</td>\n",
       "      <td>3.044025e-21</td>\n",
       "      <td>5.823352e-22</td>\n",
       "      <td>-8.999725e-22</td>\n",
       "      <td>2.845501e-22</td>\n",
       "    </tr>\n",
       "  </tbody>\n",
       "</table>\n",
       "</div>"
      ]
     },
     "metadata": {},
     "execution_count": 47
    }
   ],
   "metadata": {}
  },
  {
   "cell_type": "code",
   "execution_count": 50,
   "source": [
    "DCM['doc'] = DCM.apply(lambda x: \"{}-{}-{}\".format(x.genre, x.author, x.title[1]), 1)"
   ],
   "outputs": [],
   "metadata": {}
  },
  {
   "cell_type": "code",
   "execution_count": 51,
   "source": [
    "DCM"
   ],
   "outputs": [
    {
     "output_type": "execute_result",
     "data": {
      "text/plain": [
       "   book_id                                   book_title  \\\n",
       "0      141               Mansfield Park, by Jane Austen   \n",
       "1      121             Northanger Abbey, by Jane Austen   \n",
       "2    42671  Pride and Prejudice, by Jane Austen, Edited   \n",
       "\n",
       "                                           book_file  author  \\\n",
       "0         epubs/AUSTEN_JANE_MANSFIELD_PARK-pg141.txt  austen   \n",
       "1       epubs/AUSTEN_JANE_NORTHANGER_ABBEY-pg121.txt  austen   \n",
       "2  epubs/AUSTEN_JANE_PRIDE_AND_PREJUDICE-pg42671.txt  austen   \n",
       "\n",
       "                 title  year genre       PC0       PC1       PC2  \\\n",
       "0       Mansfield Park  1814     n  0.000251 -0.003515 -0.000013   \n",
       "1     Northanger Abbey  1803     n  0.000082 -0.000014  0.002368   \n",
       "2  Pride and Prejudice  1813     n  0.003572  0.000247 -0.000053   \n",
       "\n",
       "            PC3           PC4           PC5           PC6           PC7  \\\n",
       "0 -9.793818e-22  1.747005e-21 -1.045556e-21 -1.637818e-22  5.955700e-22   \n",
       "1 -6.559575e-22  2.547716e-21 -4.939712e-22 -8.910846e-22 -7.421869e-23   \n",
       "2  2.249931e-22  7.610062e-22 -6.749794e-22  3.044025e-21  5.823352e-22   \n",
       "\n",
       "            PC8           PC9         doc  \n",
       "0 -6.305184e-22 -3.573420e-22  n-austen-a  \n",
       "1 -5.942309e-22 -1.490683e-21  n-austen-o  \n",
       "2 -8.999725e-22  2.845501e-22  n-austen-r  "
      ],
      "text/html": [
       "<div>\n",
       "<style scoped>\n",
       "    .dataframe tbody tr th:only-of-type {\n",
       "        vertical-align: middle;\n",
       "    }\n",
       "\n",
       "    .dataframe tbody tr th {\n",
       "        vertical-align: top;\n",
       "    }\n",
       "\n",
       "    .dataframe thead th {\n",
       "        text-align: right;\n",
       "    }\n",
       "</style>\n",
       "<table border=\"1\" class=\"dataframe\">\n",
       "  <thead>\n",
       "    <tr style=\"text-align: right;\">\n",
       "      <th></th>\n",
       "      <th>book_id</th>\n",
       "      <th>book_title</th>\n",
       "      <th>book_file</th>\n",
       "      <th>author</th>\n",
       "      <th>title</th>\n",
       "      <th>year</th>\n",
       "      <th>genre</th>\n",
       "      <th>PC0</th>\n",
       "      <th>PC1</th>\n",
       "      <th>PC2</th>\n",
       "      <th>PC3</th>\n",
       "      <th>PC4</th>\n",
       "      <th>PC5</th>\n",
       "      <th>PC6</th>\n",
       "      <th>PC7</th>\n",
       "      <th>PC8</th>\n",
       "      <th>PC9</th>\n",
       "      <th>doc</th>\n",
       "    </tr>\n",
       "  </thead>\n",
       "  <tbody>\n",
       "    <tr>\n",
       "      <th>0</th>\n",
       "      <td>141</td>\n",
       "      <td>Mansfield Park, by Jane Austen</td>\n",
       "      <td>epubs/AUSTEN_JANE_MANSFIELD_PARK-pg141.txt</td>\n",
       "      <td>austen</td>\n",
       "      <td>Mansfield Park</td>\n",
       "      <td>1814</td>\n",
       "      <td>n</td>\n",
       "      <td>0.000251</td>\n",
       "      <td>-0.003515</td>\n",
       "      <td>-0.000013</td>\n",
       "      <td>-9.793818e-22</td>\n",
       "      <td>1.747005e-21</td>\n",
       "      <td>-1.045556e-21</td>\n",
       "      <td>-1.637818e-22</td>\n",
       "      <td>5.955700e-22</td>\n",
       "      <td>-6.305184e-22</td>\n",
       "      <td>-3.573420e-22</td>\n",
       "      <td>n-austen-a</td>\n",
       "    </tr>\n",
       "    <tr>\n",
       "      <th>1</th>\n",
       "      <td>121</td>\n",
       "      <td>Northanger Abbey, by Jane Austen</td>\n",
       "      <td>epubs/AUSTEN_JANE_NORTHANGER_ABBEY-pg121.txt</td>\n",
       "      <td>austen</td>\n",
       "      <td>Northanger Abbey</td>\n",
       "      <td>1803</td>\n",
       "      <td>n</td>\n",
       "      <td>0.000082</td>\n",
       "      <td>-0.000014</td>\n",
       "      <td>0.002368</td>\n",
       "      <td>-6.559575e-22</td>\n",
       "      <td>2.547716e-21</td>\n",
       "      <td>-4.939712e-22</td>\n",
       "      <td>-8.910846e-22</td>\n",
       "      <td>-7.421869e-23</td>\n",
       "      <td>-5.942309e-22</td>\n",
       "      <td>-1.490683e-21</td>\n",
       "      <td>n-austen-o</td>\n",
       "    </tr>\n",
       "    <tr>\n",
       "      <th>2</th>\n",
       "      <td>42671</td>\n",
       "      <td>Pride and Prejudice, by Jane Austen, Edited</td>\n",
       "      <td>epubs/AUSTEN_JANE_PRIDE_AND_PREJUDICE-pg42671.txt</td>\n",
       "      <td>austen</td>\n",
       "      <td>Pride and Prejudice</td>\n",
       "      <td>1813</td>\n",
       "      <td>n</td>\n",
       "      <td>0.003572</td>\n",
       "      <td>0.000247</td>\n",
       "      <td>-0.000053</td>\n",
       "      <td>2.249931e-22</td>\n",
       "      <td>7.610062e-22</td>\n",
       "      <td>-6.749794e-22</td>\n",
       "      <td>3.044025e-21</td>\n",
       "      <td>5.823352e-22</td>\n",
       "      <td>-8.999725e-22</td>\n",
       "      <td>2.845501e-22</td>\n",
       "      <td>n-austen-r</td>\n",
       "    </tr>\n",
       "  </tbody>\n",
       "</table>\n",
       "</div>"
      ]
     },
     "metadata": {},
     "execution_count": 51
    }
   ],
   "metadata": {}
  },
  {
   "cell_type": "code",
   "execution_count": 52,
   "source": [
    "import plotly.express as px"
   ],
   "outputs": [],
   "metadata": {}
  },
  {
   "cell_type": "code",
   "execution_count": 53,
   "source": [
    "def vis_pcs(M, a, b, label='book', prefix='PC'):\n",
    "    fig = px.scatter(M, prefix + str(a), prefix + str(b), \n",
    "                        color=label, \n",
    "                        hover_name='book_id', marginal_x='box')\n",
    "    fig.show()"
   ],
   "outputs": [],
   "metadata": {}
  },
  {
   "cell_type": "code",
   "execution_count": 54,
   "source": [
    "vis_pcs(DCM, 0, 1, label = 'title')"
   ],
   "outputs": [
    {
     "output_type": "display_data",
     "data": {
      "application/vnd.plotly.v1+json": {
       "config": {
        "plotlyServerURL": "https://plot.ly"
       },
       "data": [
        {
         "hovertemplate": "<b>%{hovertext}</b><br><br>title=Mansfield Park<br>PC0=%{x}<br>PC1=%{y}<extra></extra>",
         "hovertext": [
          "141"
         ],
         "legendgroup": "Mansfield Park",
         "marker": {
          "color": "#636efa",
          "symbol": "circle"
         },
         "mode": "markers",
         "name": "Mansfield Park",
         "orientation": "v",
         "showlegend": true,
         "type": "scatter",
         "x": [
          0.00025077691814494844
         ],
         "xaxis": "x",
         "y": [
          -0.003514868186485344
         ],
         "yaxis": "y"
        },
        {
         "alignmentgroup": "True",
         "hovertemplate": "<b>%{hovertext}</b><br><br>title=Mansfield Park<br>PC0=%{x}<extra></extra>",
         "hovertext": [
          "141"
         ],
         "legendgroup": "Mansfield Park",
         "marker": {
          "color": "#636efa",
          "symbol": "circle"
         },
         "name": "Mansfield Park",
         "notched": true,
         "offsetgroup": "Mansfield Park",
         "showlegend": false,
         "type": "box",
         "x": [
          0.00025077691814494844
         ],
         "xaxis": "x2",
         "yaxis": "y2"
        },
        {
         "hovertemplate": "<b>%{hovertext}</b><br><br>title=Northanger Abbey<br>PC0=%{x}<br>PC1=%{y}<extra></extra>",
         "hovertext": [
          "121"
         ],
         "legendgroup": "Northanger Abbey",
         "marker": {
          "color": "#EF553B",
          "symbol": "circle"
         },
         "mode": "markers",
         "name": "Northanger Abbey",
         "orientation": "v",
         "showlegend": true,
         "type": "scatter",
         "x": [
          0.00008206367306665518
         ],
         "xaxis": "x",
         "y": [
          -0.000014280311203010426
         ],
         "yaxis": "y"
        },
        {
         "alignmentgroup": "True",
         "hovertemplate": "<b>%{hovertext}</b><br><br>title=Northanger Abbey<br>PC0=%{x}<extra></extra>",
         "hovertext": [
          "121"
         ],
         "legendgroup": "Northanger Abbey",
         "marker": {
          "color": "#EF553B",
          "symbol": "circle"
         },
         "name": "Northanger Abbey",
         "notched": true,
         "offsetgroup": "Northanger Abbey",
         "showlegend": false,
         "type": "box",
         "x": [
          0.00008206367306665518
         ],
         "xaxis": "x2",
         "yaxis": "y2"
        },
        {
         "hovertemplate": "<b>%{hovertext}</b><br><br>title=Pride and Prejudice<br>PC0=%{x}<br>PC1=%{y}<extra></extra>",
         "hovertext": [
          "42671"
         ],
         "legendgroup": "Pride and Prejudice",
         "marker": {
          "color": "#00cc96",
          "symbol": "circle"
         },
         "mode": "markers",
         "name": "Pride and Prejudice",
         "orientation": "v",
         "showlegend": true,
         "type": "scatter",
         "x": [
          0.0035722166523385205
         ],
         "xaxis": "x",
         "y": [
          0.00024707899665172466
         ],
         "yaxis": "y"
        },
        {
         "alignmentgroup": "True",
         "hovertemplate": "<b>%{hovertext}</b><br><br>title=Pride and Prejudice<br>PC0=%{x}<extra></extra>",
         "hovertext": [
          "42671"
         ],
         "legendgroup": "Pride and Prejudice",
         "marker": {
          "color": "#00cc96",
          "symbol": "circle"
         },
         "name": "Pride and Prejudice",
         "notched": true,
         "offsetgroup": "Pride and Prejudice",
         "showlegend": false,
         "type": "box",
         "x": [
          0.0035722166523385205
         ],
         "xaxis": "x2",
         "yaxis": "y2"
        }
       ],
       "layout": {
        "legend": {
         "title": {
          "text": "title"
         },
         "tracegroupgap": 0
        },
        "margin": {
         "t": 60
        },
        "template": {
         "data": {
          "bar": [
           {
            "error_x": {
             "color": "#2a3f5f"
            },
            "error_y": {
             "color": "#2a3f5f"
            },
            "marker": {
             "line": {
              "color": "#E5ECF6",
              "width": 0.5
             },
             "pattern": {
              "fillmode": "overlay",
              "size": 10,
              "solidity": 0.2
             }
            },
            "type": "bar"
           }
          ],
          "barpolar": [
           {
            "marker": {
             "line": {
              "color": "#E5ECF6",
              "width": 0.5
             },
             "pattern": {
              "fillmode": "overlay",
              "size": 10,
              "solidity": 0.2
             }
            },
            "type": "barpolar"
           }
          ],
          "carpet": [
           {
            "aaxis": {
             "endlinecolor": "#2a3f5f",
             "gridcolor": "white",
             "linecolor": "white",
             "minorgridcolor": "white",
             "startlinecolor": "#2a3f5f"
            },
            "baxis": {
             "endlinecolor": "#2a3f5f",
             "gridcolor": "white",
             "linecolor": "white",
             "minorgridcolor": "white",
             "startlinecolor": "#2a3f5f"
            },
            "type": "carpet"
           }
          ],
          "choropleth": [
           {
            "colorbar": {
             "outlinewidth": 0,
             "ticks": ""
            },
            "type": "choropleth"
           }
          ],
          "contour": [
           {
            "colorbar": {
             "outlinewidth": 0,
             "ticks": ""
            },
            "colorscale": [
             [
              0,
              "#0d0887"
             ],
             [
              0.1111111111111111,
              "#46039f"
             ],
             [
              0.2222222222222222,
              "#7201a8"
             ],
             [
              0.3333333333333333,
              "#9c179e"
             ],
             [
              0.4444444444444444,
              "#bd3786"
             ],
             [
              0.5555555555555556,
              "#d8576b"
             ],
             [
              0.6666666666666666,
              "#ed7953"
             ],
             [
              0.7777777777777778,
              "#fb9f3a"
             ],
             [
              0.8888888888888888,
              "#fdca26"
             ],
             [
              1,
              "#f0f921"
             ]
            ],
            "type": "contour"
           }
          ],
          "contourcarpet": [
           {
            "colorbar": {
             "outlinewidth": 0,
             "ticks": ""
            },
            "type": "contourcarpet"
           }
          ],
          "heatmap": [
           {
            "colorbar": {
             "outlinewidth": 0,
             "ticks": ""
            },
            "colorscale": [
             [
              0,
              "#0d0887"
             ],
             [
              0.1111111111111111,
              "#46039f"
             ],
             [
              0.2222222222222222,
              "#7201a8"
             ],
             [
              0.3333333333333333,
              "#9c179e"
             ],
             [
              0.4444444444444444,
              "#bd3786"
             ],
             [
              0.5555555555555556,
              "#d8576b"
             ],
             [
              0.6666666666666666,
              "#ed7953"
             ],
             [
              0.7777777777777778,
              "#fb9f3a"
             ],
             [
              0.8888888888888888,
              "#fdca26"
             ],
             [
              1,
              "#f0f921"
             ]
            ],
            "type": "heatmap"
           }
          ],
          "heatmapgl": [
           {
            "colorbar": {
             "outlinewidth": 0,
             "ticks": ""
            },
            "colorscale": [
             [
              0,
              "#0d0887"
             ],
             [
              0.1111111111111111,
              "#46039f"
             ],
             [
              0.2222222222222222,
              "#7201a8"
             ],
             [
              0.3333333333333333,
              "#9c179e"
             ],
             [
              0.4444444444444444,
              "#bd3786"
             ],
             [
              0.5555555555555556,
              "#d8576b"
             ],
             [
              0.6666666666666666,
              "#ed7953"
             ],
             [
              0.7777777777777778,
              "#fb9f3a"
             ],
             [
              0.8888888888888888,
              "#fdca26"
             ],
             [
              1,
              "#f0f921"
             ]
            ],
            "type": "heatmapgl"
           }
          ],
          "histogram": [
           {
            "marker": {
             "pattern": {
              "fillmode": "overlay",
              "size": 10,
              "solidity": 0.2
             }
            },
            "type": "histogram"
           }
          ],
          "histogram2d": [
           {
            "colorbar": {
             "outlinewidth": 0,
             "ticks": ""
            },
            "colorscale": [
             [
              0,
              "#0d0887"
             ],
             [
              0.1111111111111111,
              "#46039f"
             ],
             [
              0.2222222222222222,
              "#7201a8"
             ],
             [
              0.3333333333333333,
              "#9c179e"
             ],
             [
              0.4444444444444444,
              "#bd3786"
             ],
             [
              0.5555555555555556,
              "#d8576b"
             ],
             [
              0.6666666666666666,
              "#ed7953"
             ],
             [
              0.7777777777777778,
              "#fb9f3a"
             ],
             [
              0.8888888888888888,
              "#fdca26"
             ],
             [
              1,
              "#f0f921"
             ]
            ],
            "type": "histogram2d"
           }
          ],
          "histogram2dcontour": [
           {
            "colorbar": {
             "outlinewidth": 0,
             "ticks": ""
            },
            "colorscale": [
             [
              0,
              "#0d0887"
             ],
             [
              0.1111111111111111,
              "#46039f"
             ],
             [
              0.2222222222222222,
              "#7201a8"
             ],
             [
              0.3333333333333333,
              "#9c179e"
             ],
             [
              0.4444444444444444,
              "#bd3786"
             ],
             [
              0.5555555555555556,
              "#d8576b"
             ],
             [
              0.6666666666666666,
              "#ed7953"
             ],
             [
              0.7777777777777778,
              "#fb9f3a"
             ],
             [
              0.8888888888888888,
              "#fdca26"
             ],
             [
              1,
              "#f0f921"
             ]
            ],
            "type": "histogram2dcontour"
           }
          ],
          "mesh3d": [
           {
            "colorbar": {
             "outlinewidth": 0,
             "ticks": ""
            },
            "type": "mesh3d"
           }
          ],
          "parcoords": [
           {
            "line": {
             "colorbar": {
              "outlinewidth": 0,
              "ticks": ""
             }
            },
            "type": "parcoords"
           }
          ],
          "pie": [
           {
            "automargin": true,
            "type": "pie"
           }
          ],
          "scatter": [
           {
            "marker": {
             "colorbar": {
              "outlinewidth": 0,
              "ticks": ""
             }
            },
            "type": "scatter"
           }
          ],
          "scatter3d": [
           {
            "line": {
             "colorbar": {
              "outlinewidth": 0,
              "ticks": ""
             }
            },
            "marker": {
             "colorbar": {
              "outlinewidth": 0,
              "ticks": ""
             }
            },
            "type": "scatter3d"
           }
          ],
          "scattercarpet": [
           {
            "marker": {
             "colorbar": {
              "outlinewidth": 0,
              "ticks": ""
             }
            },
            "type": "scattercarpet"
           }
          ],
          "scattergeo": [
           {
            "marker": {
             "colorbar": {
              "outlinewidth": 0,
              "ticks": ""
             }
            },
            "type": "scattergeo"
           }
          ],
          "scattergl": [
           {
            "marker": {
             "colorbar": {
              "outlinewidth": 0,
              "ticks": ""
             }
            },
            "type": "scattergl"
           }
          ],
          "scattermapbox": [
           {
            "marker": {
             "colorbar": {
              "outlinewidth": 0,
              "ticks": ""
             }
            },
            "type": "scattermapbox"
           }
          ],
          "scatterpolar": [
           {
            "marker": {
             "colorbar": {
              "outlinewidth": 0,
              "ticks": ""
             }
            },
            "type": "scatterpolar"
           }
          ],
          "scatterpolargl": [
           {
            "marker": {
             "colorbar": {
              "outlinewidth": 0,
              "ticks": ""
             }
            },
            "type": "scatterpolargl"
           }
          ],
          "scatterternary": [
           {
            "marker": {
             "colorbar": {
              "outlinewidth": 0,
              "ticks": ""
             }
            },
            "type": "scatterternary"
           }
          ],
          "surface": [
           {
            "colorbar": {
             "outlinewidth": 0,
             "ticks": ""
            },
            "colorscale": [
             [
              0,
              "#0d0887"
             ],
             [
              0.1111111111111111,
              "#46039f"
             ],
             [
              0.2222222222222222,
              "#7201a8"
             ],
             [
              0.3333333333333333,
              "#9c179e"
             ],
             [
              0.4444444444444444,
              "#bd3786"
             ],
             [
              0.5555555555555556,
              "#d8576b"
             ],
             [
              0.6666666666666666,
              "#ed7953"
             ],
             [
              0.7777777777777778,
              "#fb9f3a"
             ],
             [
              0.8888888888888888,
              "#fdca26"
             ],
             [
              1,
              "#f0f921"
             ]
            ],
            "type": "surface"
           }
          ],
          "table": [
           {
            "cells": {
             "fill": {
              "color": "#EBF0F8"
             },
             "line": {
              "color": "white"
             }
            },
            "header": {
             "fill": {
              "color": "#C8D4E3"
             },
             "line": {
              "color": "white"
             }
            },
            "type": "table"
           }
          ]
         },
         "layout": {
          "annotationdefaults": {
           "arrowcolor": "#2a3f5f",
           "arrowhead": 0,
           "arrowwidth": 1
          },
          "autotypenumbers": "strict",
          "coloraxis": {
           "colorbar": {
            "outlinewidth": 0,
            "ticks": ""
           }
          },
          "colorscale": {
           "diverging": [
            [
             0,
             "#8e0152"
            ],
            [
             0.1,
             "#c51b7d"
            ],
            [
             0.2,
             "#de77ae"
            ],
            [
             0.3,
             "#f1b6da"
            ],
            [
             0.4,
             "#fde0ef"
            ],
            [
             0.5,
             "#f7f7f7"
            ],
            [
             0.6,
             "#e6f5d0"
            ],
            [
             0.7,
             "#b8e186"
            ],
            [
             0.8,
             "#7fbc41"
            ],
            [
             0.9,
             "#4d9221"
            ],
            [
             1,
             "#276419"
            ]
           ],
           "sequential": [
            [
             0,
             "#0d0887"
            ],
            [
             0.1111111111111111,
             "#46039f"
            ],
            [
             0.2222222222222222,
             "#7201a8"
            ],
            [
             0.3333333333333333,
             "#9c179e"
            ],
            [
             0.4444444444444444,
             "#bd3786"
            ],
            [
             0.5555555555555556,
             "#d8576b"
            ],
            [
             0.6666666666666666,
             "#ed7953"
            ],
            [
             0.7777777777777778,
             "#fb9f3a"
            ],
            [
             0.8888888888888888,
             "#fdca26"
            ],
            [
             1,
             "#f0f921"
            ]
           ],
           "sequentialminus": [
            [
             0,
             "#0d0887"
            ],
            [
             0.1111111111111111,
             "#46039f"
            ],
            [
             0.2222222222222222,
             "#7201a8"
            ],
            [
             0.3333333333333333,
             "#9c179e"
            ],
            [
             0.4444444444444444,
             "#bd3786"
            ],
            [
             0.5555555555555556,
             "#d8576b"
            ],
            [
             0.6666666666666666,
             "#ed7953"
            ],
            [
             0.7777777777777778,
             "#fb9f3a"
            ],
            [
             0.8888888888888888,
             "#fdca26"
            ],
            [
             1,
             "#f0f921"
            ]
           ]
          },
          "colorway": [
           "#636efa",
           "#EF553B",
           "#00cc96",
           "#ab63fa",
           "#FFA15A",
           "#19d3f3",
           "#FF6692",
           "#B6E880",
           "#FF97FF",
           "#FECB52"
          ],
          "font": {
           "color": "#2a3f5f"
          },
          "geo": {
           "bgcolor": "white",
           "lakecolor": "white",
           "landcolor": "#E5ECF6",
           "showlakes": true,
           "showland": true,
           "subunitcolor": "white"
          },
          "hoverlabel": {
           "align": "left"
          },
          "hovermode": "closest",
          "mapbox": {
           "style": "light"
          },
          "paper_bgcolor": "white",
          "plot_bgcolor": "#E5ECF6",
          "polar": {
           "angularaxis": {
            "gridcolor": "white",
            "linecolor": "white",
            "ticks": ""
           },
           "bgcolor": "#E5ECF6",
           "radialaxis": {
            "gridcolor": "white",
            "linecolor": "white",
            "ticks": ""
           }
          },
          "scene": {
           "xaxis": {
            "backgroundcolor": "#E5ECF6",
            "gridcolor": "white",
            "gridwidth": 2,
            "linecolor": "white",
            "showbackground": true,
            "ticks": "",
            "zerolinecolor": "white"
           },
           "yaxis": {
            "backgroundcolor": "#E5ECF6",
            "gridcolor": "white",
            "gridwidth": 2,
            "linecolor": "white",
            "showbackground": true,
            "ticks": "",
            "zerolinecolor": "white"
           },
           "zaxis": {
            "backgroundcolor": "#E5ECF6",
            "gridcolor": "white",
            "gridwidth": 2,
            "linecolor": "white",
            "showbackground": true,
            "ticks": "",
            "zerolinecolor": "white"
           }
          },
          "shapedefaults": {
           "line": {
            "color": "#2a3f5f"
           }
          },
          "ternary": {
           "aaxis": {
            "gridcolor": "white",
            "linecolor": "white",
            "ticks": ""
           },
           "baxis": {
            "gridcolor": "white",
            "linecolor": "white",
            "ticks": ""
           },
           "bgcolor": "#E5ECF6",
           "caxis": {
            "gridcolor": "white",
            "linecolor": "white",
            "ticks": ""
           }
          },
          "title": {
           "x": 0.05
          },
          "xaxis": {
           "automargin": true,
           "gridcolor": "white",
           "linecolor": "white",
           "ticks": "",
           "title": {
            "standoff": 15
           },
           "zerolinecolor": "white",
           "zerolinewidth": 2
          },
          "yaxis": {
           "automargin": true,
           "gridcolor": "white",
           "linecolor": "white",
           "ticks": "",
           "title": {
            "standoff": 15
           },
           "zerolinecolor": "white",
           "zerolinewidth": 2
          }
         }
        },
        "xaxis": {
         "anchor": "y",
         "domain": [
          0,
          1
         ],
         "title": {
          "text": "PC0"
         }
        },
        "xaxis2": {
         "anchor": "y2",
         "domain": [
          0,
          1
         ],
         "matches": "x",
         "showgrid": true,
         "showticklabels": false
        },
        "yaxis": {
         "anchor": "x",
         "domain": [
          0,
          0.7326
         ],
         "title": {
          "text": "PC1"
         }
        },
        "yaxis2": {
         "anchor": "x2",
         "domain": [
          0.7426,
          1
         ],
         "matches": "y2",
         "showgrid": false,
         "showline": false,
         "showticklabels": false,
         "ticks": ""
        }
       }
      }
     },
     "metadata": {}
    }
   ],
   "metadata": {}
  },
  {
   "cell_type": "code",
   "execution_count": 56,
   "source": [
    "vis_pcs(DCM, 1, 2, label = 'title')"
   ],
   "outputs": [
    {
     "output_type": "display_data",
     "data": {
      "application/vnd.plotly.v1+json": {
       "config": {
        "plotlyServerURL": "https://plot.ly"
       },
       "data": [
        {
         "hovertemplate": "<b>%{hovertext}</b><br><br>title=Mansfield Park<br>PC1=%{x}<br>PC2=%{y}<extra></extra>",
         "hovertext": [
          "141"
         ],
         "legendgroup": "Mansfield Park",
         "marker": {
          "color": "#636efa",
          "symbol": "circle"
         },
         "mode": "markers",
         "name": "Mansfield Park",
         "orientation": "v",
         "showlegend": true,
         "type": "scatter",
         "x": [
          -0.003514868186485344
         ],
         "xaxis": "x",
         "y": [
          -0.00001338103321541943
         ],
         "yaxis": "y"
        },
        {
         "alignmentgroup": "True",
         "hovertemplate": "<b>%{hovertext}</b><br><br>title=Mansfield Park<br>PC1=%{x}<extra></extra>",
         "hovertext": [
          "141"
         ],
         "legendgroup": "Mansfield Park",
         "marker": {
          "color": "#636efa",
          "symbol": "circle"
         },
         "name": "Mansfield Park",
         "notched": true,
         "offsetgroup": "Mansfield Park",
         "showlegend": false,
         "type": "box",
         "x": [
          -0.003514868186485344
         ],
         "xaxis": "x2",
         "yaxis": "y2"
        },
        {
         "hovertemplate": "<b>%{hovertext}</b><br><br>title=Northanger Abbey<br>PC1=%{x}<br>PC2=%{y}<extra></extra>",
         "hovertext": [
          "121"
         ],
         "legendgroup": "Northanger Abbey",
         "marker": {
          "color": "#EF553B",
          "symbol": "circle"
         },
         "mode": "markers",
         "name": "Northanger Abbey",
         "orientation": "v",
         "showlegend": true,
         "type": "scatter",
         "x": [
          -0.000014280311203010426
         ],
         "xaxis": "x",
         "y": [
          0.0023683968010917156
         ],
         "yaxis": "y"
        },
        {
         "alignmentgroup": "True",
         "hovertemplate": "<b>%{hovertext}</b><br><br>title=Northanger Abbey<br>PC1=%{x}<extra></extra>",
         "hovertext": [
          "121"
         ],
         "legendgroup": "Northanger Abbey",
         "marker": {
          "color": "#EF553B",
          "symbol": "circle"
         },
         "name": "Northanger Abbey",
         "notched": true,
         "offsetgroup": "Northanger Abbey",
         "showlegend": false,
         "type": "box",
         "x": [
          -0.000014280311203010426
         ],
         "xaxis": "x2",
         "yaxis": "y2"
        },
        {
         "hovertemplate": "<b>%{hovertext}</b><br><br>title=Pride and Prejudice<br>PC1=%{x}<br>PC2=%{y}<extra></extra>",
         "hovertext": [
          "42671"
         ],
         "legendgroup": "Pride and Prejudice",
         "marker": {
          "color": "#00cc96",
          "symbol": "circle"
         },
         "mode": "markers",
         "name": "Pride and Prejudice",
         "orientation": "v",
         "showlegend": true,
         "type": "scatter",
         "x": [
          0.00024707899665172466
         ],
         "xaxis": "x",
         "y": [
          -0.00005346923355852271
         ],
         "yaxis": "y"
        },
        {
         "alignmentgroup": "True",
         "hovertemplate": "<b>%{hovertext}</b><br><br>title=Pride and Prejudice<br>PC1=%{x}<extra></extra>",
         "hovertext": [
          "42671"
         ],
         "legendgroup": "Pride and Prejudice",
         "marker": {
          "color": "#00cc96",
          "symbol": "circle"
         },
         "name": "Pride and Prejudice",
         "notched": true,
         "offsetgroup": "Pride and Prejudice",
         "showlegend": false,
         "type": "box",
         "x": [
          0.00024707899665172466
         ],
         "xaxis": "x2",
         "yaxis": "y2"
        }
       ],
       "layout": {
        "legend": {
         "title": {
          "text": "title"
         },
         "tracegroupgap": 0
        },
        "margin": {
         "t": 60
        },
        "template": {
         "data": {
          "bar": [
           {
            "error_x": {
             "color": "#2a3f5f"
            },
            "error_y": {
             "color": "#2a3f5f"
            },
            "marker": {
             "line": {
              "color": "#E5ECF6",
              "width": 0.5
             },
             "pattern": {
              "fillmode": "overlay",
              "size": 10,
              "solidity": 0.2
             }
            },
            "type": "bar"
           }
          ],
          "barpolar": [
           {
            "marker": {
             "line": {
              "color": "#E5ECF6",
              "width": 0.5
             },
             "pattern": {
              "fillmode": "overlay",
              "size": 10,
              "solidity": 0.2
             }
            },
            "type": "barpolar"
           }
          ],
          "carpet": [
           {
            "aaxis": {
             "endlinecolor": "#2a3f5f",
             "gridcolor": "white",
             "linecolor": "white",
             "minorgridcolor": "white",
             "startlinecolor": "#2a3f5f"
            },
            "baxis": {
             "endlinecolor": "#2a3f5f",
             "gridcolor": "white",
             "linecolor": "white",
             "minorgridcolor": "white",
             "startlinecolor": "#2a3f5f"
            },
            "type": "carpet"
           }
          ],
          "choropleth": [
           {
            "colorbar": {
             "outlinewidth": 0,
             "ticks": ""
            },
            "type": "choropleth"
           }
          ],
          "contour": [
           {
            "colorbar": {
             "outlinewidth": 0,
             "ticks": ""
            },
            "colorscale": [
             [
              0,
              "#0d0887"
             ],
             [
              0.1111111111111111,
              "#46039f"
             ],
             [
              0.2222222222222222,
              "#7201a8"
             ],
             [
              0.3333333333333333,
              "#9c179e"
             ],
             [
              0.4444444444444444,
              "#bd3786"
             ],
             [
              0.5555555555555556,
              "#d8576b"
             ],
             [
              0.6666666666666666,
              "#ed7953"
             ],
             [
              0.7777777777777778,
              "#fb9f3a"
             ],
             [
              0.8888888888888888,
              "#fdca26"
             ],
             [
              1,
              "#f0f921"
             ]
            ],
            "type": "contour"
           }
          ],
          "contourcarpet": [
           {
            "colorbar": {
             "outlinewidth": 0,
             "ticks": ""
            },
            "type": "contourcarpet"
           }
          ],
          "heatmap": [
           {
            "colorbar": {
             "outlinewidth": 0,
             "ticks": ""
            },
            "colorscale": [
             [
              0,
              "#0d0887"
             ],
             [
              0.1111111111111111,
              "#46039f"
             ],
             [
              0.2222222222222222,
              "#7201a8"
             ],
             [
              0.3333333333333333,
              "#9c179e"
             ],
             [
              0.4444444444444444,
              "#bd3786"
             ],
             [
              0.5555555555555556,
              "#d8576b"
             ],
             [
              0.6666666666666666,
              "#ed7953"
             ],
             [
              0.7777777777777778,
              "#fb9f3a"
             ],
             [
              0.8888888888888888,
              "#fdca26"
             ],
             [
              1,
              "#f0f921"
             ]
            ],
            "type": "heatmap"
           }
          ],
          "heatmapgl": [
           {
            "colorbar": {
             "outlinewidth": 0,
             "ticks": ""
            },
            "colorscale": [
             [
              0,
              "#0d0887"
             ],
             [
              0.1111111111111111,
              "#46039f"
             ],
             [
              0.2222222222222222,
              "#7201a8"
             ],
             [
              0.3333333333333333,
              "#9c179e"
             ],
             [
              0.4444444444444444,
              "#bd3786"
             ],
             [
              0.5555555555555556,
              "#d8576b"
             ],
             [
              0.6666666666666666,
              "#ed7953"
             ],
             [
              0.7777777777777778,
              "#fb9f3a"
             ],
             [
              0.8888888888888888,
              "#fdca26"
             ],
             [
              1,
              "#f0f921"
             ]
            ],
            "type": "heatmapgl"
           }
          ],
          "histogram": [
           {
            "marker": {
             "pattern": {
              "fillmode": "overlay",
              "size": 10,
              "solidity": 0.2
             }
            },
            "type": "histogram"
           }
          ],
          "histogram2d": [
           {
            "colorbar": {
             "outlinewidth": 0,
             "ticks": ""
            },
            "colorscale": [
             [
              0,
              "#0d0887"
             ],
             [
              0.1111111111111111,
              "#46039f"
             ],
             [
              0.2222222222222222,
              "#7201a8"
             ],
             [
              0.3333333333333333,
              "#9c179e"
             ],
             [
              0.4444444444444444,
              "#bd3786"
             ],
             [
              0.5555555555555556,
              "#d8576b"
             ],
             [
              0.6666666666666666,
              "#ed7953"
             ],
             [
              0.7777777777777778,
              "#fb9f3a"
             ],
             [
              0.8888888888888888,
              "#fdca26"
             ],
             [
              1,
              "#f0f921"
             ]
            ],
            "type": "histogram2d"
           }
          ],
          "histogram2dcontour": [
           {
            "colorbar": {
             "outlinewidth": 0,
             "ticks": ""
            },
            "colorscale": [
             [
              0,
              "#0d0887"
             ],
             [
              0.1111111111111111,
              "#46039f"
             ],
             [
              0.2222222222222222,
              "#7201a8"
             ],
             [
              0.3333333333333333,
              "#9c179e"
             ],
             [
              0.4444444444444444,
              "#bd3786"
             ],
             [
              0.5555555555555556,
              "#d8576b"
             ],
             [
              0.6666666666666666,
              "#ed7953"
             ],
             [
              0.7777777777777778,
              "#fb9f3a"
             ],
             [
              0.8888888888888888,
              "#fdca26"
             ],
             [
              1,
              "#f0f921"
             ]
            ],
            "type": "histogram2dcontour"
           }
          ],
          "mesh3d": [
           {
            "colorbar": {
             "outlinewidth": 0,
             "ticks": ""
            },
            "type": "mesh3d"
           }
          ],
          "parcoords": [
           {
            "line": {
             "colorbar": {
              "outlinewidth": 0,
              "ticks": ""
             }
            },
            "type": "parcoords"
           }
          ],
          "pie": [
           {
            "automargin": true,
            "type": "pie"
           }
          ],
          "scatter": [
           {
            "marker": {
             "colorbar": {
              "outlinewidth": 0,
              "ticks": ""
             }
            },
            "type": "scatter"
           }
          ],
          "scatter3d": [
           {
            "line": {
             "colorbar": {
              "outlinewidth": 0,
              "ticks": ""
             }
            },
            "marker": {
             "colorbar": {
              "outlinewidth": 0,
              "ticks": ""
             }
            },
            "type": "scatter3d"
           }
          ],
          "scattercarpet": [
           {
            "marker": {
             "colorbar": {
              "outlinewidth": 0,
              "ticks": ""
             }
            },
            "type": "scattercarpet"
           }
          ],
          "scattergeo": [
           {
            "marker": {
             "colorbar": {
              "outlinewidth": 0,
              "ticks": ""
             }
            },
            "type": "scattergeo"
           }
          ],
          "scattergl": [
           {
            "marker": {
             "colorbar": {
              "outlinewidth": 0,
              "ticks": ""
             }
            },
            "type": "scattergl"
           }
          ],
          "scattermapbox": [
           {
            "marker": {
             "colorbar": {
              "outlinewidth": 0,
              "ticks": ""
             }
            },
            "type": "scattermapbox"
           }
          ],
          "scatterpolar": [
           {
            "marker": {
             "colorbar": {
              "outlinewidth": 0,
              "ticks": ""
             }
            },
            "type": "scatterpolar"
           }
          ],
          "scatterpolargl": [
           {
            "marker": {
             "colorbar": {
              "outlinewidth": 0,
              "ticks": ""
             }
            },
            "type": "scatterpolargl"
           }
          ],
          "scatterternary": [
           {
            "marker": {
             "colorbar": {
              "outlinewidth": 0,
              "ticks": ""
             }
            },
            "type": "scatterternary"
           }
          ],
          "surface": [
           {
            "colorbar": {
             "outlinewidth": 0,
             "ticks": ""
            },
            "colorscale": [
             [
              0,
              "#0d0887"
             ],
             [
              0.1111111111111111,
              "#46039f"
             ],
             [
              0.2222222222222222,
              "#7201a8"
             ],
             [
              0.3333333333333333,
              "#9c179e"
             ],
             [
              0.4444444444444444,
              "#bd3786"
             ],
             [
              0.5555555555555556,
              "#d8576b"
             ],
             [
              0.6666666666666666,
              "#ed7953"
             ],
             [
              0.7777777777777778,
              "#fb9f3a"
             ],
             [
              0.8888888888888888,
              "#fdca26"
             ],
             [
              1,
              "#f0f921"
             ]
            ],
            "type": "surface"
           }
          ],
          "table": [
           {
            "cells": {
             "fill": {
              "color": "#EBF0F8"
             },
             "line": {
              "color": "white"
             }
            },
            "header": {
             "fill": {
              "color": "#C8D4E3"
             },
             "line": {
              "color": "white"
             }
            },
            "type": "table"
           }
          ]
         },
         "layout": {
          "annotationdefaults": {
           "arrowcolor": "#2a3f5f",
           "arrowhead": 0,
           "arrowwidth": 1
          },
          "autotypenumbers": "strict",
          "coloraxis": {
           "colorbar": {
            "outlinewidth": 0,
            "ticks": ""
           }
          },
          "colorscale": {
           "diverging": [
            [
             0,
             "#8e0152"
            ],
            [
             0.1,
             "#c51b7d"
            ],
            [
             0.2,
             "#de77ae"
            ],
            [
             0.3,
             "#f1b6da"
            ],
            [
             0.4,
             "#fde0ef"
            ],
            [
             0.5,
             "#f7f7f7"
            ],
            [
             0.6,
             "#e6f5d0"
            ],
            [
             0.7,
             "#b8e186"
            ],
            [
             0.8,
             "#7fbc41"
            ],
            [
             0.9,
             "#4d9221"
            ],
            [
             1,
             "#276419"
            ]
           ],
           "sequential": [
            [
             0,
             "#0d0887"
            ],
            [
             0.1111111111111111,
             "#46039f"
            ],
            [
             0.2222222222222222,
             "#7201a8"
            ],
            [
             0.3333333333333333,
             "#9c179e"
            ],
            [
             0.4444444444444444,
             "#bd3786"
            ],
            [
             0.5555555555555556,
             "#d8576b"
            ],
            [
             0.6666666666666666,
             "#ed7953"
            ],
            [
             0.7777777777777778,
             "#fb9f3a"
            ],
            [
             0.8888888888888888,
             "#fdca26"
            ],
            [
             1,
             "#f0f921"
            ]
           ],
           "sequentialminus": [
            [
             0,
             "#0d0887"
            ],
            [
             0.1111111111111111,
             "#46039f"
            ],
            [
             0.2222222222222222,
             "#7201a8"
            ],
            [
             0.3333333333333333,
             "#9c179e"
            ],
            [
             0.4444444444444444,
             "#bd3786"
            ],
            [
             0.5555555555555556,
             "#d8576b"
            ],
            [
             0.6666666666666666,
             "#ed7953"
            ],
            [
             0.7777777777777778,
             "#fb9f3a"
            ],
            [
             0.8888888888888888,
             "#fdca26"
            ],
            [
             1,
             "#f0f921"
            ]
           ]
          },
          "colorway": [
           "#636efa",
           "#EF553B",
           "#00cc96",
           "#ab63fa",
           "#FFA15A",
           "#19d3f3",
           "#FF6692",
           "#B6E880",
           "#FF97FF",
           "#FECB52"
          ],
          "font": {
           "color": "#2a3f5f"
          },
          "geo": {
           "bgcolor": "white",
           "lakecolor": "white",
           "landcolor": "#E5ECF6",
           "showlakes": true,
           "showland": true,
           "subunitcolor": "white"
          },
          "hoverlabel": {
           "align": "left"
          },
          "hovermode": "closest",
          "mapbox": {
           "style": "light"
          },
          "paper_bgcolor": "white",
          "plot_bgcolor": "#E5ECF6",
          "polar": {
           "angularaxis": {
            "gridcolor": "white",
            "linecolor": "white",
            "ticks": ""
           },
           "bgcolor": "#E5ECF6",
           "radialaxis": {
            "gridcolor": "white",
            "linecolor": "white",
            "ticks": ""
           }
          },
          "scene": {
           "xaxis": {
            "backgroundcolor": "#E5ECF6",
            "gridcolor": "white",
            "gridwidth": 2,
            "linecolor": "white",
            "showbackground": true,
            "ticks": "",
            "zerolinecolor": "white"
           },
           "yaxis": {
            "backgroundcolor": "#E5ECF6",
            "gridcolor": "white",
            "gridwidth": 2,
            "linecolor": "white",
            "showbackground": true,
            "ticks": "",
            "zerolinecolor": "white"
           },
           "zaxis": {
            "backgroundcolor": "#E5ECF6",
            "gridcolor": "white",
            "gridwidth": 2,
            "linecolor": "white",
            "showbackground": true,
            "ticks": "",
            "zerolinecolor": "white"
           }
          },
          "shapedefaults": {
           "line": {
            "color": "#2a3f5f"
           }
          },
          "ternary": {
           "aaxis": {
            "gridcolor": "white",
            "linecolor": "white",
            "ticks": ""
           },
           "baxis": {
            "gridcolor": "white",
            "linecolor": "white",
            "ticks": ""
           },
           "bgcolor": "#E5ECF6",
           "caxis": {
            "gridcolor": "white",
            "linecolor": "white",
            "ticks": ""
           }
          },
          "title": {
           "x": 0.05
          },
          "xaxis": {
           "automargin": true,
           "gridcolor": "white",
           "linecolor": "white",
           "ticks": "",
           "title": {
            "standoff": 15
           },
           "zerolinecolor": "white",
           "zerolinewidth": 2
          },
          "yaxis": {
           "automargin": true,
           "gridcolor": "white",
           "linecolor": "white",
           "ticks": "",
           "title": {
            "standoff": 15
           },
           "zerolinecolor": "white",
           "zerolinewidth": 2
          }
         }
        },
        "xaxis": {
         "anchor": "y",
         "domain": [
          0,
          1
         ],
         "title": {
          "text": "PC1"
         }
        },
        "xaxis2": {
         "anchor": "y2",
         "domain": [
          0,
          1
         ],
         "matches": "x",
         "showgrid": true,
         "showticklabels": false
        },
        "yaxis": {
         "anchor": "x",
         "domain": [
          0,
          0.7326
         ],
         "title": {
          "text": "PC2"
         }
        },
        "yaxis2": {
         "anchor": "x2",
         "domain": [
          0.7426,
          1
         ],
         "matches": "y2",
         "showgrid": false,
         "showline": false,
         "showticklabels": false,
         "ticks": ""
        }
       }
      }
     },
     "metadata": {}
    }
   ],
   "metadata": {}
  }
 ],
 "metadata": {
  "orig_nbformat": 4,
  "language_info": {
   "name": "python",
   "version": "3.8.3",
   "mimetype": "text/x-python",
   "codemirror_mode": {
    "name": "ipython",
    "version": 3
   },
   "pygments_lexer": "ipython3",
   "nbconvert_exporter": "python",
   "file_extension": ".py"
  },
  "kernelspec": {
   "name": "python3",
   "display_name": "Python 3.8.3 64-bit ('base': conda)"
  },
  "interpreter": {
   "hash": "ecb1fcb44d673ee39ba24e2c766b4cd2fcd016037100a149ee6e29fe396f875b"
  }
 },
 "nbformat": 4,
 "nbformat_minor": 2
}