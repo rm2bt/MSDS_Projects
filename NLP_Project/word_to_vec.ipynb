{
 "cells": [
  {
   "cell_type": "markdown",
   "source": [
    "### Word to Vec"
   ],
   "metadata": {}
  },
  {
   "cell_type": "code",
   "execution_count": 1,
   "source": [
    "#! pip install plotly_express"
   ],
   "outputs": [
    {
     "output_type": "stream",
     "name": "stdout",
     "text": [
      "Requirement already satisfied: plotly_express in /Users/rehanmerchant/opt/anaconda3/lib/python3.8/site-packages (0.4.0)\n",
      "Requirement already satisfied: plotly>=4.0.0 in /Users/rehanmerchant/opt/anaconda3/lib/python3.8/site-packages (from plotly_express) (5.1.0)\n",
      "Requirement already satisfied: numpy>=1.11 in /Users/rehanmerchant/opt/anaconda3/lib/python3.8/site-packages (from plotly_express) (1.19.2)\n",
      "Requirement already satisfied: pandas>=0.20.0 in /Users/rehanmerchant/opt/anaconda3/lib/python3.8/site-packages (from plotly_express) (1.1.3)\n",
      "Requirement already satisfied: scipy>=0.18 in /Users/rehanmerchant/opt/anaconda3/lib/python3.8/site-packages (from plotly_express) (1.5.0)\n",
      "Requirement already satisfied: statsmodels>=0.9.0 in /Users/rehanmerchant/opt/anaconda3/lib/python3.8/site-packages (from plotly_express) (0.12.0)\n",
      "Requirement already satisfied: patsy>=0.5 in /Users/rehanmerchant/opt/anaconda3/lib/python3.8/site-packages (from plotly_express) (0.5.1)\n",
      "Requirement already satisfied: tenacity>=6.2.0 in /Users/rehanmerchant/opt/anaconda3/lib/python3.8/site-packages (from plotly>=4.0.0->plotly_express) (8.0.1)\n",
      "Requirement already satisfied: six in /Users/rehanmerchant/opt/anaconda3/lib/python3.8/site-packages (from plotly>=4.0.0->plotly_express) (1.15.0)\n",
      "Requirement already satisfied: python-dateutil>=2.7.3 in /Users/rehanmerchant/opt/anaconda3/lib/python3.8/site-packages (from pandas>=0.20.0->plotly_express) (2.8.1)\n",
      "Requirement already satisfied: pytz>=2017.2 in /Users/rehanmerchant/opt/anaconda3/lib/python3.8/site-packages (from pandas>=0.20.0->plotly_express) (2020.1)\n"
     ]
    }
   ],
   "metadata": {}
  },
  {
   "cell_type": "code",
   "execution_count": 1,
   "source": [
    "import gensim"
   ],
   "outputs": [
    {
     "output_type": "stream",
     "name": "stderr",
     "text": [
      "/Users/rehanmerchant/opt/anaconda3/lib/python3.8/site-packages/gensim/similarities/__init__.py:15: UserWarning: The gensim.similarities.levenshtein submodule is disabled, because the optional Levenshtein package <https://pypi.org/project/python-Levenshtein/> is unavailable. Install Levenhstein (e.g. `pip install python-Levenshtein`) to suppress this warning.\n",
      "  warnings.warn(msg)\n"
     ]
    }
   ],
   "metadata": {}
  },
  {
   "cell_type": "code",
   "execution_count": 2,
   "source": [
    "OHCO = ['book_id', 'chap_num', 'para_num', 'sent_num', 'token_num']\n",
    "BAG = OHCO[:4] # Paragraphs\n",
    "# BAG = OHCO[:5] # Sentences\n",
    "window = 5"
   ],
   "outputs": [],
   "metadata": {}
  },
  {
   "cell_type": "code",
   "execution_count": 3,
   "source": [
    "import pandas as pd\n",
    "import numpy as np\n",
    "from gensim.models import word2vec\n",
    "from sklearn.manifold import TSNE\n",
    "import plotly_express as px"
   ],
   "outputs": [],
   "metadata": {}
  },
  {
   "cell_type": "code",
   "execution_count": 4,
   "source": [
    "%matplotlib inline"
   ],
   "outputs": [],
   "metadata": {}
  },
  {
   "cell_type": "code",
   "execution_count": 5,
   "source": [
    "LIB = pd.read_csv('LIB.csv')"
   ],
   "outputs": [],
   "metadata": {}
  },
  {
   "cell_type": "code",
   "execution_count": 6,
   "source": [
    "for i in LIB['book_title']:\n",
    "    if 'Austen' in i:\n",
    "        print(i)"
   ],
   "outputs": [
    {
     "output_type": "stream",
     "name": "stdout",
     "text": [
      "Mansfield Park, by Jane Austen\n",
      "Northanger Abbey, by Jane Austen\n",
      "Pride and Prejudice, by Jane Austen, Edited\n"
     ]
    }
   ],
   "metadata": {}
  },
  {
   "cell_type": "code",
   "execution_count": 7,
   "source": [
    "aus_books = []\n",
    "for i in LIB.iterrows():\n",
    "    if 'austen' in i[1][3]:\n",
    "        aus_books.append(i[1][0])\n",
    "\n",
    "    "
   ],
   "outputs": [],
   "metadata": {}
  },
  {
   "cell_type": "code",
   "execution_count": 8,
   "source": [
    "aus_books"
   ],
   "outputs": [
    {
     "output_type": "execute_result",
     "data": {
      "text/plain": [
       "[141, 121, 42671]"
      ]
     },
     "metadata": {},
     "execution_count": 8
    }
   ],
   "metadata": {}
  },
  {
   "cell_type": "code",
   "execution_count": 10,
   "source": [
    "TOKENS = pd.read_csv('TOKEN2.csv')"
   ],
   "outputs": [],
   "metadata": {}
  },
  {
   "cell_type": "code",
   "execution_count": 11,
   "source": [
    "t1=TOKENS"
   ],
   "outputs": [],
   "metadata": {}
  },
  {
   "cell_type": "code",
   "execution_count": 12,
   "source": [
    "corpus1 = t1[~t1.pos.str.match('NNPS?')]\\\n",
    "    .groupby(BAG)\\\n",
    "    .term_str.apply(lambda  x:  x.tolist())\\\n",
    "    .reset_index()['term_str'].tolist()\n"
   ],
   "outputs": [],
   "metadata": {}
  },
  {
   "cell_type": "code",
   "execution_count": 13,
   "source": [
    "m1 = word2vec.Word2Vec(corpus1, window=window, min_count=200, workers=4)"
   ],
   "outputs": [],
   "metadata": {}
  },
  {
   "cell_type": "code",
   "execution_count": 14,
   "source": [
    "# coords = pd.DataFrame(index=range(len(model.wv)))\n",
    "# coords['label'] = [w for w in model.wv]\n",
    "# coords['vector'] = coords['label'].apply(lambda x: model.wv.get_vector(x))\n",
    "coords1 = pd.DataFrame(index=range(len(m1.wv.key_to_index)))\n",
    "coords1['label'] = m1.wv.index_to_key\n",
    "coords1['vector'] = coords1['label'].apply(lambda x: m1.wv.get_vector(x))"
   ],
   "outputs": [],
   "metadata": {}
  },
  {
   "cell_type": "code",
   "execution_count": 15,
   "source": [
    "tsne_model1 = TSNE(perplexity=40, n_components=2, init='pca', n_iter=2500, random_state=23)\n",
    "tsne_values1 = tsne_model1.fit_transform(coords1['vector'].tolist())"
   ],
   "outputs": [],
   "metadata": {}
  },
  {
   "cell_type": "code",
   "execution_count": 16,
   "source": [
    "coords1['x'] = tsne_values1[:,0]\n",
    "coords1['y'] = tsne_values1[:,1]\n",
    "coords1.head()"
   ],
   "outputs": [
    {
     "output_type": "execute_result",
     "data": {
      "text/plain": [
       "  label                                             vector         x         y\n",
       "0   the  [-0.16552766, 0.56497824, 0.50821096, 0.178076...  4.114814  6.481851\n",
       "1    to  [-0.17420313, 0.35459864, -0.06438009, 0.20676... -1.406842  4.051281\n",
       "2   and  [-0.1162485, 0.2775262, 0.15647973, 0.17467678...  4.827510  1.866202\n",
       "3    of  [-0.31989172, 0.4158327, -0.09709886, 0.134807...  6.642979  4.514800\n",
       "4   her  [-0.5099739, 0.52677894, 0.14838536, 0.0034291...  8.767496  2.407175"
      ],
      "text/html": [
       "<div>\n",
       "<style scoped>\n",
       "    .dataframe tbody tr th:only-of-type {\n",
       "        vertical-align: middle;\n",
       "    }\n",
       "\n",
       "    .dataframe tbody tr th {\n",
       "        vertical-align: top;\n",
       "    }\n",
       "\n",
       "    .dataframe thead th {\n",
       "        text-align: right;\n",
       "    }\n",
       "</style>\n",
       "<table border=\"1\" class=\"dataframe\">\n",
       "  <thead>\n",
       "    <tr style=\"text-align: right;\">\n",
       "      <th></th>\n",
       "      <th>label</th>\n",
       "      <th>vector</th>\n",
       "      <th>x</th>\n",
       "      <th>y</th>\n",
       "    </tr>\n",
       "  </thead>\n",
       "  <tbody>\n",
       "    <tr>\n",
       "      <th>0</th>\n",
       "      <td>the</td>\n",
       "      <td>[-0.16552766, 0.56497824, 0.50821096, 0.178076...</td>\n",
       "      <td>4.114814</td>\n",
       "      <td>6.481851</td>\n",
       "    </tr>\n",
       "    <tr>\n",
       "      <th>1</th>\n",
       "      <td>to</td>\n",
       "      <td>[-0.17420313, 0.35459864, -0.06438009, 0.20676...</td>\n",
       "      <td>-1.406842</td>\n",
       "      <td>4.051281</td>\n",
       "    </tr>\n",
       "    <tr>\n",
       "      <th>2</th>\n",
       "      <td>and</td>\n",
       "      <td>[-0.1162485, 0.2775262, 0.15647973, 0.17467678...</td>\n",
       "      <td>4.827510</td>\n",
       "      <td>1.866202</td>\n",
       "    </tr>\n",
       "    <tr>\n",
       "      <th>3</th>\n",
       "      <td>of</td>\n",
       "      <td>[-0.31989172, 0.4158327, -0.09709886, 0.134807...</td>\n",
       "      <td>6.642979</td>\n",
       "      <td>4.514800</td>\n",
       "    </tr>\n",
       "    <tr>\n",
       "      <th>4</th>\n",
       "      <td>her</td>\n",
       "      <td>[-0.5099739, 0.52677894, 0.14838536, 0.0034291...</td>\n",
       "      <td>8.767496</td>\n",
       "      <td>2.407175</td>\n",
       "    </tr>\n",
       "  </tbody>\n",
       "</table>\n",
       "</div>"
      ]
     },
     "metadata": {},
     "execution_count": 16
    }
   ],
   "metadata": {}
  },
  {
   "cell_type": "code",
   "execution_count": 17,
   "source": [
    "px.scatter(coords1, 'x', 'y', text='label', height=1000, title='Jane Austen Word Plot').update_traces(mode='text')"
   ],
   "outputs": [
    {
     "output_type": "display_data",
     "data": {
      "application/vnd.plotly.v1+json": {
       "config": {
        "plotlyServerURL": "https://plot.ly"
       },
       "data": [
        {
         "hovertemplate": "x=%{x}<br>y=%{y}<br>label=%{text}<extra></extra>",
         "legendgroup": "",
         "marker": {
          "color": "#636efa",
          "symbol": "circle"
         },
         "mode": "text",
         "name": "",
         "orientation": "v",
         "showlegend": false,
         "text": [
          "the",
          "to",
          "and",
          "of",
          "her",
          "a",
          "in",
          "was",
          "i",
          "she",
          "it",
          "not",
          "that",
          "be",
          "you",
          "as",
          "had",
          "he",
          "for",
          "his",
          "with",
          "but",
          "have",
          "is",
          "at",
          "so",
          "on",
          "all",
          "by",
          "him",
          "could",
          "my",
          "very",
          "been",
          "would",
          "were",
          "which",
          "they",
          "no",
          "from",
          "what",
          "this",
          "will",
          "there",
          "or",
          "an",
          "do",
          "such",
          "their",
          "me",
          "your",
          "them",
          "more",
          "must",
          "said",
          "when",
          "much",
          "any",
          "are",
          "if",
          "than",
          "one",
          "am",
          "only",
          "should",
          "we",
          "who",
          "did",
          "being",
          "think",
          "now",
          "own",
          "herself",
          "might",
          "time",
          "how",
          "never",
          "some",
          "know",
          "before",
          "every",
          "well",
          "little",
          "nothing",
          "good",
          "can",
          "though",
          "without",
          "other",
          "soon",
          "most",
          "after",
          "has",
          "too",
          "again",
          "first",
          "out",
          "say",
          "into",
          "may",
          "see",
          "great",
          "about",
          "shall",
          "two",
          "then",
          "up",
          "made",
          "make",
          "thought",
          "dear",
          "sister",
          "ever",
          "young",
          "quite",
          "day",
          "away",
          "man",
          "go",
          "its",
          "like",
          "himself",
          "having",
          "always",
          "family",
          "last",
          "however",
          "room",
          "sure",
          "long",
          "house",
          "way",
          "felt",
          "give",
          "even",
          "hope",
          "many",
          "cannot",
          "enough",
          "better",
          "upon",
          "friend",
          "here",
          "over",
          "us",
          "feelings",
          "indeed",
          "done",
          "wish",
          "something",
          "mind",
          "father",
          "just",
          "home",
          "thing",
          "love",
          "moment",
          "look",
          "saw",
          "brother",
          "down",
          "still",
          "take",
          "till",
          "almost",
          "part",
          "come",
          "happy",
          "perhaps",
          "seemed",
          "pleasure",
          "where",
          "yet",
          "half",
          "few",
          "heart",
          "came",
          "place",
          "mother",
          "same",
          "letter",
          "while",
          "general",
          "anything",
          "subject",
          "yes",
          "really",
          "found",
          "oh",
          "going",
          "less",
          "believe",
          "whom",
          "speak",
          "another",
          "looked",
          "three",
          "off",
          "sisters",
          "lady",
          "heard",
          "manner",
          "together",
          "morning",
          "world",
          "seen",
          "aunt"
         ],
         "type": "scatter",
         "x": [
          4.114814281463623,
          -1.4068418741226196,
          4.827510356903076,
          6.642978668212891,
          8.767496109008789,
          2.984708786010742,
          6.252370357513428,
          6.628568172454834,
          -6.7851691246032715,
          8.864923477172852,
          -2.39738130569458,
          -3.6541640758514404,
          -2.0992071628570557,
          -7.248645305633545,
          -7.626796722412109,
          -3.7141716480255127,
          7.358304023742676,
          8.873557090759277,
          -0.21092230081558228,
          8.441370964050293,
          5.9892354011535645,
          -3.4854700565338135,
          -4.976581573486328,
          -9.574398040771484,
          3.7439980506896973,
          -4.018507957458496,
          5.890390396118164,
          2.0342187881469727,
          6.021909236907959,
          2.713561534881592,
          0.5068752765655518,
          -9.3323335647583,
          -4.436041831970215,
          1.5131604671478271,
          -0.4286162853240967,
          5.3968939781188965,
          6.013052463531494,
          2.38041353225708,
          -6.050952911376953,
          5.837281227111816,
          -3.747945547103882,
          -0.1692899465560913,
          -9.642333984375,
          -0.6993522644042969,
          0.3855130076408386,
          3.1053669452667236,
          -8.014510154724121,
          0.7573557496070862,
          3.716111660003662,
          -8.292257308959961,
          -9.302557945251465,
          2.454150915145874,
          -6.916854381561279,
          -1.123559594154358,
          -6.20229434967041,
          3.6379528045654297,
          -1.2145358324050903,
          -0.4398500621318817,
          -10.303479194641113,
          -5.019250392913818,
          -5.808032512664795,
          1.0132298469543457,
          -8.026660919189453,
          0.4817684292793274,
          -0.8450406193733215,
          -7.631960391998291,
          0.2957959771156311,
          -4.864623546600342,
          4.750732421875,
          -6.576749801635742,
          -1.835588812828064,
          -2.5749049186706543,
          8.717649459838867,
          0.3370019793510437,
          2.6030232906341553,
          -4.878878116607666,
          -2.9253039360046387,
          2.8820042610168457,
          -7.393986225128174,
          6.431313991546631,
          2.638349771499634,
          -4.509891510009766,
          -2.9122323989868164,
          -6.292769908905029,
          -3.0220375061035156,
          -9.5466947555542,
          7.610604763031006,
          0.3446360230445862,
          1.1817548274993896,
          4.235084056854248,
          1.141664981842041,
          4.599479675292969,
          -3.7054443359375,
          -3.9337010383605957,
          4.125965118408203,
          4.031603813171387,
          1.6498864889144897,
          -6.608337879180908,
          4.521474361419678,
          -9.570213317871094,
          -6.925929069519043,
          -2.839444160461426,
          -1.3847382068634033,
          -9.497749328613281,
          3.095097780227661,
          -1.0550700426101685,
          2.912400007247925,
          6.804630279541016,
          -6.263978004455566,
          0.28009626269340515,
          -9.217162132263184,
          -2.360602617263794,
          -2.744480848312378,
          -1.4439083337783813,
          -4.588119983673096,
          3.433586359024048,
          3.7641360759735107,
          -1.7271358966827393,
          -7.0379462242126465,
          4.9006547927856445,
          -5.707294940948486,
          7.3517069816589355,
          5.08924674987793,
          -4.885299205780029,
          3.7944726943969727,
          2.7673487663269043,
          1.5371912717819214,
          4.4637675285339355,
          -6.460744857788086,
          -2.2689242362976074,
          3.96315336227417,
          -0.9570945501327515,
          7.1030778884887695,
          -6.251258373260498,
          1.3064277172088623,
          -6.613602161407471,
          0.1384904682636261,
          -8.989045143127441,
          -2.1005985736846924,
          -6.167292594909668,
          -5.469156265258789,
          -0.16788627207279205,
          -6.598413467407227,
          3.9032018184661865,
          -7.3544745445251465,
          0.9124273061752319,
          -5.800746917724609,
          -3.1215314865112305,
          -5.6311354637146,
          -2.8234713077545166,
          0.328870952129364,
          -2.105661630630493,
          -0.5047613382339478,
          1.4119786024093628,
          -2.1241538524627686,
          -3.967893123626709,
          2.9980640411376953,
          -1.6678149700164795,
          5.540135383605957,
          -2.7058560848236084,
          2.7369368076324463,
          1.1362478733062744,
          -6.2012152671813965,
          3.0484676361083984,
          5.058517932891846,
          -1.286952257156372,
          -6.277654647827148,
          -2.6775641441345215,
          -3.796912908554077,
          5.952471733093262,
          0.9412826299667358,
          0.30756035447120667,
          -1.7317582368850708,
          0.21395128965377808,
          0.23414857685565948,
          -0.5912483930587769,
          4.8724541664123535,
          -0.6747424006462097,
          -1.2817679643630981,
          3.7051968574523926,
          2.513683795928955,
          3.5696468353271484,
          2.0558879375457764,
          -3.2236320972442627,
          2.044851779937744,
          -6.920627593994141,
          -4.446626663208008,
          5.31330680847168,
          -4.611976623535156,
          -1.4080257415771484,
          -6.570141792297363,
          -6.384093761444092,
          1.7122095823287964,
          -5.151401996612549,
          2.058955669403076,
          4.71573543548584,
          2.966155767440796,
          0.7172924280166626,
          -1.1022533178329468,
          0.7229692935943604,
          0.5293991565704346,
          1.1557697057724,
          2.309750556945801,
          3.398638963699341,
          -1.5422890186309814,
          1.128342866897583,
          -2.1460111141204834
         ],
         "xaxis": "x",
         "y": [
          6.481850624084473,
          4.051281452178955,
          1.8662021160125732,
          4.514800071716309,
          2.407175064086914,
          7.946576118469238,
          4.39159631729126,
          1.1170711517333984,
          -8.156367301940918,
          1.0796432495117188,
          -4.306535243988037,
          -5.858530521392822,
          -5.028403282165527,
          -2.2569196224212646,
          -8.37014389038086,
          -0.25500360131263733,
          -0.6966626048088074,
          0.13495483994483948,
          2.310861349105835,
          2.9792349338531494,
          3.165311098098755,
          -4.341566562652588,
          -7.229708671569824,
          -3.8943793773651123,
          2.1869301795959473,
          -1.0658204555511475,
          3.6465134620666504,
          0.02905847132205963,
          4.084921360015869,
          -3.786015748977661,
          -7.064688205718994,
          -7.6943559646606445,
          -1.7580692768096924,
          -4.0749030113220215,
          -7.414495468139648,
          -1.1994571685791016,
          5.9189839363098145,
          -1.7274365425109863,
          1.9968688488006592,
          3.959671974182129,
          -5.510246276855469,
          -1.4725538492202759,
          -5.138273239135742,
          -2.701916217803955,
          7.354224681854248,
          7.815097332000732,
          -5.884807109832764,
          -1.6412990093231201,
          5.762519836425781,
          -6.3675055503845215,
          -7.6073784828186035,
          -1.1334433555603027,
          2.4153270721435547,
          -7.542742729187012,
          -5.374767780303955,
          -1.0399645566940308,
          -4.147197246551514,
          7.492228031158447,
          -4.864186763763428,
          -5.943089962005615,
          2.8257558345794678,
          5.977455139160156,
          -6.871145248413086,
          2.1068646907806396,
          -7.492547512054443,
          -8.53817367553711,
          4.80923318862915,
          0.570813000202179,
          5.201819896697998,
          -6.392522811889648,
          -2.558971881866455,
          3.995255708694458,
          1.8566241264343262,
          -7.180805206298828,
          4.134556293487549,
          -5.90739107131958,
          -5.178063869476318,
          6.1375732421875,
          -6.187807083129883,
          -0.5251787304878235,
          6.2183685302734375,
          -1.0322531461715698,
          1.2804832458496094,
          0.7860318422317505,
          1.194481611251831,
          -4.909144401550293,
          0.8033400177955627,
          7.424259662628174,
          6.859658718109131,
          -1.9182069301605225,
          4.293705463409424,
          2.7768402099609375,
          -7.349560737609863,
          -1.1514027118682861,
          -0.6330391764640808,
          2.3590805530548096,
          0.2033744603395462,
          -6.281951904296875,
          2.931328773498535,
          -5.020729064941406,
          -3.8452322483062744,
          1.1792584657669067,
          -0.6102825999259949,
          -5.331516742706299,
          5.2892937660217285,
          -1.0261155366897583,
          0.8180885910987854,
          1.8951712846755981,
          -2.4857823848724365,
          -4.2228240966796875,
          -6.555646896362305,
          3.114778518676758,
          -3.8696396350860596,
          5.6956939697265625,
          -2.7766411304473877,
          3.7466437816619873,
          -0.2104109674692154,
          5.592888832092285,
          -3.383821487426758,
          5.844110012054443,
          -5.023916721343994,
          2.165250062942505,
          4.877321720123291,
          -3.911374807357788,
          4.5282793045043945,
          0.07118573039770126,
          1.4571139812469482,
          3.356733798980713,
          -7.726361274719238,
          -1.6787840127944946,
          3.580657720565796,
          1.1521263122558594,
          -0.0980544239282608,
          -2.5523881912231445,
          1.8060908317565918,
          -4.39640474319458,
          0.980335533618927,
          -5.336933135986328,
          -2.346078872680664,
          -0.6204060316085815,
          -3.6133575439453125,
          3.618497848510742,
          -4.744688510894775,
          1.7635061740875244,
          -4.808633804321289,
          3.358396530151367,
          -5.246028900146484,
          -4.364535808563232,
          -4.569981575012207,
          -3.1768743991851807,
          2.8575150966644287,
          3.125537872314453,
          -0.6282241940498352,
          -0.028064530342817307,
          0.3501690924167633,
          -2.940904140472412,
          3.0124683380126953,
          -1.3211795091629028,
          -0.018965555354952812,
          2.670945644378662,
          0.2948424518108368,
          1.7774388790130615,
          -3.4357705116271973,
          -0.4091944992542267,
          1.6135064363479614,
          1.0053668022155762,
          -3.763120174407959,
          -1.6699254512786865,
          -3.5613982677459717,
          1.6279627084732056,
          2.35724139213562,
          -0.2589149475097656,
          -3.2919676303863525,
          1.5551499128341675,
          0.7699686884880066,
          2.4781622886657715,
          0.008738452568650246,
          -0.2809029519557953,
          3.0193324089050293,
          3.0031185150146484,
          2.460344076156616,
          0.6766107082366943,
          3.0897724628448486,
          -3.392868995666504,
          2.423816680908203,
          -5.262017726898193,
          -3.9303505420684814,
          0.6120041608810425,
          -3.518207311630249,
          -1.299830436706543,
          2.354935646057129,
          -5.853048801422119,
          2.6082522869110107,
          -2.9446887969970703,
          2.5262458324432373,
          0.23122906684875488,
          4.535771369934082,
          -0.07133134454488754,
          2.594003438949585,
          3.9139535427093506,
          -3.155991792678833,
          2.8008840084075928,
          -0.6326307654380798,
          2.8288462162017822,
          0.8160675168037415,
          -3.545168399810791,
          2.7897582054138184
         ],
         "yaxis": "y"
        }
       ],
       "layout": {
        "height": 1000,
        "legend": {
         "tracegroupgap": 0
        },
        "template": {
         "data": {
          "bar": [
           {
            "error_x": {
             "color": "#2a3f5f"
            },
            "error_y": {
             "color": "#2a3f5f"
            },
            "marker": {
             "line": {
              "color": "#E5ECF6",
              "width": 0.5
             },
             "pattern": {
              "fillmode": "overlay",
              "size": 10,
              "solidity": 0.2
             }
            },
            "type": "bar"
           }
          ],
          "barpolar": [
           {
            "marker": {
             "line": {
              "color": "#E5ECF6",
              "width": 0.5
             },
             "pattern": {
              "fillmode": "overlay",
              "size": 10,
              "solidity": 0.2
             }
            },
            "type": "barpolar"
           }
          ],
          "carpet": [
           {
            "aaxis": {
             "endlinecolor": "#2a3f5f",
             "gridcolor": "white",
             "linecolor": "white",
             "minorgridcolor": "white",
             "startlinecolor": "#2a3f5f"
            },
            "baxis": {
             "endlinecolor": "#2a3f5f",
             "gridcolor": "white",
             "linecolor": "white",
             "minorgridcolor": "white",
             "startlinecolor": "#2a3f5f"
            },
            "type": "carpet"
           }
          ],
          "choropleth": [
           {
            "colorbar": {
             "outlinewidth": 0,
             "ticks": ""
            },
            "type": "choropleth"
           }
          ],
          "contour": [
           {
            "colorbar": {
             "outlinewidth": 0,
             "ticks": ""
            },
            "colorscale": [
             [
              0,
              "#0d0887"
             ],
             [
              0.1111111111111111,
              "#46039f"
             ],
             [
              0.2222222222222222,
              "#7201a8"
             ],
             [
              0.3333333333333333,
              "#9c179e"
             ],
             [
              0.4444444444444444,
              "#bd3786"
             ],
             [
              0.5555555555555556,
              "#d8576b"
             ],
             [
              0.6666666666666666,
              "#ed7953"
             ],
             [
              0.7777777777777778,
              "#fb9f3a"
             ],
             [
              0.8888888888888888,
              "#fdca26"
             ],
             [
              1,
              "#f0f921"
             ]
            ],
            "type": "contour"
           }
          ],
          "contourcarpet": [
           {
            "colorbar": {
             "outlinewidth": 0,
             "ticks": ""
            },
            "type": "contourcarpet"
           }
          ],
          "heatmap": [
           {
            "colorbar": {
             "outlinewidth": 0,
             "ticks": ""
            },
            "colorscale": [
             [
              0,
              "#0d0887"
             ],
             [
              0.1111111111111111,
              "#46039f"
             ],
             [
              0.2222222222222222,
              "#7201a8"
             ],
             [
              0.3333333333333333,
              "#9c179e"
             ],
             [
              0.4444444444444444,
              "#bd3786"
             ],
             [
              0.5555555555555556,
              "#d8576b"
             ],
             [
              0.6666666666666666,
              "#ed7953"
             ],
             [
              0.7777777777777778,
              "#fb9f3a"
             ],
             [
              0.8888888888888888,
              "#fdca26"
             ],
             [
              1,
              "#f0f921"
             ]
            ],
            "type": "heatmap"
           }
          ],
          "heatmapgl": [
           {
            "colorbar": {
             "outlinewidth": 0,
             "ticks": ""
            },
            "colorscale": [
             [
              0,
              "#0d0887"
             ],
             [
              0.1111111111111111,
              "#46039f"
             ],
             [
              0.2222222222222222,
              "#7201a8"
             ],
             [
              0.3333333333333333,
              "#9c179e"
             ],
             [
              0.4444444444444444,
              "#bd3786"
             ],
             [
              0.5555555555555556,
              "#d8576b"
             ],
             [
              0.6666666666666666,
              "#ed7953"
             ],
             [
              0.7777777777777778,
              "#fb9f3a"
             ],
             [
              0.8888888888888888,
              "#fdca26"
             ],
             [
              1,
              "#f0f921"
             ]
            ],
            "type": "heatmapgl"
           }
          ],
          "histogram": [
           {
            "marker": {
             "pattern": {
              "fillmode": "overlay",
              "size": 10,
              "solidity": 0.2
             }
            },
            "type": "histogram"
           }
          ],
          "histogram2d": [
           {
            "colorbar": {
             "outlinewidth": 0,
             "ticks": ""
            },
            "colorscale": [
             [
              0,
              "#0d0887"
             ],
             [
              0.1111111111111111,
              "#46039f"
             ],
             [
              0.2222222222222222,
              "#7201a8"
             ],
             [
              0.3333333333333333,
              "#9c179e"
             ],
             [
              0.4444444444444444,
              "#bd3786"
             ],
             [
              0.5555555555555556,
              "#d8576b"
             ],
             [
              0.6666666666666666,
              "#ed7953"
             ],
             [
              0.7777777777777778,
              "#fb9f3a"
             ],
             [
              0.8888888888888888,
              "#fdca26"
             ],
             [
              1,
              "#f0f921"
             ]
            ],
            "type": "histogram2d"
           }
          ],
          "histogram2dcontour": [
           {
            "colorbar": {
             "outlinewidth": 0,
             "ticks": ""
            },
            "colorscale": [
             [
              0,
              "#0d0887"
             ],
             [
              0.1111111111111111,
              "#46039f"
             ],
             [
              0.2222222222222222,
              "#7201a8"
             ],
             [
              0.3333333333333333,
              "#9c179e"
             ],
             [
              0.4444444444444444,
              "#bd3786"
             ],
             [
              0.5555555555555556,
              "#d8576b"
             ],
             [
              0.6666666666666666,
              "#ed7953"
             ],
             [
              0.7777777777777778,
              "#fb9f3a"
             ],
             [
              0.8888888888888888,
              "#fdca26"
             ],
             [
              1,
              "#f0f921"
             ]
            ],
            "type": "histogram2dcontour"
           }
          ],
          "mesh3d": [
           {
            "colorbar": {
             "outlinewidth": 0,
             "ticks": ""
            },
            "type": "mesh3d"
           }
          ],
          "parcoords": [
           {
            "line": {
             "colorbar": {
              "outlinewidth": 0,
              "ticks": ""
             }
            },
            "type": "parcoords"
           }
          ],
          "pie": [
           {
            "automargin": true,
            "type": "pie"
           }
          ],
          "scatter": [
           {
            "marker": {
             "colorbar": {
              "outlinewidth": 0,
              "ticks": ""
             }
            },
            "type": "scatter"
           }
          ],
          "scatter3d": [
           {
            "line": {
             "colorbar": {
              "outlinewidth": 0,
              "ticks": ""
             }
            },
            "marker": {
             "colorbar": {
              "outlinewidth": 0,
              "ticks": ""
             }
            },
            "type": "scatter3d"
           }
          ],
          "scattercarpet": [
           {
            "marker": {
             "colorbar": {
              "outlinewidth": 0,
              "ticks": ""
             }
            },
            "type": "scattercarpet"
           }
          ],
          "scattergeo": [
           {
            "marker": {
             "colorbar": {
              "outlinewidth": 0,
              "ticks": ""
             }
            },
            "type": "scattergeo"
           }
          ],
          "scattergl": [
           {
            "marker": {
             "colorbar": {
              "outlinewidth": 0,
              "ticks": ""
             }
            },
            "type": "scattergl"
           }
          ],
          "scattermapbox": [
           {
            "marker": {
             "colorbar": {
              "outlinewidth": 0,
              "ticks": ""
             }
            },
            "type": "scattermapbox"
           }
          ],
          "scatterpolar": [
           {
            "marker": {
             "colorbar": {
              "outlinewidth": 0,
              "ticks": ""
             }
            },
            "type": "scatterpolar"
           }
          ],
          "scatterpolargl": [
           {
            "marker": {
             "colorbar": {
              "outlinewidth": 0,
              "ticks": ""
             }
            },
            "type": "scatterpolargl"
           }
          ],
          "scatterternary": [
           {
            "marker": {
             "colorbar": {
              "outlinewidth": 0,
              "ticks": ""
             }
            },
            "type": "scatterternary"
           }
          ],
          "surface": [
           {
            "colorbar": {
             "outlinewidth": 0,
             "ticks": ""
            },
            "colorscale": [
             [
              0,
              "#0d0887"
             ],
             [
              0.1111111111111111,
              "#46039f"
             ],
             [
              0.2222222222222222,
              "#7201a8"
             ],
             [
              0.3333333333333333,
              "#9c179e"
             ],
             [
              0.4444444444444444,
              "#bd3786"
             ],
             [
              0.5555555555555556,
              "#d8576b"
             ],
             [
              0.6666666666666666,
              "#ed7953"
             ],
             [
              0.7777777777777778,
              "#fb9f3a"
             ],
             [
              0.8888888888888888,
              "#fdca26"
             ],
             [
              1,
              "#f0f921"
             ]
            ],
            "type": "surface"
           }
          ],
          "table": [
           {
            "cells": {
             "fill": {
              "color": "#EBF0F8"
             },
             "line": {
              "color": "white"
             }
            },
            "header": {
             "fill": {
              "color": "#C8D4E3"
             },
             "line": {
              "color": "white"
             }
            },
            "type": "table"
           }
          ]
         },
         "layout": {
          "annotationdefaults": {
           "arrowcolor": "#2a3f5f",
           "arrowhead": 0,
           "arrowwidth": 1
          },
          "autotypenumbers": "strict",
          "coloraxis": {
           "colorbar": {
            "outlinewidth": 0,
            "ticks": ""
           }
          },
          "colorscale": {
           "diverging": [
            [
             0,
             "#8e0152"
            ],
            [
             0.1,
             "#c51b7d"
            ],
            [
             0.2,
             "#de77ae"
            ],
            [
             0.3,
             "#f1b6da"
            ],
            [
             0.4,
             "#fde0ef"
            ],
            [
             0.5,
             "#f7f7f7"
            ],
            [
             0.6,
             "#e6f5d0"
            ],
            [
             0.7,
             "#b8e186"
            ],
            [
             0.8,
             "#7fbc41"
            ],
            [
             0.9,
             "#4d9221"
            ],
            [
             1,
             "#276419"
            ]
           ],
           "sequential": [
            [
             0,
             "#0d0887"
            ],
            [
             0.1111111111111111,
             "#46039f"
            ],
            [
             0.2222222222222222,
             "#7201a8"
            ],
            [
             0.3333333333333333,
             "#9c179e"
            ],
            [
             0.4444444444444444,
             "#bd3786"
            ],
            [
             0.5555555555555556,
             "#d8576b"
            ],
            [
             0.6666666666666666,
             "#ed7953"
            ],
            [
             0.7777777777777778,
             "#fb9f3a"
            ],
            [
             0.8888888888888888,
             "#fdca26"
            ],
            [
             1,
             "#f0f921"
            ]
           ],
           "sequentialminus": [
            [
             0,
             "#0d0887"
            ],
            [
             0.1111111111111111,
             "#46039f"
            ],
            [
             0.2222222222222222,
             "#7201a8"
            ],
            [
             0.3333333333333333,
             "#9c179e"
            ],
            [
             0.4444444444444444,
             "#bd3786"
            ],
            [
             0.5555555555555556,
             "#d8576b"
            ],
            [
             0.6666666666666666,
             "#ed7953"
            ],
            [
             0.7777777777777778,
             "#fb9f3a"
            ],
            [
             0.8888888888888888,
             "#fdca26"
            ],
            [
             1,
             "#f0f921"
            ]
           ]
          },
          "colorway": [
           "#636efa",
           "#EF553B",
           "#00cc96",
           "#ab63fa",
           "#FFA15A",
           "#19d3f3",
           "#FF6692",
           "#B6E880",
           "#FF97FF",
           "#FECB52"
          ],
          "font": {
           "color": "#2a3f5f"
          },
          "geo": {
           "bgcolor": "white",
           "lakecolor": "white",
           "landcolor": "#E5ECF6",
           "showlakes": true,
           "showland": true,
           "subunitcolor": "white"
          },
          "hoverlabel": {
           "align": "left"
          },
          "hovermode": "closest",
          "mapbox": {
           "style": "light"
          },
          "paper_bgcolor": "white",
          "plot_bgcolor": "#E5ECF6",
          "polar": {
           "angularaxis": {
            "gridcolor": "white",
            "linecolor": "white",
            "ticks": ""
           },
           "bgcolor": "#E5ECF6",
           "radialaxis": {
            "gridcolor": "white",
            "linecolor": "white",
            "ticks": ""
           }
          },
          "scene": {
           "xaxis": {
            "backgroundcolor": "#E5ECF6",
            "gridcolor": "white",
            "gridwidth": 2,
            "linecolor": "white",
            "showbackground": true,
            "ticks": "",
            "zerolinecolor": "white"
           },
           "yaxis": {
            "backgroundcolor": "#E5ECF6",
            "gridcolor": "white",
            "gridwidth": 2,
            "linecolor": "white",
            "showbackground": true,
            "ticks": "",
            "zerolinecolor": "white"
           },
           "zaxis": {
            "backgroundcolor": "#E5ECF6",
            "gridcolor": "white",
            "gridwidth": 2,
            "linecolor": "white",
            "showbackground": true,
            "ticks": "",
            "zerolinecolor": "white"
           }
          },
          "shapedefaults": {
           "line": {
            "color": "#2a3f5f"
           }
          },
          "ternary": {
           "aaxis": {
            "gridcolor": "white",
            "linecolor": "white",
            "ticks": ""
           },
           "baxis": {
            "gridcolor": "white",
            "linecolor": "white",
            "ticks": ""
           },
           "bgcolor": "#E5ECF6",
           "caxis": {
            "gridcolor": "white",
            "linecolor": "white",
            "ticks": ""
           }
          },
          "title": {
           "x": 0.05
          },
          "xaxis": {
           "automargin": true,
           "gridcolor": "white",
           "linecolor": "white",
           "ticks": "",
           "title": {
            "standoff": 15
           },
           "zerolinecolor": "white",
           "zerolinewidth": 2
          },
          "yaxis": {
           "automargin": true,
           "gridcolor": "white",
           "linecolor": "white",
           "ticks": "",
           "title": {
            "standoff": 15
           },
           "zerolinecolor": "white",
           "zerolinewidth": 2
          }
         }
        },
        "title": {
         "text": "Jane Austen Word Plot"
        },
        "xaxis": {
         "anchor": "y",
         "domain": [
          0,
          1
         ],
         "title": {
          "text": "x"
         }
        },
        "yaxis": {
         "anchor": "x",
         "domain": [
          0,
          1
         ],
         "title": {
          "text": "y"
         }
        }
       }
      }
     },
     "metadata": {}
    }
   ],
   "metadata": {}
  },
  {
   "cell_type": "code",
   "execution_count": 18,
   "source": [
    "def complete_analogy_1(A, B, C, n=2):\n",
    "    try:\n",
    "        return m1.wv.most_similar(positive=[B, C], negative=[A])[0:n]\n",
    "    except KeyError as e:\n",
    "        print('Error:', e)\n",
    "        return None"
   ],
   "outputs": [],
   "metadata": {}
  },
  {
   "cell_type": "code",
   "execution_count": 19,
   "source": [
    "complete_analogy_1('mother', 'herself', 'father')"
   ],
   "outputs": [
    {
     "output_type": "execute_result",
     "data": {
      "text/plain": [
       "[('even', 0.8950825929641724), ('though', 0.8659785985946655)]"
      ]
     },
     "metadata": {},
     "execution_count": 19
    }
   ],
   "metadata": {}
  },
  {
   "cell_type": "code",
   "execution_count": 20,
   "source": [
    "complete_analogy_1('sister', 'me', 'brother')"
   ],
   "outputs": [
    {
     "output_type": "execute_result",
     "data": {
      "text/plain": [
       "[('us', 0.8789187669754028), ('you', 0.8471131324768066)]"
      ]
     },
     "metadata": {},
     "execution_count": 20
    }
   ],
   "metadata": {}
  },
  {
   "cell_type": "code",
   "execution_count": 21,
   "source": [
    "complete_analogy_1('you', 'thought', 'me')"
   ],
   "outputs": [
    {
     "output_type": "execute_result",
     "data": {
      "text/plain": [
       "[('felt', 0.7536299228668213), ('speak', 0.7002220749855042)]"
      ]
     },
     "metadata": {},
     "execution_count": 21
    }
   ],
   "metadata": {}
  },
  {
   "cell_type": "code",
   "execution_count": null,
   "source": [],
   "outputs": [],
   "metadata": {}
  }
 ],
 "metadata": {
  "kernelspec": {
   "name": "python3",
   "display_name": "Python 3.8.3 64-bit ('base': conda)"
  },
  "language_info": {
   "codemirror_mode": {
    "name": "ipython",
    "version": 3
   },
   "file_extension": ".py",
   "mimetype": "text/x-python",
   "name": "python",
   "nbconvert_exporter": "python",
   "pygments_lexer": "ipython3",
   "version": "3.8.3"
  },
  "interpreter": {
   "hash": "ecb1fcb44d673ee39ba24e2c766b4cd2fcd016037100a149ee6e29fe396f875b"
  }
 },
 "nbformat": 4,
 "nbformat_minor": 4
}