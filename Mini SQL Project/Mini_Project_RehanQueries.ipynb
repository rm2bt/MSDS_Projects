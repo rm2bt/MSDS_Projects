{
 "cells": [
  {
   "cell_type": "code",
   "execution_count": 36,
   "metadata": {
    "executionInfo": {
     "elapsed": 682,
     "status": "ok",
     "timestamp": 1618773875891,
     "user": {
      "displayName": "Drake Wagner",
      "photoUrl": "",
      "userId": "17032754444666060865"
     },
     "user_tz": 240
    },
    "id": "UrLZCl4f77OW"
   },
   "outputs": [],
   "source": [
    "import sqlite3\n",
    "import pandas as pd\n",
    "%matplotlib inline\n",
    "import matplotlib.pyplot as plt"
   ]
  },
  {
   "cell_type": "markdown",
   "metadata": {
    "id": "20JRLgI177Oe"
   },
   "source": [
    "## Creating the Database Structure\n",
    "\n",
    "### Tables:\n",
    "**team**(<u>teamID</u>, name, city)\n",
    "\n",
    "**player**(<u>name, team, number</u>, position)\n",
    "\n",
    "**coach**(<u>team</u>, name, nationality)\n",
    "\n",
    "**stadium**(<u>home_team</u>, name, city, surface_type, capacity)\n",
    "\n",
    "**match**(<u>date, home_team, away_team</u>, stadium, home_team_score, away_team_score)"
   ]
  },
  {
   "cell_type": "code",
   "execution_count": 2,
   "metadata": {
    "executionInfo": {
     "elapsed": 1104,
     "status": "ok",
     "timestamp": 1618773876316,
     "user": {
      "displayName": "Drake Wagner",
      "photoUrl": "",
      "userId": "17032754444666060865"
     },
     "user_tz": 240
    },
    "id": "8pwO4ihB77Of"
   },
   "outputs": [],
   "source": [
    "conn = sqlite3.connect('soccer.db')\n",
    "cursor = conn.cursor()"
   ]
  },
  {
   "cell_type": "code",
   "execution_count": 3,
   "metadata": {
    "colab": {
     "base_uri": "https://localhost:8080/"
    },
    "executionInfo": {
     "elapsed": 1091,
     "status": "ok",
     "timestamp": 1618773876316,
     "user": {
      "displayName": "Drake Wagner",
      "photoUrl": "",
      "userId": "17032754444666060865"
     },
     "user_tz": 240
    },
    "id": "PPSWCnI877Og",
    "outputId": "38e72166-db04-4d23-d494-d63eabc08035"
   },
   "outputs": [
    {
     "ename": "OperationalError",
     "evalue": "table team already exists",
     "output_type": "error",
     "traceback": [
      "\u001b[0;31m---------------------------------------------------------------------------\u001b[0m",
      "\u001b[0;31mOperationalError\u001b[0m                          Traceback (most recent call last)",
      "\u001b[0;32m<ipython-input-3-551a787d412a>\u001b[0m in \u001b[0;36m<module>\u001b[0;34m\u001b[0m\n\u001b[1;32m      1\u001b[0m \u001b[0;31m# create team table\u001b[0m\u001b[0;34m\u001b[0m\u001b[0;34m\u001b[0m\u001b[0;34m\u001b[0m\u001b[0m\n\u001b[0;32m----> 2\u001b[0;31m cursor.execute('''create table team(\n\u001b[0m\u001b[1;32m      3\u001b[0m                 \u001b[0mteamID\u001b[0m \u001b[0mtext\u001b[0m\u001b[0;34m,\u001b[0m\u001b[0;34m\u001b[0m\u001b[0;34m\u001b[0m\u001b[0m\n\u001b[1;32m      4\u001b[0m                 \u001b[0mname\u001b[0m \u001b[0mtext\u001b[0m\u001b[0;34m,\u001b[0m\u001b[0;34m\u001b[0m\u001b[0;34m\u001b[0m\u001b[0m\n\u001b[1;32m      5\u001b[0m                 \u001b[0mcity\u001b[0m \u001b[0mtext\u001b[0m\u001b[0;34m,\u001b[0m\u001b[0;34m\u001b[0m\u001b[0;34m\u001b[0m\u001b[0m\n",
      "\u001b[0;31mOperationalError\u001b[0m: table team already exists"
     ]
    }
   ],
   "source": [
    "# create team table\n",
    "cursor.execute('''create table team(\n",
    "                teamID text,\n",
    "                name text,\n",
    "                city text,\n",
    "                primary key (teamID))''')"
   ]
  },
  {
   "cell_type": "code",
   "execution_count": 12,
   "metadata": {
    "colab": {
     "base_uri": "https://localhost:8080/"
    },
    "executionInfo": {
     "elapsed": 1086,
     "status": "ok",
     "timestamp": 1618773876318,
     "user": {
      "displayName": "Drake Wagner",
      "photoUrl": "",
      "userId": "17032754444666060865"
     },
     "user_tz": 240
    },
    "id": "ZskNyE-a77Oh",
    "outputId": "e819e8c6-bdaf-4445-ec1d-c0b07db2a305"
   },
   "outputs": [
    {
     "data": {
      "text/plain": [
       "<sqlite3.Cursor at 0x7f06bb93b730>"
      ]
     },
     "execution_count": 12,
     "metadata": {
      "tags": []
     },
     "output_type": "execute_result"
    }
   ],
   "source": [
    "# create player table\n",
    "cursor.execute('''create table player(\n",
    "                name text,\n",
    "                team text,\n",
    "                number int,\n",
    "                position text,\n",
    "                primary key (name, team, number),\n",
    "                foreign key (team) references team(teamID))''')"
   ]
  },
  {
   "cell_type": "code",
   "execution_count": 13,
   "metadata": {
    "colab": {
     "base_uri": "https://localhost:8080/"
    },
    "executionInfo": {
     "elapsed": 1081,
     "status": "ok",
     "timestamp": 1618773876319,
     "user": {
      "displayName": "Drake Wagner",
      "photoUrl": "",
      "userId": "17032754444666060865"
     },
     "user_tz": 240
    },
    "id": "oLNLaK1G77Oh",
    "outputId": "8b80f0db-22c6-4ac6-8dd4-6ae862fa1db9"
   },
   "outputs": [
    {
     "data": {
      "text/plain": [
       "<sqlite3.Cursor at 0x7f06bb93b730>"
      ]
     },
     "execution_count": 13,
     "metadata": {
      "tags": []
     },
     "output_type": "execute_result"
    }
   ],
   "source": [
    "# create coach table\n",
    "cursor.execute('''create table coach(\n",
    "                name text,\n",
    "                team text,\n",
    "                nationality text,\n",
    "                primary key (team),\n",
    "                foreign key (team) references team(teamID))''')"
   ]
  },
  {
   "cell_type": "code",
   "execution_count": 14,
   "metadata": {
    "colab": {
     "base_uri": "https://localhost:8080/"
    },
    "executionInfo": {
     "elapsed": 1076,
     "status": "ok",
     "timestamp": 1618773876320,
     "user": {
      "displayName": "Drake Wagner",
      "photoUrl": "",
      "userId": "17032754444666060865"
     },
     "user_tz": 240
    },
    "id": "pfA8JILc77Oi",
    "outputId": "a74d7b02-1cca-48fb-bd14-682e99a86c7f"
   },
   "outputs": [
    {
     "data": {
      "text/plain": [
       "<sqlite3.Cursor at 0x7f06bb93b730>"
      ]
     },
     "execution_count": 14,
     "metadata": {
      "tags": []
     },
     "output_type": "execute_result"
    }
   ],
   "source": [
    "# create stadium table\n",
    "cursor.execute('''create table stadium(\n",
    "                name text,\n",
    "                city text,\n",
    "                home_team text,\n",
    "                surface_type text,\n",
    "                capacity int,\n",
    "                primary key (home_team),\n",
    "                foreign key (home_team) references team(teamID))''')"
   ]
  },
  {
   "cell_type": "code",
   "execution_count": 15,
   "metadata": {
    "colab": {
     "base_uri": "https://localhost:8080/"
    },
    "executionInfo": {
     "elapsed": 1069,
     "status": "ok",
     "timestamp": 1618773876320,
     "user": {
      "displayName": "Drake Wagner",
      "photoUrl": "",
      "userId": "17032754444666060865"
     },
     "user_tz": 240
    },
    "id": "ltjMlwIN77Oj",
    "outputId": "bd1fdf33-9d05-49f5-a66d-c4e719b4dcef"
   },
   "outputs": [
    {
     "data": {
      "text/plain": [
       "<sqlite3.Cursor at 0x7f06bb93b730>"
      ]
     },
     "execution_count": 15,
     "metadata": {
      "tags": []
     },
     "output_type": "execute_result"
    }
   ],
   "source": [
    "# create match table\n",
    "cursor.execute('''create table match(\n",
    "                home_team text,\n",
    "                away_team text,\n",
    "                date date,\n",
    "                home_team_score int,\n",
    "                away_team_score int,\n",
    "                attendance int,\n",
    "                primary key (date, home_team, away_team),\n",
    "                foreign key (home_team) references stadium(home_team),\n",
    "                foreign key (away_team) references team(teamID))''')"
   ]
  },
  {
   "cell_type": "code",
   "execution_count": 16,
   "metadata": {
    "colab": {
     "base_uri": "https://localhost:8080/"
    },
    "executionInfo": {
     "elapsed": 1343,
     "status": "ok",
     "timestamp": 1618773876602,
     "user": {
      "displayName": "Drake Wagner",
      "photoUrl": "",
      "userId": "17032754444666060865"
     },
     "user_tz": 240
    },
    "id": "6ucEa3sh77Oj",
    "outputId": "189d0114-2c62-4618-faa3-806ee1ffbe1b"
   },
   "outputs": [
    {
     "data": {
      "text/plain": [
       "<sqlite3.Cursor at 0x7f06bb93b730>"
      ]
     },
     "execution_count": 16,
     "metadata": {
      "tags": []
     },
     "output_type": "execute_result"
    }
   ],
   "source": [
    "# create commits_foul relation table\n",
    "cursor.execute('''create table commits_foul(\n",
    "                player text,\n",
    "                number int,\n",
    "                team text,\n",
    "                match_date date,\n",
    "                home_team text,\n",
    "                away_team text,\n",
    "                time int,\n",
    "                card text,\n",
    "                primary key (time, match_date, home_team, away_team),\n",
    "                foreign key (player, number, team) references player(name, number, team),\n",
    "                foreign key (match_date, home_team, away_team) references match(date, home_team, away_team))''')"
   ]
  },
  {
   "cell_type": "code",
   "execution_count": 17,
   "metadata": {
    "colab": {
     "base_uri": "https://localhost:8080/"
    },
    "executionInfo": {
     "elapsed": 1337,
     "status": "ok",
     "timestamp": 1618773876603,
     "user": {
      "displayName": "Drake Wagner",
      "photoUrl": "",
      "userId": "17032754444666060865"
     },
     "user_tz": 240
    },
    "id": "ZJpta0yV77Ok",
    "outputId": "c367957d-a801-4afc-f780-fbc993a9b130"
   },
   "outputs": [
    {
     "data": {
      "text/plain": [
       "<sqlite3.Cursor at 0x7f06bb93b730>"
      ]
     },
     "execution_count": 17,
     "metadata": {
      "tags": []
     },
     "output_type": "execute_result"
    }
   ],
   "source": [
    "# create scores_goal relation table\n",
    "cursor.execute('''create table scores_goal(\n",
    "                player text,\n",
    "                number int,\n",
    "                team text,\n",
    "                match_date date,\n",
    "                home_team text,\n",
    "                away_team text,\n",
    "                time int,\n",
    "                primary key (time, match_date, home_team, away_team),\n",
    "                foreign key (player, number, team) references player(name, number, team),\n",
    "                foreign key (match_date, home_team, away_team) references match(date, home_team, away_team))''')"
   ]
  },
  {
   "cell_type": "markdown",
   "metadata": {
    "id": "nnPx9bNz77Ok"
   },
   "source": [
    "## Input data into database\n",
    "### Web scraping"
   ]
  },
  {
   "cell_type": "code",
   "execution_count": 18,
   "metadata": {
    "executionInfo": {
     "elapsed": 5586,
     "status": "ok",
     "timestamp": 1618773880853,
     "user": {
      "displayName": "Drake Wagner",
      "photoUrl": "",
      "userId": "17032754444666060865"
     },
     "user_tz": 240
    },
    "id": "whyag_jT77Ol"
   },
   "outputs": [],
   "source": [
    "# scrape list of teams from MLS website, with links to rosters and team info\n",
    "\n",
    "import requests\n",
    "from bs4 import BeautifulSoup\n",
    "import pandas as pd\n",
    "\n",
    "clublist_url = \"https://www.mlssoccer.com/clubs/\"\n",
    "clublist = requests.get(clublist_url)\n",
    "clublist_soup = BeautifulSoup(clublist.content, 'html5lib')"
   ]
  },
  {
   "cell_type": "code",
   "execution_count": null,
   "metadata": {
    "id": "pRxK23jR77Ol"
   },
   "outputs": [],
   "source": [
    "# collect data for players in a dataframe\n",
    "\n",
    "playerdata = pd.DataFrame(columns = [\"Name\", \"Team\", \"Number\", \"Position\"])\n",
    "club_names = []\n",
    "club_ids = []\n",
    "import json\n",
    "\n",
    "for element in clublist_soup.find_all('div', {'class': 'mls-o-clubs-hub-clubs-list__club-name'}):\n",
    "    club_names.append(element.contents[1].contents[0])\n",
    "\n",
    "for element in clublist_soup.find_all('div', {'class': 'mls-o-clubs-hub-clubs-list__club-links'}):\n",
    "    roster_url = \"https://www.mlssoccer.com\" + element.contents[1].attrs['href'] + \"roster/\"\n",
    "    roster = requests.get(roster_url)\n",
    "    roster_soup = BeautifulSoup(roster.content, 'html5lib')\n",
    "    \n",
    "    for element in roster_soup.find_all('section', {'class': \"mls-l-module mls-l-module--active-roster\"}):\n",
    "        club_info = json.loads(element[\"data-options\"])\n",
    "        for player in club_info[\"playersData\"]:\n",
    "            name = player[\"fullName\"]\n",
    "            team = club_info[\"clubAbbreviation\"]\n",
    "            number = player[\"jerseyNumber\"]\n",
    "            position = player[\"position\"]\n",
    "            playerdata = playerdata.append(pd.DataFrame([[name, team, number, position]], columns = [\"Name\", \"Team\", \"Number\", \"Position\"]))\n",
    "            \n",
    "    club_ids.append(club_info[\"clubAbbreviation\"])\n",
    "        \n",
    "playerdata.reset_index(inplace=True)"
   ]
  },
  {
   "cell_type": "code",
   "execution_count": null,
   "metadata": {
    "id": "Kp7fR8bV77Om"
   },
   "outputs": [],
   "source": [
    "# use dataframe to populate database\n",
    "\n",
    "for i in range(len(playerdata)):\n",
    "    if i == 510: # there is a duplicate value in this row\n",
    "        continue\n",
    "    sql = '''insert into player\n",
    "             (name, team, number, position)\n",
    "             values\n",
    "             (:name, :team, :number, :position)'''\n",
    "    cursor.execute(sql, {'name':playerdata[\"Name\"][i], 'team':playerdata[\"Team\"][i], 'number':playerdata[\"Number\"][i], 'position':playerdata[\"Position\"][i]})\n",
    "    \n",
    "    conn.commit()"
   ]
  },
  {
   "cell_type": "code",
   "execution_count": null,
   "metadata": {
    "id": "fE3469yi77On"
   },
   "outputs": [],
   "source": [
    "# manually create list of home cities (not easily accessible on MLS website)\n",
    "\n",
    "cities = [\"Atlanta\", \"Austin\", \"Chicago\", \"Cincinnati\", \"Denver\", \"Columbus\", \"Washington\", \"Dallas\", \"Houston\", \"Kansas City\", \"Los Angeles\", \"Los Angeles\", \"Miami\", \"Saint Paul\", \"Montreal\", \"Nashville\", \"Boston\", \"New York\", \"New York\", \"Orlando\", \"Philadelphia\", \"Portland\", \"Salt Lake City\", \"San Jose\", \"Seattle\", \"Toronto\", \"Vancouver\"]"
   ]
  },
  {
   "cell_type": "code",
   "execution_count": null,
   "metadata": {
    "id": "7JBbizVu77On"
   },
   "outputs": [],
   "source": [
    "# create dataframe of team data using data collected during last step\n",
    "\n",
    "teamdata = pd.DataFrame()\n",
    "teamdata[\"TeamID\"] = club_ids\n",
    "teamdata[\"Name\"] = club_names\n",
    "teamdata[\"City\"] = cities"
   ]
  },
  {
   "cell_type": "code",
   "execution_count": null,
   "metadata": {
    "id": "xwygnPC577On"
   },
   "outputs": [],
   "source": [
    "# use dataframe to populate database\n",
    "\n",
    "for i in range(len(teamdata)):\n",
    "    sql = '''insert into team\n",
    "             (teamID, name, city)\n",
    "             values\n",
    "             (:teamID, :name, :city)'''\n",
    "    cursor.execute(sql, {'teamID':teamdata[\"TeamID\"][i], 'name':teamdata[\"Name\"][i], 'city':teamdata[\"City\"][i]})\n",
    "    \n",
    "    conn.commit()"
   ]
  },
  {
   "cell_type": "code",
   "execution_count": null,
   "metadata": {
    "id": "lO9YiDe977Oo"
   },
   "outputs": [],
   "source": [
    "# scrape list of stadiums from Wikipedia\n",
    "\n",
    "stadium_url = \"https://en.wikipedia.org/wiki/List_of_Major_League_Soccer_stadiums\"\n",
    "stadium = requests.get(stadium_url)\n",
    "stadium_soup = BeautifulSoup(stadium.content, 'html5lib')"
   ]
  },
  {
   "cell_type": "code",
   "execution_count": null,
   "metadata": {
    "id": "QH-W7QIJ77Oo"
   },
   "outputs": [],
   "source": [
    "# Collect stadium data in a dataframe\n",
    "\n",
    "stadiumdata = pd.DataFrame(columns = [\"name\", \"home_team\", \"city\", \"surface_type\", \"capacity\"])\n",
    "\n",
    "tr_list = stadium_soup.find_all('table')[1].find_all('tr')\n",
    "for i in range(1,len(tr_list)):\n",
    "    name = tr_list[i].contents[3].contents[0].contents[0]\n",
    "    home_team = tr_list[i].contents[5].contents[0].string\n",
    "    city = tr_list[i].contents[7].contents[0].contents[0].split(\",\")[0]\n",
    "    surface_type = tr_list[i].contents[15].contents[0].string\n",
    "    capacity = tr_list[i].contents[11].contents[0]\n",
    "    \n",
    "    stadiumdata = stadiumdata.append(pd.DataFrame([[name, home_team, city, surface_type, capacity]], columns = [\"name\", \"home_team\", \"city\", \"surface_type\", \"capacity\"]))\n",
    "    \n",
    "stadiumdata.reset_index(inplace=True, drop=True)  "
   ]
  },
  {
   "cell_type": "code",
   "execution_count": null,
   "metadata": {
    "id": "y59e32nb77Oo"
   },
   "outputs": [],
   "source": [
    "# Create a dictionary to convert full team name to team ID \n",
    "# (this teamID is abbreviation used as primary key in post tables)\n",
    "\n",
    "teamname_abbrev = {}\n",
    "for i in range(len(teamdata)):\n",
    "    teamname_abbrev[teamdata[\"Name\"][i]] = teamdata[\"TeamID\"][i]\n",
    "# some team name styles differ; add manually\n",
    "teamname_abbrev[\"Minnesota United FC\"] = \"MIN\"\n",
    "teamname_abbrev[\"Los Angeles FC\"] = \"LAFC\"\n",
    "teamname_abbrev[\"Orlando City SC\"] = \"ORL\"\n",
    "teamname_abbrev[\"Atlanta United FC\"] = \"ATL\"\n",
    "teamname_abbrev[\"CF Montréal\"] = \"MTL\"\n",
    "\n",
    "# Use dataframe and dictionary to populate dataframe\n",
    "\n",
    "for i in range(len(stadiumdata)):\n",
    "    sql = '''insert into stadium\n",
    "             (name, home_team, city, surface_type, capacity)\n",
    "             values\n",
    "             (:name, :home_team, :city, :surface_type, :capacity)'''\n",
    "    cursor.execute(sql, {'name':stadiumdata[\"name\"][i], 'home_team':teamname_abbrev[stadiumdata[\"home_team\"][i]], 'city':stadiumdata[\"city\"][i], 'surface_type':stadiumdata[\"surface_type\"][i], 'capacity':stadiumdata[\"capacity\"][i]})\n",
    "    \n",
    "    conn.commit()"
   ]
  },
  {
   "cell_type": "code",
   "execution_count": null,
   "metadata": {
    "id": "JzenF5ZY77Op"
   },
   "outputs": [],
   "source": [
    "# Scrape coach data from Wikipedia\n",
    "\n",
    "coaches_url = \"https://en.wikipedia.org/wiki/List_of_Major_League_Soccer_coaches\"\n",
    "coaches = requests.get(coaches_url)\n",
    "coaches_soup = BeautifulSoup(coaches.content, 'html5lib')"
   ]
  },
  {
   "cell_type": "code",
   "execution_count": null,
   "metadata": {
    "id": "qRTscERA77Op"
   },
   "outputs": [],
   "source": [
    "# Collect coach data in a dataframe\n",
    "\n",
    "coachlist = coaches_soup.find_all('table')[0].find_all('tr')\n",
    "\n",
    "coachdata = pd.DataFrame(columns = [\"name\", \"team\", \"nationality\"])\n",
    "\n",
    "for i in range(1,len(coachlist)):\n",
    "    name = coachlist[i].contents[1].string\n",
    "    nationality = coachlist[i].contents[3].contents[1].string\n",
    "    team = coachlist[i].contents[7].string\n",
    "    \n",
    "    coachdata = coachdata.append(pd.DataFrame([[name, team, nationality]], columns = [\"name\", \"team\", \"nationality\"]))\n",
    "\n",
    "coachdata.reset_index(inplace=True, drop=True)   "
   ]
  },
  {
   "cell_type": "code",
   "execution_count": null,
   "metadata": {
    "id": "_Lu0Td_j77Op"
   },
   "outputs": [],
   "source": [
    "# Use dataframe and dictionary to populate database\n",
    "\n",
    "for i in range(len(coachdata)):\n",
    "    sql = '''insert into coach\n",
    "             (name, team, nationality)\n",
    "             values\n",
    "             (:name, :team, :nationality)'''\n",
    "    cursor.execute(sql, {'name':coachdata[\"name\"][i], 'team':teamname_abbrev[coachdata[\"team\"][i]], 'nationality':coachdata[\"nationality\"][i]})\n",
    "    \n",
    "    conn.commit()"
   ]
  },
  {
   "cell_type": "markdown",
   "metadata": {
    "id": "O2DRnXe777Oq"
   },
   "source": [
    "### Manual Entry\n",
    "\n",
    "We have been unable to find an adequate source from which to scrape data about individual matches, so this data will be input manually using DB Browser."
   ]
  },
  {
   "cell_type": "markdown",
   "metadata": {
    "id": "SF-WSRVd77Oq"
   },
   "source": [
    "## Queries\n",
    "\n",
    "Question ideas:\n",
    "team records\n"
   ]
  },
  {
   "cell_type": "code",
   "execution_count": 4,
   "metadata": {
    "id": "G4ye4TNo77Oq"
   },
   "outputs": [],
   "source": [
    "#cursor.close()"
   ]
  },
  {
   "cell_type": "code",
   "execution_count": 6,
   "metadata": {
    "id": "yd08_HZjZ_jc"
   },
   "outputs": [
    {
     "name": "stdout",
     "output_type": "stream",
     "text": [
      "('N/A', 'Nashville', 'NSH', 'Nissan Stadium', 'Grass', 'Nashville SC')\n",
      "('42,500', 'Atlanta', 'ATL', 'Mercedes-Benz Stadium', 'FieldTurf', 'Atlanta United')\n",
      "('37,722', 'Seattle', 'SEA', 'Lumen Field', 'FieldTurf', 'Seattle Sounders FC')\n"
     ]
    }
   ],
   "source": [
    "conn = sqlite3.connect('soccer.db')\n",
    "cursor = conn.cursor()\n",
    "\n",
    "# Create a SQL statement to print out all the students in the database\n",
    "# This query is a basic SELECT statement operating on the students table\n",
    "sql = \"SELECT * FROM students\"\n",
    "\n",
    "for row in cursor.execute('SELECT stadium.capacity, stadium.city, stadium.home_team, stadium.name, stadium.surface_type, team.name FROM stadium INNER JOIN team ON stadium.home_team = team.teamID ORDER BY stadium.capacity DESC LIMIT 3'):\n",
    "        print(row)\n",
    "    \n",
    "# Use the cursor to close the connection to the database, now that we're done.\n",
    "cursor.close()"
   ]
  },
  {
   "cell_type": "code",
   "execution_count": null,
   "metadata": {
    "id": "xCZ5C9ty77Or"
   },
   "outputs": [],
   "source": [
    "# Attendance\n",
    "SELECT *\n",
    "FROM team, match\n",
    "WHERE date BETWEEN 2020-02-29 AND 2020-02-30\n",
    "ORDER BY attendance DESC\n",
    "\n",
    "# American coachs' players\n",
    "SELECT coach.name AS coach_name, coach.team, player.name AS player_name, player.number\n",
    "FROM coach\n",
    "INNER JOIN player ON player.team = coach.team\n",
    "WHERE coach.nationality = 'United States'\n",
    "\n",
    "# Top 3 largest stadiums\n",
    "SELECT stadium.capacity, stadium.city, stadium.home_team, stadium.name, stadium.surface_type, team.name\n",
    "FROM stadium\n",
    "INNER JOIN team ON stadium.home_team = team.teamID\n",
    "ORDER BY stadium.capacity DESC\n",
    "LIMIT 3\n",
    "\n",
    "# best players' coaches?\n",
    "\n",
    "\n",
    "# best home team scores by turf type?\n",
    "\n",
    "\n",
    "\n",
    "\n",
    "\n"
   ]
  },
  {
   "cell_type": "markdown",
   "metadata": {},
   "source": [
    "Rehan Queries Below"
   ]
  },
  {
   "cell_type": "code",
   "execution_count": null,
   "metadata": {},
   "outputs": [],
   "source": [
    "import sqlite3\n",
    "import pandas as pd\n",
    "import matplotlib.pyplot as plt\n",
    "%matplotlib inline"
   ]
  },
  {
   "cell_type": "code",
   "execution_count": 45,
   "metadata": {},
   "outputs": [
    {
     "name": "stdout",
     "output_type": "stream",
     "text": [
      "                         Name    Position Team           Team Name\n",
      "0                  Leon Flach  Midfielder  PHI  Philadelphia Union\n",
      "1              Stuart Findlay    Defender  PHI  Philadelphia Union\n",
      "2                Jack Elliott    Defender  PHI  Philadelphia Union\n",
      "3              Quinn Sullivan  Midfielder  PHI  Philadelphia Union\n",
      "4              Nathan Harriel    Defender  PHI  Philadelphia Union\n",
      "5             Paxten Aaronson  Midfielder  PHI  Philadelphia Union\n",
      "6               Brandan Craig  Midfielder  PHI  Philadelphia Union\n",
      "7                Jack McGlynn  Midfielder  PHI  Philadelphia Union\n",
      "8               Jakob Glesnes    Defender  PHI  Philadelphia Union\n",
      "9                Matej Oravec  Midfielder  PHI  Philadelphia Union\n",
      "10              José Martínez  Midfielder  PHI  Philadelphia Union\n",
      "11                Cole Turner  Midfielder  PHI  Philadelphia Union\n",
      "12              Jack De Vries  Midfielder  PHI  Philadelphia Union\n",
      "13            Jamiro Monteiro  Midfielder  PHI  Philadelphia Union\n",
      "14                 Kai Wagner    Defender  PHI  Philadelphia Union\n",
      "15             Matthew Freese  Goalkeeper  PHI  Philadelphia Union\n",
      "16           Greg Ranjitsingh  Goalkeeper  PHI  Philadelphia Union\n",
      "17              Sergio Santos     Forward  PHI  Philadelphia Union\n",
      "18           Kacper Przybylko     Forward  PHI  Philadelphia Union\n",
      "19             Olivier Mbaizo    Defender  PHI  Philadelphia Union\n",
      "20                  Matt Real    Defender  PHI  Philadelphia Union\n",
      "21            Anthony Fontana  Midfielder  PHI  Philadelphia Union\n",
      "22                 Cory Burke     Forward  PHI  Philadelphia Union\n",
      "23  Ilson Pereira Dias Júnior  Midfielder  PHI  Philadelphia Union\n",
      "24                 Joe Bendik  Goalkeeper  PHI  Philadelphia Union\n",
      "25                Andre Blake  Goalkeeper  PHI  Philadelphia Union\n",
      "26           Alejandro Bedoya  Midfielder  PHI  Philadelphia Union\n"
     ]
    }
   ],
   "source": [
    "conn = sqlite3.connect('soccer.db')\n",
    "cursor = conn.cursor()\n",
    "\n",
    "#List all the players on the Philadelphia Union Roster\n",
    "Q1 = \"SELECT player.name, player.position,player.team, team.name FROM player INNER JOIN team ON team.teamID = player.team WHERE team = 'PHI'\"\n",
    "resultQ1 = cursor.execute(Q1)\n",
    "all_players_philly = resultQ1.fetchall()\n",
    "\n",
    "philly_team_df = pd.DataFrame(all_players_philly,columns = ['Name','Position','Team','Team Name'])\n",
    "print(philly_team_df)\n",
    "        "
   ]
  },
  {
   "cell_type": "code",
   "execution_count": 40,
   "metadata": {},
   "outputs": [
    {
     "name": "stdout",
     "output_type": "stream",
     "text": [
      "                 Team Name Team  # of goals\n",
      "0           Atlanta United  ATL           2\n",
      "1          Colorado Rapids  COL           2\n",
      "2                FC Dallas  DAL           2\n",
      "3              D.C. United   DC           1\n",
      "4        Houston Dynamo FC  HOU           1\n",
      "5                LA Galaxy   LA           1\n",
      "6              CF Montréal  MTL           2\n",
      "7   New England Revolution   NE           1\n",
      "8             Nashville SC  NSH           1\n",
      "9     San Jose Earthquakes   SJ           2\n",
      "10    Sporting Kansas City  SKC           3\n",
      "11              Toronto FC  TOR           2\n",
      "12  Vancouver Whitecaps FC  VAN           1\n"
     ]
    },
    {
     "data": {
      "text/plain": [
       "<AxesSubplot:title={'center':'Number of Goals Scored by Team'}, xlabel='Team'>"
      ]
     },
     "execution_count": 40,
     "metadata": {},
     "output_type": "execute_result"
    },
    {
     "data": {
      "image/png": "[encoded data removed]",
      "text/plain": [
       "<Figure size 432x288 with 1 Axes>"
      ]
     },
     "metadata": {
      "needs_background": "light"
     },
     "output_type": "display_data"
    }
   ],
   "source": [
    "#Which team has score the most number of goals? How does that compare to the rest of the league?\n",
    "Q2 = \"SELECT team.name, scores_goal.team, count(scores_goal.team)FROM scores_goal INNER JOIN team WHERE scores_goal.team = team.teamID GROUP By team.teamID\"\n",
    "resultQ2 = cursor.execute(Q2)\n",
    "team_goals = resultQ2.fetchall()\n",
    "    \n",
    "team_goals_df = pd.DataFrame(team_goals,columns = ['Team Name','Team','# of goals'])\n",
    "print(team_goals_df)\n",
    "team_goals_df.plot.bar(x='Team',y='# of goals', title = 'Number of Goals Scored by Team')"
   ]
  },
  {
   "cell_type": "code",
   "execution_count": 44,
   "metadata": {},
   "outputs": [
    {
     "name": "stdout",
     "output_type": "stream",
     "text": [
      "                Name Team  # of Penalties Card Color\n",
      "0  Frédéric Brillant   DC               1          Y\n",
      "1        Joseph Mora   DC               1          Y\n",
      "2      Júnior Moreno   DC               1          Y\n"
     ]
    }
   ],
   "source": [
    "# Who has committed a foul for DC United? \n",
    "Q3 = \"SELECT commits_foul.player, commits_foul.team, count(commits_foul.player),commits_foul.card FROM commits_foul WHERE commits_foul.team = 'DC' GROUP By commits_foul.player\"\n",
    "resultQ3 = cursor.execute(Q3)\n",
    "dc_penalties = resultQ2.fetchall()\n",
    "\n",
    "dc_penalty_df = pd.DataFrame(dc_penalties,columns = ['Name','Team','# of Penalties','Card Color'])\n",
    "print(dc_penalty_df)\n"
   ]
  },
  {
   "cell_type": "code",
   "execution_count": 47,
   "metadata": {},
   "outputs": [],
   "source": [
    "cursor.close()"
   ]
  },
  {
   "cell_type": "code",
   "execution_count": null,
   "metadata": {},
   "outputs": [],
   "source": []
  }
 ],
 "metadata": {
  "colab": {
   "collapsed_sections": [],
   "name": "Mini_Project.ipynb",
   "provenance": []
  },
  "kernelspec": {
   "display_name": "Python 3",
   "language": "python",
   "name": "python3"
  },
  "language_info": {
   "codemirror_mode": {
    "name": "ipython",
    "version": 3
   },
   "file_extension": ".py",
   "mimetype": "text/x-python",
   "name": "python",
   "nbconvert_exporter": "python",
   "pygments_lexer": "ipython3",
   "version": "3.8.3"
  }
 },
 "nbformat": 4,
 "nbformat_minor": 1
}
